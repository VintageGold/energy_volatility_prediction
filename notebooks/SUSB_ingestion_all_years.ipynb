{
  "nbformat": 4,
  "nbformat_minor": 0,
  "metadata": {
    "colab": {
      "name": "SUSB_ingestion_all_years.ipynb",
      "provenance": [],
      "collapsed_sections": [],
      "include_colab_link": true
    },
    "kernelspec": {
      "display_name": "Python 3",
      "name": "python3"
    },
    "language_info": {
      "name": "python"
    }
  },
  "cells": [
    {
      "cell_type": "markdown",
      "metadata": {
        "id": "view-in-github",
        "colab_type": "text"
      },
      "source": [
        "<a href=\"https://colab.research.google.com/github/harperd17/energy_volatility_prediction/blob/main/notebooks/SUSB_ingestion_all_years.ipynb\" target=\"_parent\"><img src=\"https://colab.research.google.com/assets/colab-badge.svg\" alt=\"Open In Colab\"/></a>"
      ]
    },
    {
      "cell_type": "markdown",
      "metadata": {
        "id": "0M4Cc2F_DO7_"
      },
      "source": [
        "# Gather Data 2001 - 2018 from SUSB for back fill of electric accounts"
      ]
    },
    {
      "cell_type": "code",
      "metadata": {
        "id": "tfv_JvZ8XzUy",
        "colab": {
          "base_uri": "https://localhost:8080/"
        },
        "outputId": "13d013b8-d317-4d3b-b5cd-21c83d24c198"
      },
      "source": [
        "import pandas as pd\n",
        "import numpy as np\n",
        "from tqdm import tqdm\n",
        "import spacy\n",
        "\n",
        "import requests\n",
        "import xlrd\n",
        "import urllib\n",
        "from google.colab import drive\n",
        "\n",
        "!pip install us\n",
        "import us"
      ],
      "execution_count": 1,
      "outputs": [
        {
          "output_type": "stream",
          "name": "stdout",
          "text": [
            "Requirement already satisfied: us in /usr/local/lib/python3.7/dist-packages (2.0.2)\n",
            "Requirement already satisfied: jellyfish==0.6.1 in /usr/local/lib/python3.7/dist-packages (from us) (0.6.1)\n"
          ]
        }
      ]
    },
    {
      "cell_type": "code",
      "metadata": {
        "id": "icBlnRMJZ7rR",
        "colab": {
          "base_uri": "https://localhost:8080/"
        },
        "outputId": "99050eea-8a82-4fa9-87bf-3988e7ffdc24"
      },
      "source": [
        "drive.mount('/content/drive/')"
      ],
      "execution_count": 2,
      "outputs": [
        {
          "output_type": "stream",
          "name": "stdout",
          "text": [
            "Mounted at /content/drive/\n"
          ]
        }
      ]
    },
    {
      "cell_type": "markdown",
      "metadata": {
        "id": "N7KFSFXLKioN"
      },
      "source": [
        "## Get the data for each year"
      ]
    },
    {
      "cell_type": "code",
      "metadata": {
        "id": "znZeqpsD_9MP"
      },
      "source": [
        "# this contains the information needed to properly gather the data for each year - this is necessary because the data changes so much year to year\n",
        "metadata = {\n",
        "    '2001':{\n",
        "        'link': 'https://www2.census.gov/programs-surveys/susb/tables/2001/state_naicssector_2001.xls',\n",
        "        'header row':[7],\n",
        "        'columns':['STATE', 'CODE', 'DESCRIPTION', 'DATA TYPE', 'TOTAL', '0',\n",
        "                    '1-4', '5-9', '10-19', '<20', '20-99', '100-499', '<500', '500+']\n",
        "    },\n",
        "    '2002':{\n",
        "        'link':'https://www2.census.gov/programs-surveys/susb/tables/2002/state_naicssector_2002.xls',\n",
        "        'header row':[5,6],\n",
        "        'columns':['STATE','CODE','DESCRIPTION', 'DATA TYPE', 'TOTAL', '0',\n",
        "                    '1-4', '5-9', '10-19', '<20', '20-99', '100-499', '<500', '500+']\n",
        "    },\n",
        "    '2003':{\n",
        "        'link':'https://www2.census.gov/programs-surveys/susb/tables/2003/state_naicssector_2003.xls',\n",
        "        'header row':[7],\n",
        "        'columns':['STATE','CODE','DESCRIPTION', 'DATA TYPE', 'TOTAL', '0',\n",
        "                    '1-4', '5-9', '10-19', '<20', '20-99', '100-499', '<500', '500+']\n",
        "    },\n",
        "    '2004':{\n",
        "        'link':'https://www2.census.gov/programs-surveys/susb/tables/2004/state_naicssector_2004.xls',\n",
        "        'header row':[7],\n",
        "        'columns':['STATE','CODE','DESCRIPTION', 'DATA TYPE', 'TOTAL', '0',\n",
        "                    '1-4', '5-9', '10-19', '<20', '20-99', '100-499', '<500', '500+']\n",
        "    },\n",
        "    '2005':{\n",
        "        'link':'https://www2.census.gov/programs-surveys/susb/tables/2005/state_naicssector_2005.xls',\n",
        "        'header row':[7],\n",
        "        'columns':['STATE', 'CODE', 'DESCRIPTION', 'DATA TYPE', 'TOTAL', '0-4',\n",
        "                    '5-9', '10-19', '<20', '20-99', '100-499', '<500', '500+']\n",
        "    },\n",
        "    '2006':{\n",
        "        'link':'https://www2.census.gov/programs-surveys/susb/tables/2006/state_naicssector_2006.xls',\n",
        "        'header row':[7],\n",
        "        'columns':['STATE','CODE','DESCRIPTION', 'DATA TYPE', 'TOTAL',\n",
        "                    '0-4', '5-9', '10-19', '<20', '20-99', '100-499', '<500', '500+']\n",
        "    },\n",
        "    '2007':{\n",
        "        'link':'https://www2.census.gov/programs-surveys/susb/tables/2007/state_naicssector_2007.xls',\n",
        "        'header row':[5,6],\n",
        "        'columns':['STATE', 'CODE', 'DESCRIPTION', 'SIZE','FIRMS', 'ESTABLISHMENTS',\n",
        "                  'EMPLOYMENT', 'EMPLOYMENT RANGE FLAG','EMPLOYMENT NOISE FLAG', 'PAYROLL', 'PAYROLL NOISE FLAG', 'RECEIPTS','RECEIPTS NOISE FLAG'],\n",
        "        'pivot':True\n",
        "    },\n",
        "    '2008':{\n",
        "        'link':'https://www2.census.gov/programs-surveys/susb/tables/2008/state_naicssector_2008.xls',\n",
        "        'header row':[5],\n",
        "        'columns':['STATE CODE', 'STATE', 'CODE', 'DESCRIPTION', 'SIZE','FIRMS', 'ESTABLISHMENTS', 'EMPLOYMENT', 'RANGE FLAG',\n",
        "                  'NOISE FLAG', '-1000', 'NOISE FLAG.1'],\n",
        "        'pivot':True\n",
        "    },\n",
        "    '2009':{\n",
        "        'link':'https://www2.census.gov/programs-surveys/susb/tables/2009/state_naicssector_2009.xls',\n",
        "        'header row':[4],\n",
        "        'columns':['STATE CODE', 'STATE', 'CODE','DESCRIPTION', 'SIZE', 'FIRMS', 'ESTABLISHMENTS', 'EMPLOYMENT',\n",
        "                  'EMPLOYMENT RANGE FLAG', 'EMPLOYMENT NOISE FLAG', 'ANNUAL PAYROLL ($1,000)', 'ANNUAL PAYROLL NOISE FLAG'],\n",
        "        'pivot':True\n",
        "    },\n",
        "    '2010':{\n",
        "        'link':'https://www2.census.gov/programs-surveys/susb/tables/2010/state_naicssector_2010.xls',\n",
        "        'header row':[4],\n",
        "        'columns':['STATE CODE', 'STATE', 'CODE', 'DESCRIPTION', 'SIZE','FIRMS', 'ESTABLISHMENTS', 'EMPLOYMENT',\n",
        "                'EMPLOYMENT RANGE FLAG', 'EMPLOYMENT NOISE FLAG','ANNUAL PAYROLL ($1,000)', 'ANNUAL PAYROLL NOISE FLAG'],\n",
        "        'pivot':True\n",
        "    },\n",
        "    '2011':{\n",
        "        'link':'https://www2.census.gov/programs-surveys/susb/tables/2011/state_naicssector_2011.xls',\n",
        "        'header row':[4],\n",
        "        'columns':['STATE CODE', 'STATE', 'CODE','DESCRIPTION', 'SIZE','FIRMS', 'ESTABLISHMENTS', 'EMPLOYMENT',\n",
        "                  'EMPLOYMENT RANGE FLAG', 'EMPLOYMENT NOISE FLAG','ANNUAL PAYROLL ($1,000)', 'ANNUAL PAYROLL NOISE FLAG'],\n",
        "       'pivot':True\n",
        "    },\n",
        "    '2012':{\n",
        "        'link':'https://www2.census.gov/programs-surveys/susb/tables/2012/state_naicssector_2012.xls',\n",
        "        'header row':[5],\n",
        "        'columns':['STATE CODE', 'STATE', 'CODE','DESCRIPTION', 'SIZE', 'FIRMS', 'ESTABLISHMENTS', 'EMPLOYMENT',\n",
        "                  'EMPLOYMENT RANGE FLAG', 'EMPLOYMENT NOISE FLAG','ANNUAL PAYROLL ($1,000)', 'ANNUAL PAYROLL NOISE FLAG', 'RECEIPTS      ($1,000)', 'RECEIPTS NOISE FLAG'],\n",
        "        'pivot':True\n",
        "    },\n",
        "    '2013':{\n",
        "        'link':'https://www2.census.gov/programs-surveys/susb/tables/2013/state_naicssector_2013.xlsx',\n",
        "        'header row':[5],\n",
        "        'columns':['STATE CODE', 'STATE', 'CODE','DESCRIPTION', 'SIZE', 'FIRMS', 'ESTABLISHMENTS', 'EMPLOYMENT',\n",
        "                  'EMPLOYMENT RANGE FLAG', 'EMPLOYMENT NOISE FLAG', 'ANNUAL PAYROLL ($1,000)', 'ANNUAL PAYROLL NOISE FLAG'],\n",
        "        'pivot':True\n",
        "    },\n",
        "    '2014':{\n",
        "        'link':'https://www2.census.gov/programs-surveys/susb/tables/2014/state_naicssector_2014.xlsx',\n",
        "        'header row':[5],\n",
        "        'columns':['STATE CODE', 'STATE', 'CODE','DESCRIPTION', 'SIZE','FIRMS', 'ESTABLISHMENTS', 'EMPLOYMENT',\n",
        "                'EMPLOYMENT RANGE FLAG', 'EMPLOYMENT NOISE FLAG','ANNUAL PAYROLL ($1,000)', 'ANNUAL PAYROLL NOISE FLAG'],\n",
        "        'pivot':True\n",
        "    },\n",
        "    '2015':{\n",
        "        'link':'https://www2.census.gov/programs-surveys/susb/tables/2015/state_naicssector_2015.xlsx',\n",
        "        'header row':[5],\n",
        "        'columns':['STATE CODE', 'STATE', 'CODE','DESCRIPTION', 'SIZE','FIRMS', 'ESTABLISHMENTS', 'EMPLOYMENT',\n",
        "                  'EMPLOYMENT RANGE FLAG', 'EMPLOYMENT NOISE FLAG','ANNUAL PAYROLL ($1,000)', 'ANNUAL PAYROLL NOISE FLAG'],\n",
        "        'pivot':True\n",
        "    },\n",
        "    '2016':{\n",
        "        'link':'https://www2.census.gov/programs-surveys/susb/tables/2016/state_naicssector_2016.xlsx',\n",
        "        'header row':[6],\n",
        "        'columns':['STATE CODE', 'STATE', 'CODE','DESCRIPTION', 'SIZE','FIRMS', 'ESTABLISHMENTS', 'EMPLOYMENT',\n",
        "                  'EMPLOYMENT RANGE FLAG', 'EMPLOYMENT NOISE FLAG','ANNUAL PAYROLL ($1,000)', 'ANNUAL PAYROLL NOISE FLAG'],\n",
        "        'pivot':True\n",
        "    },\n",
        "    '2017':{\n",
        "        'link':'https://www2.census.gov/programs-surveys/susb/tables/2017/us_state_6digitnaics_2017.xlsx',\n",
        "        'header row':[2],\n",
        "        'columns':['STATE CODE', 'STATE', 'CODE', 'DESCRIPTION','SIZE', 'FIRMS', 'ESTABLISHMENTS', 'EMPLOYMENT','Employment\\nRange Flag', 'Employment Noise Flag',\n",
        "                   'Annual Payroll\\n($1,000)', 'Annual Payroll Noise Flag','Receipts\\n($1,000)', 'Receipts\\nNoise Flag'],\n",
        "        'pivot':True\n",
        "    },\n",
        "    '2018':{\n",
        "        'link':'https://www2.census.gov/programs-surveys/susb/tables/2018/us_state_6digitnaics_2018.xlsx',\n",
        "        'header row':[2],\n",
        "        'columns':['STATE CODE', 'STATE', 'CODE', 'DESCRIPTION', 'SIZE', 'FIRMS', 'ESTABLISHMENTS', 'EMPLOYMENT',\n",
        "                  'Employment Noise Flag', 'Annual Payroll\\n($1,000)','Annual Payroll Noise Flag'],\n",
        "        'pivot':True\n",
        "    }\n",
        "}"
      ],
      "execution_count": 3,
      "outputs": []
    },
    {
      "cell_type": "code",
      "metadata": {
        "id": "klCe77AsO0sj",
        "colab": {
          "base_uri": "https://localhost:8080/"
        },
        "outputId": "d78803e8-f7e0-4718-e439-5834bafbe286"
      },
      "source": [
        "# go through each year and gather the data and append the df for each year to list\n",
        "all_dfs_raw = []\n",
        "dfs_to_keep_2001_2006 = []\n",
        "dfs_to_keep_2007_2018 = []\n",
        "for year in metadata:\n",
        "  print(year)\n",
        "  year_info = metadata[year]\n",
        "  df = pd.read_excel(year_info['link'],header=year_info['header row'])\n",
        "  df.columns = year_info['columns']\n",
        "  df['YEAR'] = [int(year)]*df.shape[0]\n",
        "  all_dfs_raw.append(df)\n",
        "  if int(year) <= 2006:\n",
        "    dfs_to_keep_2001_2006.append(df[['YEAR','STATE','CODE','DESCRIPTION', 'DATA TYPE', 'TOTAL']].copy())\n",
        "  else:\n",
        "    dfs_to_keep_2007_2018.append(df[['YEAR','STATE', 'CODE','DESCRIPTION', 'SIZE','FIRMS', 'ESTABLISHMENTS', 'EMPLOYMENT']].copy())"
      ],
      "execution_count": 4,
      "outputs": [
        {
          "output_type": "stream",
          "name": "stdout",
          "text": [
            "2001\n",
            "2002\n",
            "2003\n",
            "2004\n",
            "2005\n",
            "2006\n",
            "2007\n",
            "2008\n",
            "2009\n",
            "2010\n",
            "2011\n",
            "2012\n",
            "2013\n",
            "2014\n",
            "2015\n",
            "2016\n",
            "2017\n",
            "2018\n"
          ]
        }
      ]
    },
    {
      "cell_type": "markdown",
      "metadata": {
        "id": "Rfy1Mdpx1stO"
      },
      "source": [
        "### First deal with the 2001-2006 data. I will pivot this data so that the different values (employment, firms, and establishments) are columns instead of taking up a whole row for each"
      ]
    },
    {
      "cell_type": "code",
      "metadata": {
        "id": "XDnZbfk7Tmsk"
      },
      "source": [
        "# append all the 2001 through 2006 data together\n",
        "df_2001_2006 = pd.concat(dfs_to_keep_2001_2006).reset_index(drop=True)\n",
        "# append all the 2007 thorugh 2018 data together\n",
        "df_2007_2018 = pd.concat(dfs_to_keep_2007_2018).reset_index(drop=True)"
      ],
      "execution_count": 5,
      "outputs": []
    },
    {
      "cell_type": "code",
      "metadata": {
        "id": "UkU6T_weT8xN"
      },
      "source": [
        "# I like the representation of having FIRMS, ESTABLISHMENTS, and EMPLOYMENT as their own columns so I will make the 2001 thorugh 2006 data match that representation\n",
        "df_2001_2006 = df_2001_2006.pivot(index=['STATE','DESCRIPTION','YEAR'], columns='DATA TYPE', values='TOTAL').reset_index()"
      ],
      "execution_count": 6,
      "outputs": []
    },
    {
      "cell_type": "code",
      "metadata": {
        "id": "tr74DxZzXSLB"
      },
      "source": [
        "# we don't need all the variables\n",
        "df_2001_2006 = df_2001_2006[['STATE','DESCRIPTION','YEAR','Employment','Establishments','Firms']].copy()"
      ],
      "execution_count": 7,
      "outputs": []
    },
    {
      "cell_type": "code",
      "metadata": {
        "id": "a-OdWgUW1rI4",
        "colab": {
          "base_uri": "https://localhost:8080/",
          "height": 206
        },
        "outputId": "143cb10b-1460-4806-820a-e3e172ee10ad"
      },
      "source": [
        "df_2001_2006.head()"
      ],
      "execution_count": 8,
      "outputs": [
        {
          "output_type": "execute_result",
          "data": {
            "text/html": [
              "<div>\n",
              "<style scoped>\n",
              "    .dataframe tbody tr th:only-of-type {\n",
              "        vertical-align: middle;\n",
              "    }\n",
              "\n",
              "    .dataframe tbody tr th {\n",
              "        vertical-align: top;\n",
              "    }\n",
              "\n",
              "    .dataframe thead th {\n",
              "        text-align: right;\n",
              "    }\n",
              "</style>\n",
              "<table border=\"1\" class=\"dataframe\">\n",
              "  <thead>\n",
              "    <tr style=\"text-align: right;\">\n",
              "      <th>DATA TYPE</th>\n",
              "      <th>STATE</th>\n",
              "      <th>DESCRIPTION</th>\n",
              "      <th>YEAR</th>\n",
              "      <th>Employment</th>\n",
              "      <th>Establishments</th>\n",
              "      <th>Firms</th>\n",
              "    </tr>\n",
              "  </thead>\n",
              "  <tbody>\n",
              "    <tr>\n",
              "      <th>0</th>\n",
              "      <td>Alabama</td>\n",
              "      <td>Accommodation &amp; foodservices</td>\n",
              "      <td>2001</td>\n",
              "      <td>127776</td>\n",
              "      <td>6870</td>\n",
              "      <td>4697</td>\n",
              "    </tr>\n",
              "    <tr>\n",
              "      <th>1</th>\n",
              "      <td>Alabama</td>\n",
              "      <td>Accommodation &amp; foodservices</td>\n",
              "      <td>2002</td>\n",
              "      <td>128964</td>\n",
              "      <td>7070</td>\n",
              "      <td>4801</td>\n",
              "    </tr>\n",
              "    <tr>\n",
              "      <th>2</th>\n",
              "      <td>Alabama</td>\n",
              "      <td>Accommodation and Food Services</td>\n",
              "      <td>2003</td>\n",
              "      <td>139440</td>\n",
              "      <td>7178</td>\n",
              "      <td>4918</td>\n",
              "    </tr>\n",
              "    <tr>\n",
              "      <th>3</th>\n",
              "      <td>Alabama</td>\n",
              "      <td>Accommodation and Food Services</td>\n",
              "      <td>2004</td>\n",
              "      <td>141442</td>\n",
              "      <td>7292</td>\n",
              "      <td>5089</td>\n",
              "    </tr>\n",
              "    <tr>\n",
              "      <th>4</th>\n",
              "      <td>Alabama</td>\n",
              "      <td>Accommodation and Food Services</td>\n",
              "      <td>2005</td>\n",
              "      <td>145447</td>\n",
              "      <td>7529</td>\n",
              "      <td>5256</td>\n",
              "    </tr>\n",
              "  </tbody>\n",
              "</table>\n",
              "</div>"
            ],
            "text/plain": [
              "DATA TYPE    STATE                      DESCRIPTION  ...  Establishments Firms\n",
              "0          Alabama     Accommodation & foodservices  ...            6870  4697\n",
              "1          Alabama     Accommodation & foodservices  ...            7070  4801\n",
              "2          Alabama  Accommodation and Food Services  ...            7178  4918\n",
              "3          Alabama  Accommodation and Food Services  ...            7292  5089\n",
              "4          Alabama  Accommodation and Food Services  ...            7529  5256\n",
              "\n",
              "[5 rows x 6 columns]"
            ]
          },
          "metadata": {},
          "execution_count": 8
        }
      ]
    },
    {
      "cell_type": "code",
      "metadata": {
        "id": "Oi157nP_53xm",
        "colab": {
          "base_uri": "https://localhost:8080/"
        },
        "outputId": "5f9d49c7-51ef-4ab5-e3ae-c5137114bcea"
      },
      "source": [
        "df_2001_2006.isnull().sum()"
      ],
      "execution_count": 9,
      "outputs": [
        {
          "output_type": "execute_result",
          "data": {
            "text/plain": [
              "DATA TYPE\n",
              "STATE             0\n",
              "DESCRIPTION       0\n",
              "YEAR              0\n",
              "Employment        0\n",
              "Establishments    0\n",
              "Firms             0\n",
              "dtype: int64"
            ]
          },
          "metadata": {},
          "execution_count": 9
        }
      ]
    },
    {
      "cell_type": "markdown",
      "metadata": {
        "id": "xc7txePU2F3x"
      },
      "source": [
        "## Now deal with the 2007-2018 data. For these I only want to keep the \"total\" and get rid of the other breakdowns such as 0-4, 5-9, ...500+."
      ]
    },
    {
      "cell_type": "code",
      "metadata": {
        "id": "vc7SVcoxXojN",
        "colab": {
          "base_uri": "https://localhost:8080/"
        },
        "outputId": "93cc4756-16ba-4090-a686-f38b9900423d"
      },
      "source": [
        "# first I need to inspect the unique ways that establishment size have been written out over the years. It looks like I just need to search for 'total' being in the name (as lower case)\n",
        "df_2007_2018['SIZE'].unique()"
      ],
      "execution_count": 10,
      "outputs": [
        {
          "output_type": "execute_result",
          "data": {
            "text/plain": [
              "array(['1:   Total', '2:   0-4', '3:   5-9', '4:   10-19', '5:   <20',\n",
              "       '6:   20-99', '7:   100-499', '8:   <500', '9:   500+', nan,\n",
              "       '01:  Total', '02:  0-4', '03:  5-9', '04:  10-19', '05:  <20',\n",
              "       '06:  20-99', '07:  100-499', '08:  <500', '09:  500+',\n",
              "       '01: Total', '02: <5 employees', '03: 5-9 employees',\n",
              "       '04: 10-19 employees', '05: <20 employees', '06: 20-99 employees',\n",
              "       '07: 100-499 employees', '08: <500 employees',\n",
              "       '09: 500+ employees'], dtype=object)"
            ]
          },
          "metadata": {},
          "execution_count": 10
        }
      ]
    },
    {
      "cell_type": "code",
      "metadata": {
        "id": "oh4oMOjyXiAp"
      },
      "source": [
        "# I will now make a new column that determines if 'total' is in the lower case string for each value in the SIZE column. Then I will subset based on that\n",
        "df_2007_2018['Total Size'] = df_2007_2018['SIZE'].str.lower().str.contains('total')\n",
        "# some of the years of data had a few blank rows below the header which results in 16 n/a values in this 'Total Size' column (they are n/a everywhere else too) so I will make those False too so they go away\n",
        "df_2007_2018['Total Size'] = df_2007_2018['Total Size'].fillna(False)\n",
        "# subset to where the row is for total and only keep a subset of the columns\n",
        "df_2007_2018 = df_2007_2018[df_2007_2018['Total Size']][['YEAR','STATE','DESCRIPTION','FIRMS','ESTABLISHMENTS','EMPLOYMENT']]"
      ],
      "execution_count": 11,
      "outputs": []
    },
    {
      "cell_type": "code",
      "metadata": {
        "id": "KofPqkIN3EpY"
      },
      "source": [
        "# now the column names need to be consistent with the column names for the 2001-2006 data\n",
        "df_2007_2018.columns = ['YEAR','STATE','DESCRIPTION','Firms','Establishments','Employment']"
      ],
      "execution_count": 12,
      "outputs": []
    },
    {
      "cell_type": "code",
      "metadata": {
        "id": "MjE-cyG9Znjx",
        "colab": {
          "base_uri": "https://localhost:8080/",
          "height": 206
        },
        "outputId": "9d7272f6-8f31-4c0b-8a33-8274063f13b4"
      },
      "source": [
        "df_2007_2018.head()"
      ],
      "execution_count": 13,
      "outputs": [
        {
          "output_type": "execute_result",
          "data": {
            "text/html": [
              "<div>\n",
              "<style scoped>\n",
              "    .dataframe tbody tr th:only-of-type {\n",
              "        vertical-align: middle;\n",
              "    }\n",
              "\n",
              "    .dataframe tbody tr th {\n",
              "        vertical-align: top;\n",
              "    }\n",
              "\n",
              "    .dataframe thead th {\n",
              "        text-align: right;\n",
              "    }\n",
              "</style>\n",
              "<table border=\"1\" class=\"dataframe\">\n",
              "  <thead>\n",
              "    <tr style=\"text-align: right;\">\n",
              "      <th></th>\n",
              "      <th>YEAR</th>\n",
              "      <th>STATE</th>\n",
              "      <th>DESCRIPTION</th>\n",
              "      <th>Firms</th>\n",
              "      <th>Establishments</th>\n",
              "      <th>Employment</th>\n",
              "    </tr>\n",
              "  </thead>\n",
              "  <tbody>\n",
              "    <tr>\n",
              "      <th>0</th>\n",
              "      <td>2007</td>\n",
              "      <td>Alabama</td>\n",
              "      <td>Total</td>\n",
              "      <td>81565.0</td>\n",
              "      <td>105627.0</td>\n",
              "      <td>1722834.0</td>\n",
              "    </tr>\n",
              "    <tr>\n",
              "      <th>9</th>\n",
              "      <td>2007</td>\n",
              "      <td>Alabama</td>\n",
              "      <td>Forestry, Fishing, Hunting, and Agriculture Su...</td>\n",
              "      <td>909.0</td>\n",
              "      <td>929.0</td>\n",
              "      <td>7110.0</td>\n",
              "    </tr>\n",
              "    <tr>\n",
              "      <th>18</th>\n",
              "      <td>2007</td>\n",
              "      <td>Alabama</td>\n",
              "      <td>Mining</td>\n",
              "      <td>206.0</td>\n",
              "      <td>258.0</td>\n",
              "      <td>8033.0</td>\n",
              "    </tr>\n",
              "    <tr>\n",
              "      <th>27</th>\n",
              "      <td>2007</td>\n",
              "      <td>Alabama</td>\n",
              "      <td>Utilities</td>\n",
              "      <td>99.0</td>\n",
              "      <td>389.0</td>\n",
              "      <td>15439.0</td>\n",
              "    </tr>\n",
              "    <tr>\n",
              "      <th>36</th>\n",
              "      <td>2007</td>\n",
              "      <td>Alabama</td>\n",
              "      <td>Construction</td>\n",
              "      <td>10334.0</td>\n",
              "      <td>10459.0</td>\n",
              "      <td>114256.0</td>\n",
              "    </tr>\n",
              "  </tbody>\n",
              "</table>\n",
              "</div>"
            ],
            "text/plain": [
              "    YEAR    STATE  ... Establishments  Employment\n",
              "0   2007  Alabama  ...       105627.0   1722834.0\n",
              "9   2007  Alabama  ...          929.0      7110.0\n",
              "18  2007  Alabama  ...          258.0      8033.0\n",
              "27  2007  Alabama  ...          389.0     15439.0\n",
              "36  2007  Alabama  ...        10459.0    114256.0\n",
              "\n",
              "[5 rows x 6 columns]"
            ]
          },
          "metadata": {},
          "execution_count": 13
        }
      ]
    },
    {
      "cell_type": "code",
      "metadata": {
        "id": "X0bALT2c57tk",
        "colab": {
          "base_uri": "https://localhost:8080/"
        },
        "outputId": "2725d912-905a-4237-8b40-073b6bbd6b5a"
      },
      "source": [
        "df_2007_2018.isnull().sum()"
      ],
      "execution_count": 14,
      "outputs": [
        {
          "output_type": "execute_result",
          "data": {
            "text/plain": [
              "YEAR              0\n",
              "STATE             0\n",
              "DESCRIPTION       0\n",
              "Firms             0\n",
              "Establishments    0\n",
              "Employment        0\n",
              "dtype: int64"
            ]
          },
          "metadata": {},
          "execution_count": 14
        }
      ]
    },
    {
      "cell_type": "markdown",
      "metadata": {
        "id": "yPzPX5hb3RE3"
      },
      "source": [
        "## Concatenate the dataframes to get a dataframe with years 2001-2018 of data"
      ]
    },
    {
      "cell_type": "code",
      "metadata": {
        "id": "pQFTm67SZ6NH"
      },
      "source": [
        "# concatenate the two sets of years of data\n",
        "all_years_df = pd.concat([df_2001_2006, df_2007_2018]).reset_index(drop=True)"
      ],
      "execution_count": 15,
      "outputs": []
    },
    {
      "cell_type": "code",
      "metadata": {
        "id": "iNcRSFzy3Xqj",
        "colab": {
          "base_uri": "https://localhost:8080/"
        },
        "outputId": "af75bb63-644d-44d6-ea67-8f87e280527d"
      },
      "source": [
        "# some of the data types are just objects and that's because the data has random letters in the numeric fields for some of the rows\n",
        "# I think these should be replaced with n/a's\n",
        "all_years_df.dtypes"
      ],
      "execution_count": 16,
      "outputs": [
        {
          "output_type": "execute_result",
          "data": {
            "text/plain": [
              "STATE             object\n",
              "DESCRIPTION       object\n",
              "YEAR               int64\n",
              "Employment        object\n",
              "Establishments    object\n",
              "Firms             object\n",
              "dtype: object"
            ]
          },
          "metadata": {},
          "execution_count": 16
        }
      ]
    },
    {
      "cell_type": "code",
      "metadata": {
        "id": "fXspf4YS3kGv"
      },
      "source": [
        "# this function will find all the non numeric values in a column and then replace them with n/a so that the field can become numeric\n",
        "def replace_non_numeric(df):\n",
        "  non_numeric = []\n",
        "  for col in df.columns:\n",
        "    for i in range(df.shape[0]):\n",
        "      try:\n",
        "        float(df[col].iloc[i]) \n",
        "      except:\n",
        "        non_numeric.append(df[col].iloc[i])\n",
        "  return df.replace(np.unique(non_numeric),np.nan)"
      ],
      "execution_count": 17,
      "outputs": []
    },
    {
      "cell_type": "code",
      "metadata": {
        "id": "QwC7tPIo3wCB"
      },
      "source": [
        "# the columns that should be numeric are Employment, Establishments, and Firms\n",
        "all_years_df[['Establishments','Firms','Employment']] = replace_non_numeric(all_years_df[['Establishments','Firms','Employment']].copy())"
      ],
      "execution_count": 18,
      "outputs": []
    },
    {
      "cell_type": "code",
      "metadata": {
        "id": "KmakOkaGurh0",
        "colab": {
          "base_uri": "https://localhost:8080/",
          "height": 424
        },
        "outputId": "a7e23726-f1c3-4208-a8bc-841c7ff00197"
      },
      "source": [
        "all_years_df"
      ],
      "execution_count": 19,
      "outputs": [
        {
          "output_type": "execute_result",
          "data": {
            "text/html": [
              "<div>\n",
              "<style scoped>\n",
              "    .dataframe tbody tr th:only-of-type {\n",
              "        vertical-align: middle;\n",
              "    }\n",
              "\n",
              "    .dataframe tbody tr th {\n",
              "        vertical-align: top;\n",
              "    }\n",
              "\n",
              "    .dataframe thead th {\n",
              "        text-align: right;\n",
              "    }\n",
              "</style>\n",
              "<table border=\"1\" class=\"dataframe\">\n",
              "  <thead>\n",
              "    <tr style=\"text-align: right;\">\n",
              "      <th></th>\n",
              "      <th>STATE</th>\n",
              "      <th>DESCRIPTION</th>\n",
              "      <th>YEAR</th>\n",
              "      <th>Employment</th>\n",
              "      <th>Establishments</th>\n",
              "      <th>Firms</th>\n",
              "    </tr>\n",
              "  </thead>\n",
              "  <tbody>\n",
              "    <tr>\n",
              "      <th>0</th>\n",
              "      <td>Alabama</td>\n",
              "      <td>Accommodation &amp; foodservices</td>\n",
              "      <td>2001</td>\n",
              "      <td>127776.0</td>\n",
              "      <td>6870.0</td>\n",
              "      <td>4697.0</td>\n",
              "    </tr>\n",
              "    <tr>\n",
              "      <th>1</th>\n",
              "      <td>Alabama</td>\n",
              "      <td>Accommodation &amp; foodservices</td>\n",
              "      <td>2002</td>\n",
              "      <td>128964.0</td>\n",
              "      <td>7070.0</td>\n",
              "      <td>4801.0</td>\n",
              "    </tr>\n",
              "    <tr>\n",
              "      <th>2</th>\n",
              "      <td>Alabama</td>\n",
              "      <td>Accommodation and Food Services</td>\n",
              "      <td>2003</td>\n",
              "      <td>139440.0</td>\n",
              "      <td>7178.0</td>\n",
              "      <td>4918.0</td>\n",
              "    </tr>\n",
              "    <tr>\n",
              "      <th>3</th>\n",
              "      <td>Alabama</td>\n",
              "      <td>Accommodation and Food Services</td>\n",
              "      <td>2004</td>\n",
              "      <td>141442.0</td>\n",
              "      <td>7292.0</td>\n",
              "      <td>5089.0</td>\n",
              "    </tr>\n",
              "    <tr>\n",
              "      <th>4</th>\n",
              "      <td>Alabama</td>\n",
              "      <td>Accommodation and Food Services</td>\n",
              "      <td>2005</td>\n",
              "      <td>145447.0</td>\n",
              "      <td>7529.0</td>\n",
              "      <td>5256.0</td>\n",
              "    </tr>\n",
              "    <tr>\n",
              "      <th>...</th>\n",
              "      <td>...</td>\n",
              "      <td>...</td>\n",
              "      <td>...</td>\n",
              "      <td>...</td>\n",
              "      <td>...</td>\n",
              "      <td>...</td>\n",
              "    </tr>\n",
              "    <tr>\n",
              "      <th>189898</th>\n",
              "      <td>Wyoming</td>\n",
              "      <td>Political Organizations</td>\n",
              "      <td>2018</td>\n",
              "      <td>34.0</td>\n",
              "      <td>13.0</td>\n",
              "      <td>13.0</td>\n",
              "    </tr>\n",
              "    <tr>\n",
              "      <th>189899</th>\n",
              "      <td>Wyoming</td>\n",
              "      <td>Political Organizations</td>\n",
              "      <td>2018</td>\n",
              "      <td>34.0</td>\n",
              "      <td>13.0</td>\n",
              "      <td>13.0</td>\n",
              "    </tr>\n",
              "    <tr>\n",
              "      <th>189900</th>\n",
              "      <td>Wyoming</td>\n",
              "      <td>Other Similar Organizations (except Business, ...</td>\n",
              "      <td>2018</td>\n",
              "      <td>70.0</td>\n",
              "      <td>18.0</td>\n",
              "      <td>18.0</td>\n",
              "    </tr>\n",
              "    <tr>\n",
              "      <th>189901</th>\n",
              "      <td>Wyoming</td>\n",
              "      <td>Other Similar Organizations (except Business, ...</td>\n",
              "      <td>2018</td>\n",
              "      <td>70.0</td>\n",
              "      <td>18.0</td>\n",
              "      <td>18.0</td>\n",
              "    </tr>\n",
              "    <tr>\n",
              "      <th>189902</th>\n",
              "      <td>Wyoming</td>\n",
              "      <td>Industries not classified</td>\n",
              "      <td>2018</td>\n",
              "      <td>82.0</td>\n",
              "      <td>74.0</td>\n",
              "      <td>74.0</td>\n",
              "    </tr>\n",
              "  </tbody>\n",
              "</table>\n",
              "<p>189903 rows × 6 columns</p>\n",
              "</div>"
            ],
            "text/plain": [
              "          STATE  ...   Firms\n",
              "0       Alabama  ...  4697.0\n",
              "1       Alabama  ...  4801.0\n",
              "2       Alabama  ...  4918.0\n",
              "3       Alabama  ...  5089.0\n",
              "4       Alabama  ...  5256.0\n",
              "...         ...  ...     ...\n",
              "189898  Wyoming  ...    13.0\n",
              "189899  Wyoming  ...    13.0\n",
              "189900  Wyoming  ...    18.0\n",
              "189901  Wyoming  ...    18.0\n",
              "189902  Wyoming  ...    74.0\n",
              "\n",
              "[189903 rows x 6 columns]"
            ]
          },
          "metadata": {},
          "execution_count": 19
        }
      ]
    },
    {
      "cell_type": "markdown",
      "metadata": {
        "id": "FxTd4WFjFXJt"
      },
      "source": [
        "# Classification Tagging"
      ]
    },
    {
      "cell_type": "code",
      "metadata": {
        "id": "6eQbdGp6EhQh",
        "colab": {
          "base_uri": "https://localhost:8080/"
        },
        "outputId": "09c642c7-de99-451b-c33e-4df4c5d42c03"
      },
      "source": [
        "nlp = spacy.load(\"en_core_web_sm\") \n",
        "\n",
        "def lemmatize(description) -> list():\n",
        "\n",
        "    for token in doc:\n",
        "        token_lemma_list.append(token.lemma_.lower())\n",
        "\n",
        "    return token_lemma_list\n",
        "\n",
        "\n",
        "description_lemma_dict = dict()\n",
        "\n",
        "#Iterate through unique description, get lemma and lower description add to dict\n",
        "unique_descriptions = all_years_df[\"DESCRIPTION\"].unique()\n",
        "\n",
        "\n",
        "for description in tqdm(unique_descriptions):\n",
        "    #Turns description in to an interable token list with attrs such as lemma\n",
        "    doc = nlp(description)\n",
        "    \n",
        "    #Keeps trak of current tokens already lemmatized and lower\n",
        "    token_lemma_list = list()\n",
        "    \n",
        "    #Iterate through each token in doc\n",
        "    for token in doc:\n",
        "        \n",
        "        token_lemma_list.append(token.lemma_.lower())\n",
        "    \n",
        "    description_lemma_dict.update({description:\" \".join(token_lemma_list)})\n",
        "\n",
        "all_years_df[\"Description_Lemma_Lower\"] = all_years_df[\"DESCRIPTION\"].apply(lambda description: description_lemma_dict[description])\n",
        "all_years_df[\"Description_Lower\"] = all_years_df[\"DESCRIPTION\"].str.lower()\n",
        "\n"
      ],
      "execution_count": 21,
      "outputs": [
        {
          "output_type": "stream",
          "name": "stderr",
          "text": [
            "100%|██████████| 1411/1411 [00:12<00:00, 112.75it/s]\n"
          ]
        }
      ]
    },
    {
      "cell_type": "code",
      "metadata": {
        "id": "FZoon7uqFq-6"
      },
      "source": [
        "# now add the classifications to the dataframe\n",
        "def assign_classification(tokens,industry_words,commerical_words):\n",
        "    try:\n",
        "        for token in tokens.split(\" \"):\n",
        "\n",
        "            for ind_token in industry_words:\n",
        "\n",
        "                if ind_token in token:\n",
        "\n",
        "                    return \"IND\"\n",
        "\n",
        "            for com_token in commerical_words:\n",
        "\n",
        "                    if com_token in token:\n",
        "                        \n",
        "                        return \"COM\"\n",
        "        \n",
        "        return \"OTH\"\n",
        "\n",
        "    except:\n",
        "        return \"Not Found\"\n"
      ],
      "execution_count": 22,
      "outputs": []
    },
    {
      "cell_type": "code",
      "metadata": {
        "id": "xrszRtgiFt2F",
        "colab": {
          "base_uri": "https://localhost:8080/",
          "height": 309
        },
        "outputId": "43a83f5a-9ea6-4192-db49-c770ca3b8f68"
      },
      "source": [
        "# Words to classification description as IND\n",
        "industry_tokens = [\"mining\",\"mill\",\"manufacture\",\"industrial\",\"material\",\"chemical\",\"part\",\"unit\",\"machine\",\"manufacturing\"\n",
        "                    ,\"fuel\",\"water\",\"electric\",\"generate\",\"quarry\",\"industrial\",\"facil\",\"equipment\",\"metal\",\"freight\"\n",
        "                ]\n",
        "\n",
        "\n",
        "# Words to classification description as COM\n",
        "commerical_tokens = [\"service\",\"sale\",\"admin\",\"office\",\"wholesaler\",\"financ\"\n",
        "                    ,\"store\",\"clothing\",\"support\",\"salon\",\"broadcast\",\"intermediat\",\"agency\",\"dealer\"\n",
        "                    ,\"appraiser\",\"telecommunication\",\"sell\",\"bank\",\"repair\",\"school\",\"commercial\",\"merchandise\", \"professional\"\n",
        "                    ,\"advertis\",\"publisher\",\"agency\",\"contractor\",\"research\",\"real\",\"estate\",\"social\",\"markets\",\"information\",\"insurance\",\"trade\"\n",
        "                    ,\"hospitals\",\"rental\",\"construction\"]\n",
        "\n",
        "\n",
        "\n",
        "all_years_df[\"Classification_Lower\"] = (all_years_df[\"Description_Lower\"]\n",
        "                                 .apply(lambda description: assign_classification(description,industry_tokens,commerical_tokens))\n",
        "                                 \n",
        "                                 )\n",
        "\n",
        "all_years_df[\"Classification_Lemma_Lower\"] = (all_years_df[\"Description_Lemma_Lower\"]\n",
        "                                 .apply(lambda description: assign_classification(description,industry_tokens,commerical_tokens))\n",
        "\n",
        "                                    )\n",
        "\n",
        "\n",
        "\n",
        "_ = (all_years_df[[\"Classification_Lower\",\"Classification_Lemma_Lower\",\"STATE\"]].groupby('Classification_Lower').count()\n",
        ".rename(columns={\"STATE\":\"Count\"})\n",
        ".sort_values(\"Count\",ascending=False)\n",
        ").plot(kind=\"bar\",title=\"Classification Count - Lower\")"
      ],
      "execution_count": 23,
      "outputs": [
        {
          "output_type": "display_data",
          "data": {
            "image/png": "[encoded data removed]",
            "text/plain": [
              "<Figure size 432x288 with 1 Axes>"
            ]
          },
          "metadata": {
            "needs_background": "light"
          }
        }
      ]
    },
    {
      "cell_type": "code",
      "metadata": {
        "colab": {
          "base_uri": "https://localhost:8080/",
          "height": 424
        },
        "id": "JtrvnF2ZMZ3n",
        "outputId": "f47c5963-5ea5-42f5-94d2-0eab6c8fddb4"
      },
      "source": [
        "all_years_df"
      ],
      "execution_count": 28,
      "outputs": [
        {
          "output_type": "execute_result",
          "data": {
            "text/html": [
              "<div>\n",
              "<style scoped>\n",
              "    .dataframe tbody tr th:only-of-type {\n",
              "        vertical-align: middle;\n",
              "    }\n",
              "\n",
              "    .dataframe tbody tr th {\n",
              "        vertical-align: top;\n",
              "    }\n",
              "\n",
              "    .dataframe thead th {\n",
              "        text-align: right;\n",
              "    }\n",
              "</style>\n",
              "<table border=\"1\" class=\"dataframe\">\n",
              "  <thead>\n",
              "    <tr style=\"text-align: right;\">\n",
              "      <th></th>\n",
              "      <th>STATE</th>\n",
              "      <th>DESCRIPTION</th>\n",
              "      <th>YEAR</th>\n",
              "      <th>Employment</th>\n",
              "      <th>Establishments</th>\n",
              "      <th>Firms</th>\n",
              "      <th>Description_Lemma_Lower</th>\n",
              "      <th>Description_Lower</th>\n",
              "      <th>Classification_Lower</th>\n",
              "      <th>Classification_Lemma_Lower</th>\n",
              "    </tr>\n",
              "  </thead>\n",
              "  <tbody>\n",
              "    <tr>\n",
              "      <th>0</th>\n",
              "      <td>AL</td>\n",
              "      <td>Accommodation &amp; foodservices</td>\n",
              "      <td>2001</td>\n",
              "      <td>127776.0</td>\n",
              "      <td>6870.0</td>\n",
              "      <td>4697.0</td>\n",
              "      <td>accommodation &amp; foodservice</td>\n",
              "      <td>accommodation &amp; foodservices</td>\n",
              "      <td>COM</td>\n",
              "      <td>COM</td>\n",
              "    </tr>\n",
              "    <tr>\n",
              "      <th>1</th>\n",
              "      <td>AL</td>\n",
              "      <td>Accommodation &amp; foodservices</td>\n",
              "      <td>2002</td>\n",
              "      <td>128964.0</td>\n",
              "      <td>7070.0</td>\n",
              "      <td>4801.0</td>\n",
              "      <td>accommodation &amp; foodservice</td>\n",
              "      <td>accommodation &amp; foodservices</td>\n",
              "      <td>COM</td>\n",
              "      <td>COM</td>\n",
              "    </tr>\n",
              "    <tr>\n",
              "      <th>2</th>\n",
              "      <td>AL</td>\n",
              "      <td>Accommodation and Food Services</td>\n",
              "      <td>2003</td>\n",
              "      <td>139440.0</td>\n",
              "      <td>7178.0</td>\n",
              "      <td>4918.0</td>\n",
              "      <td>accommodation and food services</td>\n",
              "      <td>accommodation and food services</td>\n",
              "      <td>COM</td>\n",
              "      <td>COM</td>\n",
              "    </tr>\n",
              "    <tr>\n",
              "      <th>3</th>\n",
              "      <td>AL</td>\n",
              "      <td>Accommodation and Food Services</td>\n",
              "      <td>2004</td>\n",
              "      <td>141442.0</td>\n",
              "      <td>7292.0</td>\n",
              "      <td>5089.0</td>\n",
              "      <td>accommodation and food services</td>\n",
              "      <td>accommodation and food services</td>\n",
              "      <td>COM</td>\n",
              "      <td>COM</td>\n",
              "    </tr>\n",
              "    <tr>\n",
              "      <th>4</th>\n",
              "      <td>AL</td>\n",
              "      <td>Accommodation and Food Services</td>\n",
              "      <td>2005</td>\n",
              "      <td>145447.0</td>\n",
              "      <td>7529.0</td>\n",
              "      <td>5256.0</td>\n",
              "      <td>accommodation and food services</td>\n",
              "      <td>accommodation and food services</td>\n",
              "      <td>COM</td>\n",
              "      <td>COM</td>\n",
              "    </tr>\n",
              "    <tr>\n",
              "      <th>...</th>\n",
              "      <td>...</td>\n",
              "      <td>...</td>\n",
              "      <td>...</td>\n",
              "      <td>...</td>\n",
              "      <td>...</td>\n",
              "      <td>...</td>\n",
              "      <td>...</td>\n",
              "      <td>...</td>\n",
              "      <td>...</td>\n",
              "      <td>...</td>\n",
              "    </tr>\n",
              "    <tr>\n",
              "      <th>189898</th>\n",
              "      <td>WY</td>\n",
              "      <td>Political Organizations</td>\n",
              "      <td>2018</td>\n",
              "      <td>34.0</td>\n",
              "      <td>13.0</td>\n",
              "      <td>13.0</td>\n",
              "      <td>political organization</td>\n",
              "      <td>political organizations</td>\n",
              "      <td>OTH</td>\n",
              "      <td>OTH</td>\n",
              "    </tr>\n",
              "    <tr>\n",
              "      <th>189899</th>\n",
              "      <td>WY</td>\n",
              "      <td>Political Organizations</td>\n",
              "      <td>2018</td>\n",
              "      <td>34.0</td>\n",
              "      <td>13.0</td>\n",
              "      <td>13.0</td>\n",
              "      <td>political organization</td>\n",
              "      <td>political organizations</td>\n",
              "      <td>OTH</td>\n",
              "      <td>OTH</td>\n",
              "    </tr>\n",
              "    <tr>\n",
              "      <th>189900</th>\n",
              "      <td>WY</td>\n",
              "      <td>Other Similar Organizations (except Business, ...</td>\n",
              "      <td>2018</td>\n",
              "      <td>70.0</td>\n",
              "      <td>18.0</td>\n",
              "      <td>18.0</td>\n",
              "      <td>other similar organization ( except business ,...</td>\n",
              "      <td>other similar organizations (except business, ...</td>\n",
              "      <td>COM</td>\n",
              "      <td>COM</td>\n",
              "    </tr>\n",
              "    <tr>\n",
              "      <th>189901</th>\n",
              "      <td>WY</td>\n",
              "      <td>Other Similar Organizations (except Business, ...</td>\n",
              "      <td>2018</td>\n",
              "      <td>70.0</td>\n",
              "      <td>18.0</td>\n",
              "      <td>18.0</td>\n",
              "      <td>other similar organization ( except business ,...</td>\n",
              "      <td>other similar organizations (except business, ...</td>\n",
              "      <td>COM</td>\n",
              "      <td>COM</td>\n",
              "    </tr>\n",
              "    <tr>\n",
              "      <th>189902</th>\n",
              "      <td>WY</td>\n",
              "      <td>Industries not classified</td>\n",
              "      <td>2018</td>\n",
              "      <td>82.0</td>\n",
              "      <td>74.0</td>\n",
              "      <td>74.0</td>\n",
              "      <td>industry not classify</td>\n",
              "      <td>industries not classified</td>\n",
              "      <td>OTH</td>\n",
              "      <td>OTH</td>\n",
              "    </tr>\n",
              "  </tbody>\n",
              "</table>\n",
              "<p>185897 rows × 10 columns</p>\n",
              "</div>"
            ],
            "text/plain": [
              "       STATE  ... Classification_Lemma_Lower\n",
              "0         AL  ...                        COM\n",
              "1         AL  ...                        COM\n",
              "2         AL  ...                        COM\n",
              "3         AL  ...                        COM\n",
              "4         AL  ...                        COM\n",
              "...      ...  ...                        ...\n",
              "189898    WY  ...                        OTH\n",
              "189899    WY  ...                        OTH\n",
              "189900    WY  ...                        COM\n",
              "189901    WY  ...                        COM\n",
              "189902    WY  ...                        OTH\n",
              "\n",
              "[185897 rows x 10 columns]"
            ]
          },
          "metadata": {},
          "execution_count": 28
        }
      ]
    },
    {
      "cell_type": "code",
      "metadata": {
        "id": "CK4rV-vxFlxC",
        "colab": {
          "base_uri": "https://localhost:8080/",
          "height": 1000
        },
        "outputId": "7a5c6ede-c5da-44d1-a76c-4596d386924c"
      },
      "source": [
        "\n",
        "# Most frequently used words in OTH description\n",
        "\n",
        "description_list = all_years_df.query('Classification_Lemma_Lower == \"OTH\"')[\"Description_Lemma_Lower\"].to_list()\n",
        "\n",
        "count_dictionary = dict()\n",
        "\n",
        "\n",
        "for description in description_list:\n",
        "\n",
        "    for token in description.split(\" \"):\n",
        "\n",
        "        if token.strip() in count_dictionary.keys():\n",
        "\n",
        "            count_dictionary[token] += 1\n",
        "\n",
        "        else:\n",
        "\n",
        "            count_dictionary[token] = 1\n",
        "\n",
        "\n",
        "pd.DataFrame([count_dictionary]).T.rename(columns={0:\"Count\"}).sort_values(\"Count\",ascending=False).head(50)"
      ],
      "execution_count": 29,
      "outputs": [
        {
          "output_type": "execute_result",
          "data": {
            "text/html": [
              "<div>\n",
              "<style scoped>\n",
              "    .dataframe tbody tr th:only-of-type {\n",
              "        vertical-align: middle;\n",
              "    }\n",
              "\n",
              "    .dataframe tbody tr th {\n",
              "        vertical-align: top;\n",
              "    }\n",
              "\n",
              "    .dataframe thead th {\n",
              "        text-align: right;\n",
              "    }\n",
              "</style>\n",
              "<table border=\"1\" class=\"dataframe\">\n",
              "  <thead>\n",
              "    <tr style=\"text-align: right;\">\n",
              "      <th></th>\n",
              "      <th>Count</th>\n",
              "    </tr>\n",
              "  </thead>\n",
              "  <tbody>\n",
              "    <tr>\n",
              "      <th>and</th>\n",
              "      <td>19872</td>\n",
              "    </tr>\n",
              "    <tr>\n",
              "      <th>,</th>\n",
              "      <td>9384</td>\n",
              "    </tr>\n",
              "    <tr>\n",
              "      <th>transportation</th>\n",
              "      <td>3858</td>\n",
              "    </tr>\n",
              "    <tr>\n",
              "      <th>other</th>\n",
              "      <td>3791</td>\n",
              "    </tr>\n",
              "    <tr>\n",
              "      <th>of</th>\n",
              "      <td>2583</td>\n",
              "    </tr>\n",
              "    <tr>\n",
              "      <th>(</th>\n",
              "      <td>1979</td>\n",
              "    </tr>\n",
              "    <tr>\n",
              "      <th>)</th>\n",
              "      <td>1979</td>\n",
              "    </tr>\n",
              "    <tr>\n",
              "      <th>centers</th>\n",
              "      <td>1927</td>\n",
              "    </tr>\n",
              "    <tr>\n",
              "      <th>warehousing</th>\n",
              "      <td>1848</td>\n",
              "    </tr>\n",
              "    <tr>\n",
              "      <th>recreation</th>\n",
              "      <td>1530</td>\n",
              "    </tr>\n",
              "    <tr>\n",
              "      <th>management</th>\n",
              "      <td>1428</td>\n",
              "    </tr>\n",
              "    <tr>\n",
              "      <th>except</th>\n",
              "      <td>1375</td>\n",
              "    </tr>\n",
              "    <tr>\n",
              "      <th>industries</th>\n",
              "      <td>1202</td>\n",
              "    </tr>\n",
              "    <tr>\n",
              "      <th>companies</th>\n",
              "      <td>1122</td>\n",
              "    </tr>\n",
              "    <tr>\n",
              "      <th>art</th>\n",
              "      <td>1114</td>\n",
              "    </tr>\n",
              "    <tr>\n",
              "      <th>-</th>\n",
              "      <td>1112</td>\n",
              "    </tr>\n",
              "    <tr>\n",
              "      <th>utility</th>\n",
              "      <td>1020</td>\n",
              "    </tr>\n",
              "    <tr>\n",
              "      <th>fishing</th>\n",
              "      <td>1003</td>\n",
              "    </tr>\n",
              "    <tr>\n",
              "      <th>sports</th>\n",
              "      <td>1001</td>\n",
              "    </tr>\n",
              "    <tr>\n",
              "      <th>hunting</th>\n",
              "      <td>960</td>\n",
              "    </tr>\n",
              "    <tr>\n",
              "      <th>industry</th>\n",
              "      <td>942</td>\n",
              "    </tr>\n",
              "    <tr>\n",
              "      <th>storage</th>\n",
              "      <td>930</td>\n",
              "    </tr>\n",
              "    <tr>\n",
              "      <th>waste</th>\n",
              "      <td>926</td>\n",
              "    </tr>\n",
              "    <tr>\n",
              "      <th>total</th>\n",
              "      <td>918</td>\n",
              "    </tr>\n",
              "    <tr>\n",
              "      <th>enterprises</th>\n",
              "      <td>918</td>\n",
              "    </tr>\n",
              "    <tr>\n",
              "      <th>entertainment</th>\n",
              "      <td>918</td>\n",
              "    </tr>\n",
              "    <tr>\n",
              "      <th>agencies</th>\n",
              "      <td>858</td>\n",
              "    </tr>\n",
              "    <tr>\n",
              "      <th>gas</th>\n",
              "      <td>855</td>\n",
              "    </tr>\n",
              "    <tr>\n",
              "      <th>amusement</th>\n",
              "      <td>847</td>\n",
              "    </tr>\n",
              "    <tr>\n",
              "      <th>air</th>\n",
              "      <td>835</td>\n",
              "    </tr>\n",
              "    <tr>\n",
              "      <th>organization</th>\n",
              "      <td>816</td>\n",
              "    </tr>\n",
              "    <tr>\n",
              "      <th>recreational</th>\n",
              "      <td>801</td>\n",
              "    </tr>\n",
              "    <tr>\n",
              "      <th>motion</th>\n",
              "      <td>761</td>\n",
              "    </tr>\n",
              "    <tr>\n",
              "      <th>picture</th>\n",
              "      <td>761</td>\n",
              "    </tr>\n",
              "    <tr>\n",
              "      <th>forestry</th>\n",
              "      <td>755</td>\n",
              "    </tr>\n",
              "    <tr>\n",
              "      <th>pipeline</th>\n",
              "      <td>749</td>\n",
              "    </tr>\n",
              "    <tr>\n",
              "      <th>passenger</th>\n",
              "      <td>714</td>\n",
              "    </tr>\n",
              "    <tr>\n",
              "      <th>transit</th>\n",
              "      <td>708</td>\n",
              "    </tr>\n",
              "    <tr>\n",
              "      <th>stations</th>\n",
              "      <td>708</td>\n",
              "    </tr>\n",
              "    <tr>\n",
              "      <th>substance</th>\n",
              "      <td>699</td>\n",
              "    </tr>\n",
              "    <tr>\n",
              "      <th>abuse</th>\n",
              "      <td>699</td>\n",
              "    </tr>\n",
              "    <tr>\n",
              "      <th>similar</th>\n",
              "      <td>692</td>\n",
              "    </tr>\n",
              "    <tr>\n",
              "      <th>agriculture</th>\n",
              "      <td>660</td>\n",
              "    </tr>\n",
              "    <tr>\n",
              "      <th>company</th>\n",
              "      <td>660</td>\n",
              "    </tr>\n",
              "    <tr>\n",
              "      <th>collection</th>\n",
              "      <td>654</td>\n",
              "    </tr>\n",
              "    <tr>\n",
              "      <th>record</th>\n",
              "      <td>650</td>\n",
              "    </tr>\n",
              "    <tr>\n",
              "      <th>parks</th>\n",
              "      <td>629</td>\n",
              "    </tr>\n",
              "    <tr>\n",
              "      <th>natural</th>\n",
              "      <td>620</td>\n",
              "    </tr>\n",
              "    <tr>\n",
              "      <th>local</th>\n",
              "      <td>612</td>\n",
              "    </tr>\n",
              "    <tr>\n",
              "      <th>bus</th>\n",
              "      <td>604</td>\n",
              "    </tr>\n",
              "  </tbody>\n",
              "</table>\n",
              "</div>"
            ],
            "text/plain": [
              "                Count\n",
              "and             19872\n",
              ",                9384\n",
              "transportation   3858\n",
              "other            3791\n",
              "of               2583\n",
              "(                1979\n",
              ")                1979\n",
              "centers          1927\n",
              "warehousing      1848\n",
              "recreation       1530\n",
              "management       1428\n",
              "except           1375\n",
              "industries       1202\n",
              "companies        1122\n",
              "art              1114\n",
              "-                1112\n",
              "utility          1020\n",
              "fishing          1003\n",
              "sports           1001\n",
              "hunting           960\n",
              "industry          942\n",
              "storage           930\n",
              "waste             926\n",
              "total             918\n",
              "enterprises       918\n",
              "entertainment     918\n",
              "agencies          858\n",
              "gas               855\n",
              "amusement         847\n",
              "air               835\n",
              "organization      816\n",
              "recreational      801\n",
              "motion            761\n",
              "picture           761\n",
              "forestry          755\n",
              "pipeline          749\n",
              "passenger         714\n",
              "transit           708\n",
              "stations          708\n",
              "substance         699\n",
              "abuse             699\n",
              "similar           692\n",
              "agriculture       660\n",
              "company           660\n",
              "collection        654\n",
              "record            650\n",
              "parks             629\n",
              "natural           620\n",
              "local             612\n",
              "bus               604"
            ]
          },
          "metadata": {},
          "execution_count": 29
        }
      ]
    },
    {
      "cell_type": "markdown",
      "metadata": {
        "id": "pwp52LtF5hA8"
      },
      "source": [
        "### Add state abbreviations"
      ]
    },
    {
      "cell_type": "code",
      "metadata": {
        "id": "PHxYyPqI5lnQ"
      },
      "source": [
        "state_abbrev = []\n",
        "for s in all_years_df['STATE']:\n",
        "  if s != 'United States':\n",
        "    state_object = us.states.lookup(s)\n",
        "    state_abbrev.append(state_object.abbr)\n",
        "  else:\n",
        "    state_abbrev.append(np.nan)\n",
        "all_years_df['STATE'] = state_abbrev"
      ],
      "execution_count": 30,
      "outputs": []
    },
    {
      "cell_type": "code",
      "metadata": {
        "id": "qiP9Pv4fAi2I",
        "colab": {
          "base_uri": "https://localhost:8080/"
        },
        "outputId": "a3adfef5-9926-4cf7-ae6b-c6240b6e20e4"
      },
      "source": [
        "all_years_df.isnull().sum()"
      ],
      "execution_count": 31,
      "outputs": [
        {
          "output_type": "execute_result",
          "data": {
            "text/plain": [
              "STATE                           0\n",
              "DESCRIPTION                     0\n",
              "YEAR                            0\n",
              "Employment                    222\n",
              "Establishments                  0\n",
              "Firms                           0\n",
              "Description_Lemma_Lower         0\n",
              "Description_Lower               0\n",
              "Classification_Lower            0\n",
              "Classification_Lemma_Lower      0\n",
              "dtype: int64"
            ]
          },
          "metadata": {},
          "execution_count": 31
        }
      ]
    },
    {
      "cell_type": "code",
      "metadata": {
        "id": "IGuj54K5Afuu"
      },
      "source": [
        "# there are a lot of places where STATE is null because the value was total for the whole United STates so these should be removed\n",
        "all_years_df = all_years_df[~all_years_df['STATE'].isnull()].copy()"
      ],
      "execution_count": 32,
      "outputs": []
    },
    {
      "cell_type": "code",
      "metadata": {
        "id": "7aemC1Hd-_dv",
        "colab": {
          "base_uri": "https://localhost:8080/"
        },
        "outputId": "884d6148-9fc9-4362-ae46-c23b8c37c0d1"
      },
      "source": [
        "all_years_df.isnull().sum()"
      ],
      "execution_count": 33,
      "outputs": [
        {
          "output_type": "execute_result",
          "data": {
            "text/plain": [
              "STATE                           0\n",
              "DESCRIPTION                     0\n",
              "YEAR                            0\n",
              "Employment                    222\n",
              "Establishments                  0\n",
              "Firms                           0\n",
              "Description_Lemma_Lower         0\n",
              "Description_Lower               0\n",
              "Classification_Lower            0\n",
              "Classification_Lemma_Lower      0\n",
              "dtype: int64"
            ]
          },
          "metadata": {},
          "execution_count": 33
        }
      ]
    },
    {
      "cell_type": "code",
      "metadata": {
        "id": "ocYFZNQLZy_F"
      },
      "source": [
        "# now save this dataframe\n",
        "all_years_df.to_csv('/content/drive/Shareddrives/Data606_Energy/data/fill_ready/SUSB_data_all_2001_2018.csv', index=False)"
      ],
      "execution_count": 34,
      "outputs": []
    },
    {
      "cell_type": "code",
      "metadata": {
        "colab": {
          "base_uri": "https://localhost:8080/",
          "height": 424
        },
        "id": "XOefQfWaM3lW",
        "outputId": "0f89b697-09e7-448d-eeb5-adc17bb29a20"
      },
      "source": [
        "all_years_df"
      ],
      "execution_count": 38,
      "outputs": [
        {
          "output_type": "execute_result",
          "data": {
            "text/html": [
              "<div>\n",
              "<style scoped>\n",
              "    .dataframe tbody tr th:only-of-type {\n",
              "        vertical-align: middle;\n",
              "    }\n",
              "\n",
              "    .dataframe tbody tr th {\n",
              "        vertical-align: top;\n",
              "    }\n",
              "\n",
              "    .dataframe thead th {\n",
              "        text-align: right;\n",
              "    }\n",
              "</style>\n",
              "<table border=\"1\" class=\"dataframe\">\n",
              "  <thead>\n",
              "    <tr style=\"text-align: right;\">\n",
              "      <th></th>\n",
              "      <th>STATE</th>\n",
              "      <th>DESCRIPTION</th>\n",
              "      <th>YEAR</th>\n",
              "      <th>Employment</th>\n",
              "      <th>Establishments</th>\n",
              "      <th>Firms</th>\n",
              "      <th>Description_Lemma_Lower</th>\n",
              "      <th>Description_Lower</th>\n",
              "      <th>Classification_Lower</th>\n",
              "      <th>Classification_Lemma_Lower</th>\n",
              "    </tr>\n",
              "  </thead>\n",
              "  <tbody>\n",
              "    <tr>\n",
              "      <th>0</th>\n",
              "      <td>AL</td>\n",
              "      <td>Accommodation &amp; foodservices</td>\n",
              "      <td>2001</td>\n",
              "      <td>127776.0</td>\n",
              "      <td>6870.0</td>\n",
              "      <td>4697.0</td>\n",
              "      <td>accommodation &amp; foodservice</td>\n",
              "      <td>accommodation &amp; foodservices</td>\n",
              "      <td>COM</td>\n",
              "      <td>COM</td>\n",
              "    </tr>\n",
              "    <tr>\n",
              "      <th>1</th>\n",
              "      <td>AL</td>\n",
              "      <td>Accommodation &amp; foodservices</td>\n",
              "      <td>2002</td>\n",
              "      <td>128964.0</td>\n",
              "      <td>7070.0</td>\n",
              "      <td>4801.0</td>\n",
              "      <td>accommodation &amp; foodservice</td>\n",
              "      <td>accommodation &amp; foodservices</td>\n",
              "      <td>COM</td>\n",
              "      <td>COM</td>\n",
              "    </tr>\n",
              "    <tr>\n",
              "      <th>2</th>\n",
              "      <td>AL</td>\n",
              "      <td>Accommodation and Food Services</td>\n",
              "      <td>2003</td>\n",
              "      <td>139440.0</td>\n",
              "      <td>7178.0</td>\n",
              "      <td>4918.0</td>\n",
              "      <td>accommodation and food services</td>\n",
              "      <td>accommodation and food services</td>\n",
              "      <td>COM</td>\n",
              "      <td>COM</td>\n",
              "    </tr>\n",
              "    <tr>\n",
              "      <th>3</th>\n",
              "      <td>AL</td>\n",
              "      <td>Accommodation and Food Services</td>\n",
              "      <td>2004</td>\n",
              "      <td>141442.0</td>\n",
              "      <td>7292.0</td>\n",
              "      <td>5089.0</td>\n",
              "      <td>accommodation and food services</td>\n",
              "      <td>accommodation and food services</td>\n",
              "      <td>COM</td>\n",
              "      <td>COM</td>\n",
              "    </tr>\n",
              "    <tr>\n",
              "      <th>4</th>\n",
              "      <td>AL</td>\n",
              "      <td>Accommodation and Food Services</td>\n",
              "      <td>2005</td>\n",
              "      <td>145447.0</td>\n",
              "      <td>7529.0</td>\n",
              "      <td>5256.0</td>\n",
              "      <td>accommodation and food services</td>\n",
              "      <td>accommodation and food services</td>\n",
              "      <td>COM</td>\n",
              "      <td>COM</td>\n",
              "    </tr>\n",
              "    <tr>\n",
              "      <th>...</th>\n",
              "      <td>...</td>\n",
              "      <td>...</td>\n",
              "      <td>...</td>\n",
              "      <td>...</td>\n",
              "      <td>...</td>\n",
              "      <td>...</td>\n",
              "      <td>...</td>\n",
              "      <td>...</td>\n",
              "      <td>...</td>\n",
              "      <td>...</td>\n",
              "    </tr>\n",
              "    <tr>\n",
              "      <th>189898</th>\n",
              "      <td>WY</td>\n",
              "      <td>Political Organizations</td>\n",
              "      <td>2018</td>\n",
              "      <td>34.0</td>\n",
              "      <td>13.0</td>\n",
              "      <td>13.0</td>\n",
              "      <td>political organization</td>\n",
              "      <td>political organizations</td>\n",
              "      <td>OTH</td>\n",
              "      <td>OTH</td>\n",
              "    </tr>\n",
              "    <tr>\n",
              "      <th>189899</th>\n",
              "      <td>WY</td>\n",
              "      <td>Political Organizations</td>\n",
              "      <td>2018</td>\n",
              "      <td>34.0</td>\n",
              "      <td>13.0</td>\n",
              "      <td>13.0</td>\n",
              "      <td>political organization</td>\n",
              "      <td>political organizations</td>\n",
              "      <td>OTH</td>\n",
              "      <td>OTH</td>\n",
              "    </tr>\n",
              "    <tr>\n",
              "      <th>189900</th>\n",
              "      <td>WY</td>\n",
              "      <td>Other Similar Organizations (except Business, ...</td>\n",
              "      <td>2018</td>\n",
              "      <td>70.0</td>\n",
              "      <td>18.0</td>\n",
              "      <td>18.0</td>\n",
              "      <td>other similar organization ( except business ,...</td>\n",
              "      <td>other similar organizations (except business, ...</td>\n",
              "      <td>COM</td>\n",
              "      <td>COM</td>\n",
              "    </tr>\n",
              "    <tr>\n",
              "      <th>189901</th>\n",
              "      <td>WY</td>\n",
              "      <td>Other Similar Organizations (except Business, ...</td>\n",
              "      <td>2018</td>\n",
              "      <td>70.0</td>\n",
              "      <td>18.0</td>\n",
              "      <td>18.0</td>\n",
              "      <td>other similar organization ( except business ,...</td>\n",
              "      <td>other similar organizations (except business, ...</td>\n",
              "      <td>COM</td>\n",
              "      <td>COM</td>\n",
              "    </tr>\n",
              "    <tr>\n",
              "      <th>189902</th>\n",
              "      <td>WY</td>\n",
              "      <td>Industries not classified</td>\n",
              "      <td>2018</td>\n",
              "      <td>82.0</td>\n",
              "      <td>74.0</td>\n",
              "      <td>74.0</td>\n",
              "      <td>industry not classify</td>\n",
              "      <td>industries not classified</td>\n",
              "      <td>OTH</td>\n",
              "      <td>OTH</td>\n",
              "    </tr>\n",
              "  </tbody>\n",
              "</table>\n",
              "<p>185897 rows × 10 columns</p>\n",
              "</div>"
            ],
            "text/plain": [
              "       STATE  ... Classification_Lemma_Lower\n",
              "0         AL  ...                        COM\n",
              "1         AL  ...                        COM\n",
              "2         AL  ...                        COM\n",
              "3         AL  ...                        COM\n",
              "4         AL  ...                        COM\n",
              "...      ...  ...                        ...\n",
              "189898    WY  ...                        OTH\n",
              "189899    WY  ...                        OTH\n",
              "189900    WY  ...                        COM\n",
              "189901    WY  ...                        COM\n",
              "189902    WY  ...                        OTH\n",
              "\n",
              "[185897 rows x 10 columns]"
            ]
          },
          "metadata": {},
          "execution_count": 38
        }
      ]
    },
    {
      "cell_type": "code",
      "metadata": {
        "id": "le3uMG9bNGp8"
      },
      "source": [
        "tokens = [{\"IND\":industry_tokens,\n",
        " \"COM\":commerical_tokens}]\n",
        "\n",
        "df = pd.DataFrame(tokens).T.reset_index().rename(columns={\"index\":\"Classification\",0:\"tokens\"}).explode(\"tokens\")\n",
        "\n",
        "df[\"count\"] = 1"
      ],
      "execution_count": 39,
      "outputs": []
    },
    {
      "cell_type": "code",
      "metadata": {
        "id": "U6kPet4YhGDz",
        "colab": {
          "base_uri": "https://localhost:8080/",
          "height": 1000
        },
        "outputId": "d3f16897-7116-44c0-b2eb-c4c3d044cac9"
      },
      "source": [
        "import plotly.express as px\n",
        "\n",
        "fig = px.bar(df,x=\"Classification\",y=\"count\",text=\"tokens\",title=\"Tokens Search for to Determine Classification\")\n",
        "\n",
        "fig.update_layout(\n",
        "    autosize=False,\n",
        "    width=2000,\n",
        "    height=1000,\n",
        ")\n",
        "\n"
      ],
      "execution_count": 42,
      "outputs": [
        {
          "output_type": "display_data",
          "data": {
            "text/html": [
              "<html>\n",
              "<head><meta charset=\"utf-8\" /></head>\n",
              "<body>\n",
              "    <div>\n",
              "            <script src=\"https://cdnjs.cloudflare.com/ajax/libs/mathjax/2.7.5/MathJax.js?config=TeX-AMS-MML_SVG\"></script><script type=\"text/javascript\">if (window.MathJax) {MathJax.Hub.Config({SVG: {font: \"STIX-Web\"}});}</script>\n",
              "                <script type=\"text/javascript\">window.PlotlyConfig = {MathJaxConfig: 'local'};</script>\n",
              "        <script src=\"https://cdn.plot.ly/plotly-latest.min.js\"></script>    \n",
              "            <div id=\"88706616-a740-42a6-b6e6-0c27c5964391\" class=\"plotly-graph-div\" style=\"height:1000px; width:2000px;\"></div>\n",
              "            <script type=\"text/javascript\">\n",
              "                \n",
              "                    window.PLOTLYENV=window.PLOTLYENV || {};\n",
              "                    \n",
              "                if (document.getElementById(\"88706616-a740-42a6-b6e6-0c27c5964391\")) {\n",
              "                    Plotly.newPlot(\n",
              "                        '88706616-a740-42a6-b6e6-0c27c5964391',\n",
              "                        [{\"alignmentgroup\": \"True\", \"hoverlabel\": {\"namelength\": 0}, \"hovertemplate\": \"Classification=%{x}<br>count=%{y}<br>tokens=%{text}\", \"legendgroup\": \"\", \"marker\": {\"color\": \"#636efa\"}, \"name\": \"\", \"offsetgroup\": \"\", \"orientation\": \"v\", \"showlegend\": false, \"text\": [\"mining\", \"mill\", \"manufacture\", \"industrial\", \"material\", \"chemical\", \"part\", \"unit\", \"machine\", \"manufacturing\", \"fuel\", \"water\", \"electric\", \"generate\", \"quarry\", \"industrial\", \"facil\", \"equipment\", \"metal\", \"freight\", \"service\", \"sale\", \"admin\", \"office\", \"wholesaler\", \"financ\", \"store\", \"clothing\", \"support\", \"salon\", \"broadcast\", \"intermediat\", \"agency\", \"dealer\", \"appraiser\", \"telecommunication\", \"sell\", \"bank\", \"repair\", \"school\", \"commercial\", \"merchandise\", \"professional\", \"advertis\", \"publisher\", \"agency\", \"contractor\", \"research\", \"real\", \"estate\", \"social\", \"markets\", \"information\", \"insurance\", \"trade\", \"hospitals\", \"rental\", \"construction\"], \"textposition\": \"auto\", \"type\": \"bar\", \"x\": [\"IND\", \"IND\", \"IND\", \"IND\", \"IND\", \"IND\", \"IND\", \"IND\", \"IND\", \"IND\", \"IND\", \"IND\", \"IND\", \"IND\", \"IND\", \"IND\", \"IND\", \"IND\", \"IND\", \"IND\", \"COM\", \"COM\", \"COM\", \"COM\", \"COM\", \"COM\", \"COM\", \"COM\", \"COM\", \"COM\", \"COM\", \"COM\", \"COM\", \"COM\", \"COM\", \"COM\", \"COM\", \"COM\", \"COM\", \"COM\", \"COM\", \"COM\", \"COM\", \"COM\", \"COM\", \"COM\", \"COM\", \"COM\", \"COM\", \"COM\", \"COM\", \"COM\", \"COM\", \"COM\", \"COM\", \"COM\", \"COM\", \"COM\"], \"xaxis\": \"x\", \"y\": [1, 1, 1, 1, 1, 1, 1, 1, 1, 1, 1, 1, 1, 1, 1, 1, 1, 1, 1, 1, 1, 1, 1, 1, 1, 1, 1, 1, 1, 1, 1, 1, 1, 1, 1, 1, 1, 1, 1, 1, 1, 1, 1, 1, 1, 1, 1, 1, 1, 1, 1, 1, 1, 1, 1, 1, 1, 1], \"yaxis\": \"y\"}],\n",
              "                        {\"autosize\": false, \"barmode\": \"relative\", \"height\": 1000, \"legend\": {\"tracegroupgap\": 0}, \"template\": {\"data\": {\"bar\": [{\"error_x\": {\"color\": \"#2a3f5f\"}, \"error_y\": {\"color\": \"#2a3f5f\"}, \"marker\": {\"line\": {\"color\": \"#E5ECF6\", \"width\": 0.5}}, \"type\": \"bar\"}], \"barpolar\": [{\"marker\": {\"line\": {\"color\": \"#E5ECF6\", \"width\": 0.5}}, \"type\": \"barpolar\"}], \"carpet\": [{\"aaxis\": {\"endlinecolor\": \"#2a3f5f\", \"gridcolor\": \"white\", \"linecolor\": \"white\", \"minorgridcolor\": \"white\", \"startlinecolor\": \"#2a3f5f\"}, \"baxis\": {\"endlinecolor\": \"#2a3f5f\", \"gridcolor\": \"white\", \"linecolor\": \"white\", \"minorgridcolor\": \"white\", \"startlinecolor\": \"#2a3f5f\"}, \"type\": \"carpet\"}], \"choropleth\": [{\"colorbar\": {\"outlinewidth\": 0, \"ticks\": \"\"}, \"type\": \"choropleth\"}], \"contour\": [{\"colorbar\": {\"outlinewidth\": 0, \"ticks\": \"\"}, \"colorscale\": [[0.0, \"#0d0887\"], [0.1111111111111111, \"#46039f\"], [0.2222222222222222, \"#7201a8\"], [0.3333333333333333, \"#9c179e\"], [0.4444444444444444, \"#bd3786\"], [0.5555555555555556, \"#d8576b\"], [0.6666666666666666, \"#ed7953\"], [0.7777777777777778, \"#fb9f3a\"], [0.8888888888888888, \"#fdca26\"], [1.0, \"#f0f921\"]], \"type\": \"contour\"}], \"contourcarpet\": [{\"colorbar\": {\"outlinewidth\": 0, \"ticks\": \"\"}, \"type\": \"contourcarpet\"}], \"heatmap\": [{\"colorbar\": {\"outlinewidth\": 0, \"ticks\": \"\"}, \"colorscale\": [[0.0, \"#0d0887\"], [0.1111111111111111, \"#46039f\"], [0.2222222222222222, \"#7201a8\"], [0.3333333333333333, \"#9c179e\"], [0.4444444444444444, \"#bd3786\"], [0.5555555555555556, \"#d8576b\"], [0.6666666666666666, \"#ed7953\"], [0.7777777777777778, \"#fb9f3a\"], [0.8888888888888888, \"#fdca26\"], [1.0, \"#f0f921\"]], \"type\": \"heatmap\"}], \"heatmapgl\": [{\"colorbar\": {\"outlinewidth\": 0, \"ticks\": \"\"}, \"colorscale\": [[0.0, \"#0d0887\"], [0.1111111111111111, \"#46039f\"], [0.2222222222222222, \"#7201a8\"], [0.3333333333333333, \"#9c179e\"], [0.4444444444444444, \"#bd3786\"], [0.5555555555555556, \"#d8576b\"], [0.6666666666666666, \"#ed7953\"], [0.7777777777777778, \"#fb9f3a\"], [0.8888888888888888, \"#fdca26\"], [1.0, \"#f0f921\"]], \"type\": \"heatmapgl\"}], \"histogram\": [{\"marker\": {\"colorbar\": {\"outlinewidth\": 0, \"ticks\": \"\"}}, \"type\": \"histogram\"}], \"histogram2d\": [{\"colorbar\": {\"outlinewidth\": 0, \"ticks\": \"\"}, \"colorscale\": [[0.0, \"#0d0887\"], [0.1111111111111111, \"#46039f\"], [0.2222222222222222, \"#7201a8\"], [0.3333333333333333, \"#9c179e\"], [0.4444444444444444, \"#bd3786\"], [0.5555555555555556, \"#d8576b\"], [0.6666666666666666, \"#ed7953\"], [0.7777777777777778, \"#fb9f3a\"], [0.8888888888888888, \"#fdca26\"], [1.0, \"#f0f921\"]], \"type\": \"histogram2d\"}], \"histogram2dcontour\": [{\"colorbar\": {\"outlinewidth\": 0, \"ticks\": \"\"}, \"colorscale\": [[0.0, \"#0d0887\"], [0.1111111111111111, \"#46039f\"], [0.2222222222222222, \"#7201a8\"], [0.3333333333333333, \"#9c179e\"], [0.4444444444444444, \"#bd3786\"], [0.5555555555555556, \"#d8576b\"], [0.6666666666666666, \"#ed7953\"], [0.7777777777777778, \"#fb9f3a\"], [0.8888888888888888, \"#fdca26\"], [1.0, \"#f0f921\"]], \"type\": \"histogram2dcontour\"}], \"mesh3d\": [{\"colorbar\": {\"outlinewidth\": 0, \"ticks\": \"\"}, \"type\": \"mesh3d\"}], \"parcoords\": [{\"line\": {\"colorbar\": {\"outlinewidth\": 0, \"ticks\": \"\"}}, \"type\": \"parcoords\"}], \"pie\": [{\"automargin\": true, \"type\": \"pie\"}], \"scatter\": [{\"marker\": {\"colorbar\": {\"outlinewidth\": 0, \"ticks\": \"\"}}, \"type\": \"scatter\"}], \"scatter3d\": [{\"line\": {\"colorbar\": {\"outlinewidth\": 0, \"ticks\": \"\"}}, \"marker\": {\"colorbar\": {\"outlinewidth\": 0, \"ticks\": \"\"}}, \"type\": \"scatter3d\"}], \"scattercarpet\": [{\"marker\": {\"colorbar\": {\"outlinewidth\": 0, \"ticks\": \"\"}}, \"type\": \"scattercarpet\"}], \"scattergeo\": [{\"marker\": {\"colorbar\": {\"outlinewidth\": 0, \"ticks\": \"\"}}, \"type\": \"scattergeo\"}], \"scattergl\": [{\"marker\": {\"colorbar\": {\"outlinewidth\": 0, \"ticks\": \"\"}}, \"type\": \"scattergl\"}], \"scattermapbox\": [{\"marker\": {\"colorbar\": {\"outlinewidth\": 0, \"ticks\": \"\"}}, \"type\": \"scattermapbox\"}], \"scatterpolar\": [{\"marker\": {\"colorbar\": {\"outlinewidth\": 0, \"ticks\": \"\"}}, \"type\": \"scatterpolar\"}], \"scatterpolargl\": [{\"marker\": {\"colorbar\": {\"outlinewidth\": 0, \"ticks\": \"\"}}, \"type\": \"scatterpolargl\"}], \"scatterternary\": [{\"marker\": {\"colorbar\": {\"outlinewidth\": 0, \"ticks\": \"\"}}, \"type\": \"scatterternary\"}], \"surface\": [{\"colorbar\": {\"outlinewidth\": 0, \"ticks\": \"\"}, \"colorscale\": [[0.0, \"#0d0887\"], [0.1111111111111111, \"#46039f\"], [0.2222222222222222, \"#7201a8\"], [0.3333333333333333, \"#9c179e\"], [0.4444444444444444, \"#bd3786\"], [0.5555555555555556, \"#d8576b\"], [0.6666666666666666, \"#ed7953\"], [0.7777777777777778, \"#fb9f3a\"], [0.8888888888888888, \"#fdca26\"], [1.0, \"#f0f921\"]], \"type\": \"surface\"}], \"table\": [{\"cells\": {\"fill\": {\"color\": \"#EBF0F8\"}, \"line\": {\"color\": \"white\"}}, \"header\": {\"fill\": {\"color\": \"#C8D4E3\"}, \"line\": {\"color\": \"white\"}}, \"type\": \"table\"}]}, \"layout\": {\"annotationdefaults\": {\"arrowcolor\": \"#2a3f5f\", \"arrowhead\": 0, \"arrowwidth\": 1}, \"coloraxis\": {\"colorbar\": {\"outlinewidth\": 0, \"ticks\": \"\"}}, \"colorscale\": {\"diverging\": [[0, \"#8e0152\"], [0.1, \"#c51b7d\"], [0.2, \"#de77ae\"], [0.3, \"#f1b6da\"], [0.4, \"#fde0ef\"], [0.5, \"#f7f7f7\"], [0.6, \"#e6f5d0\"], [0.7, \"#b8e186\"], [0.8, \"#7fbc41\"], [0.9, \"#4d9221\"], [1, \"#276419\"]], \"sequential\": [[0.0, \"#0d0887\"], [0.1111111111111111, \"#46039f\"], [0.2222222222222222, \"#7201a8\"], [0.3333333333333333, \"#9c179e\"], [0.4444444444444444, \"#bd3786\"], [0.5555555555555556, \"#d8576b\"], [0.6666666666666666, \"#ed7953\"], [0.7777777777777778, \"#fb9f3a\"], [0.8888888888888888, \"#fdca26\"], [1.0, \"#f0f921\"]], \"sequentialminus\": [[0.0, \"#0d0887\"], [0.1111111111111111, \"#46039f\"], [0.2222222222222222, \"#7201a8\"], [0.3333333333333333, \"#9c179e\"], [0.4444444444444444, \"#bd3786\"], [0.5555555555555556, \"#d8576b\"], [0.6666666666666666, \"#ed7953\"], [0.7777777777777778, \"#fb9f3a\"], [0.8888888888888888, \"#fdca26\"], [1.0, \"#f0f921\"]]}, \"colorway\": [\"#636efa\", \"#EF553B\", \"#00cc96\", \"#ab63fa\", \"#FFA15A\", \"#19d3f3\", \"#FF6692\", \"#B6E880\", \"#FF97FF\", \"#FECB52\"], \"font\": {\"color\": \"#2a3f5f\"}, \"geo\": {\"bgcolor\": \"white\", \"lakecolor\": \"white\", \"landcolor\": \"#E5ECF6\", \"showlakes\": true, \"showland\": true, \"subunitcolor\": \"white\"}, \"hoverlabel\": {\"align\": \"left\"}, \"hovermode\": \"closest\", \"mapbox\": {\"style\": \"light\"}, \"paper_bgcolor\": \"white\", \"plot_bgcolor\": \"#E5ECF6\", \"polar\": {\"angularaxis\": {\"gridcolor\": \"white\", \"linecolor\": \"white\", \"ticks\": \"\"}, \"bgcolor\": \"#E5ECF6\", \"radialaxis\": {\"gridcolor\": \"white\", \"linecolor\": \"white\", \"ticks\": \"\"}}, \"scene\": {\"xaxis\": {\"backgroundcolor\": \"#E5ECF6\", \"gridcolor\": \"white\", \"gridwidth\": 2, \"linecolor\": \"white\", \"showbackground\": true, \"ticks\": \"\", \"zerolinecolor\": \"white\"}, \"yaxis\": {\"backgroundcolor\": \"#E5ECF6\", \"gridcolor\": \"white\", \"gridwidth\": 2, \"linecolor\": \"white\", \"showbackground\": true, \"ticks\": \"\", \"zerolinecolor\": \"white\"}, \"zaxis\": {\"backgroundcolor\": \"#E5ECF6\", \"gridcolor\": \"white\", \"gridwidth\": 2, \"linecolor\": \"white\", \"showbackground\": true, \"ticks\": \"\", \"zerolinecolor\": \"white\"}}, \"shapedefaults\": {\"line\": {\"color\": \"#2a3f5f\"}}, \"ternary\": {\"aaxis\": {\"gridcolor\": \"white\", \"linecolor\": \"white\", \"ticks\": \"\"}, \"baxis\": {\"gridcolor\": \"white\", \"linecolor\": \"white\", \"ticks\": \"\"}, \"bgcolor\": \"#E5ECF6\", \"caxis\": {\"gridcolor\": \"white\", \"linecolor\": \"white\", \"ticks\": \"\"}}, \"title\": {\"x\": 0.05}, \"xaxis\": {\"automargin\": true, \"gridcolor\": \"white\", \"linecolor\": \"white\", \"ticks\": \"\", \"title\": {\"standoff\": 15}, \"zerolinecolor\": \"white\", \"zerolinewidth\": 2}, \"yaxis\": {\"automargin\": true, \"gridcolor\": \"white\", \"linecolor\": \"white\", \"ticks\": \"\", \"title\": {\"standoff\": 15}, \"zerolinecolor\": \"white\", \"zerolinewidth\": 2}}}, \"title\": {\"text\": \"Tokens Search for to Determine Classification\"}, \"width\": 2000, \"xaxis\": {\"anchor\": \"y\", \"domain\": [0.0, 1.0], \"title\": {\"text\": \"Classification\"}}, \"yaxis\": {\"anchor\": \"x\", \"domain\": [0.0, 1.0], \"title\": {\"text\": \"count\"}}},\n",
              "                        {\"responsive\": true}\n",
              "                    ).then(function(){\n",
              "                            \n",
              "var gd = document.getElementById('88706616-a740-42a6-b6e6-0c27c5964391');\n",
              "var x = new MutationObserver(function (mutations, observer) {{\n",
              "        var display = window.getComputedStyle(gd).display;\n",
              "        if (!display || display === 'none') {{\n",
              "            console.log([gd, 'removed!']);\n",
              "            Plotly.purge(gd);\n",
              "            observer.disconnect();\n",
              "        }}\n",
              "}});\n",
              "\n",
              "// Listen for the removal of the full notebook cells\n",
              "var notebookContainer = gd.closest('#notebook-container');\n",
              "if (notebookContainer) {{\n",
              "    x.observe(notebookContainer, {childList: true});\n",
              "}}\n",
              "\n",
              "// Listen for the clearing of the current output cell\n",
              "var outputEl = gd.closest('.output');\n",
              "if (outputEl) {{\n",
              "    x.observe(outputEl, {childList: true});\n",
              "}}\n",
              "\n",
              "                        })\n",
              "                };\n",
              "                \n",
              "            </script>\n",
              "        </div>\n",
              "</body>\n",
              "</html>"
            ]
          },
          "metadata": {}
        }
      ]
    },
    {
      "cell_type": "code",
      "metadata": {
        "id": "R5EYpLR0h6Nk"
      },
      "source": [
        ""
      ],
      "execution_count": null,
      "outputs": []
    }
  ]
}