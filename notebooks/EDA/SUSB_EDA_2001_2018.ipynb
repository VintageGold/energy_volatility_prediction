{
  "nbformat": 4,
  "nbformat_minor": 0,
  "metadata": {
    "colab": {
      "name": "SUSB_EDA_2001-2018.ipynb",
      "provenance": [],
      "collapsed_sections": [],
      "include_colab_link": true
    },
    "kernelspec": {
      "name": "python3",
      "display_name": "Python 3"
    },
    "language_info": {
      "name": "python"
    }
  },
  "cells": [
    {
      "cell_type": "markdown",
      "metadata": {
        "id": "view-in-github",
        "colab_type": "text"
      },
      "source": [
        "<a href=\"https://colab.research.google.com/github/harperd17/energy_volatility_prediction/blob/main/notebooks/EDA/SUSB_EDA_2001_2018.ipynb\" target=\"_parent\"><img src=\"https://colab.research.google.com/assets/colab-badge.svg\" alt=\"Open In Colab\"/></a>"
      ]
    },
    {
      "cell_type": "markdown",
      "source": [
        "# The Goal - to determine what feature would be the best to predict electric accounts for 2001 - 2008 for COM and IND.  \n",
        "\n",
        "**Employment Count** was chosen"
      ],
      "metadata": {
        "id": "Kc6Kd8YbaPqG"
      }
    },
    {
      "cell_type": "code",
      "metadata": {
        "colab": {
          "base_uri": "https://localhost:8080/"
        },
        "id": "3rPliYeker7U",
        "outputId": "adff3aca-ae84-4cc7-c314-97a48cea7f1a"
      },
      "source": [
        "from google.colab import drive\n",
        "\n",
        "drive.mount('./drive/')\n",
        "\n",
        "%cd drive/Shareddrives/Data606_Energy/"
      ],
      "execution_count": 1,
      "outputs": [
        {
          "output_type": "stream",
          "name": "stdout",
          "text": [
            "Mounted at ./drive/\n",
            "/content/drive/Shareddrives/Data606_Energy\n"
          ]
        }
      ]
    },
    {
      "cell_type": "code",
      "metadata": {
        "id": "tWAIjyN_8klU"
      },
      "source": [
        "import pandas as pd\n",
        "import numpy as np\n",
        "from tqdm import tqdm\n",
        "import matplotlib.pyplot as plt"
      ],
      "execution_count": 2,
      "outputs": []
    },
    {
      "cell_type": "code",
      "metadata": {
        "id": "l9avKKD1e7Ns"
      },
      "source": [
        "df_complete = pd.read_csv('data/fill_ready/SUSB_data_all_2001_2018.csv')"
      ],
      "execution_count": 3,
      "outputs": []
    },
    {
      "cell_type": "code",
      "metadata": {
        "colab": {
          "base_uri": "https://localhost:8080/"
        },
        "id": "aeNw6vURxy7c",
        "outputId": "4cf9d607-3361-415c-c691-2f605c3cec1f"
      },
      "source": [
        "df_complete.isnull().sum()"
      ],
      "execution_count": 4,
      "outputs": [
        {
          "output_type": "execute_result",
          "data": {
            "text/plain": [
              "STATE                           0\n",
              "DESCRIPTION                     0\n",
              "YEAR                            0\n",
              "Employment                    222\n",
              "Establishments                  0\n",
              "Firms                           0\n",
              "Description_Lemma_Lower         0\n",
              "Description_Lower               0\n",
              "Classification_Lower            0\n",
              "Classification_Lemma_Lower      0\n",
              "dtype: int64"
            ]
          },
          "metadata": {},
          "execution_count": 4
        }
      ]
    },
    {
      "cell_type": "code",
      "metadata": {
        "colab": {
          "base_uri": "https://localhost:8080/",
          "height": 458
        },
        "id": "wWqs8Q6uYxlD",
        "outputId": "3e309d9d-34ee-4e6c-a343-ed477a254d5e"
      },
      "source": [
        "df_complete"
      ],
      "execution_count": 5,
      "outputs": [
        {
          "output_type": "execute_result",
          "data": {
            "text/html": [
              "<div>\n",
              "<style scoped>\n",
              "    .dataframe tbody tr th:only-of-type {\n",
              "        vertical-align: middle;\n",
              "    }\n",
              "\n",
              "    .dataframe tbody tr th {\n",
              "        vertical-align: top;\n",
              "    }\n",
              "\n",
              "    .dataframe thead th {\n",
              "        text-align: right;\n",
              "    }\n",
              "</style>\n",
              "<table border=\"1\" class=\"dataframe\">\n",
              "  <thead>\n",
              "    <tr style=\"text-align: right;\">\n",
              "      <th></th>\n",
              "      <th>STATE</th>\n",
              "      <th>DESCRIPTION</th>\n",
              "      <th>YEAR</th>\n",
              "      <th>Employment</th>\n",
              "      <th>Establishments</th>\n",
              "      <th>Firms</th>\n",
              "      <th>Description_Lemma_Lower</th>\n",
              "      <th>Description_Lower</th>\n",
              "      <th>Classification_Lower</th>\n",
              "      <th>Classification_Lemma_Lower</th>\n",
              "    </tr>\n",
              "  </thead>\n",
              "  <tbody>\n",
              "    <tr>\n",
              "      <th>0</th>\n",
              "      <td>AL</td>\n",
              "      <td>Accommodation &amp; foodservices</td>\n",
              "      <td>2001</td>\n",
              "      <td>127776.0</td>\n",
              "      <td>6870.0</td>\n",
              "      <td>4697.0</td>\n",
              "      <td>accommodation &amp; foodservice</td>\n",
              "      <td>accommodation &amp; foodservices</td>\n",
              "      <td>COM</td>\n",
              "      <td>COM</td>\n",
              "    </tr>\n",
              "    <tr>\n",
              "      <th>1</th>\n",
              "      <td>AL</td>\n",
              "      <td>Accommodation &amp; foodservices</td>\n",
              "      <td>2002</td>\n",
              "      <td>128964.0</td>\n",
              "      <td>7070.0</td>\n",
              "      <td>4801.0</td>\n",
              "      <td>accommodation &amp; foodservice</td>\n",
              "      <td>accommodation &amp; foodservices</td>\n",
              "      <td>COM</td>\n",
              "      <td>COM</td>\n",
              "    </tr>\n",
              "    <tr>\n",
              "      <th>2</th>\n",
              "      <td>AL</td>\n",
              "      <td>Accommodation and Food Services</td>\n",
              "      <td>2003</td>\n",
              "      <td>139440.0</td>\n",
              "      <td>7178.0</td>\n",
              "      <td>4918.0</td>\n",
              "      <td>accommodation and food services</td>\n",
              "      <td>accommodation and food services</td>\n",
              "      <td>COM</td>\n",
              "      <td>COM</td>\n",
              "    </tr>\n",
              "    <tr>\n",
              "      <th>3</th>\n",
              "      <td>AL</td>\n",
              "      <td>Accommodation and Food Services</td>\n",
              "      <td>2004</td>\n",
              "      <td>141442.0</td>\n",
              "      <td>7292.0</td>\n",
              "      <td>5089.0</td>\n",
              "      <td>accommodation and food services</td>\n",
              "      <td>accommodation and food services</td>\n",
              "      <td>COM</td>\n",
              "      <td>COM</td>\n",
              "    </tr>\n",
              "    <tr>\n",
              "      <th>4</th>\n",
              "      <td>AL</td>\n",
              "      <td>Accommodation and Food Services</td>\n",
              "      <td>2005</td>\n",
              "      <td>145447.0</td>\n",
              "      <td>7529.0</td>\n",
              "      <td>5256.0</td>\n",
              "      <td>accommodation and food services</td>\n",
              "      <td>accommodation and food services</td>\n",
              "      <td>COM</td>\n",
              "      <td>COM</td>\n",
              "    </tr>\n",
              "    <tr>\n",
              "      <th>...</th>\n",
              "      <td>...</td>\n",
              "      <td>...</td>\n",
              "      <td>...</td>\n",
              "      <td>...</td>\n",
              "      <td>...</td>\n",
              "      <td>...</td>\n",
              "      <td>...</td>\n",
              "      <td>...</td>\n",
              "      <td>...</td>\n",
              "      <td>...</td>\n",
              "    </tr>\n",
              "    <tr>\n",
              "      <th>185892</th>\n",
              "      <td>WY</td>\n",
              "      <td>Political Organizations</td>\n",
              "      <td>2018</td>\n",
              "      <td>34.0</td>\n",
              "      <td>13.0</td>\n",
              "      <td>13.0</td>\n",
              "      <td>political organization</td>\n",
              "      <td>political organizations</td>\n",
              "      <td>OTH</td>\n",
              "      <td>OTH</td>\n",
              "    </tr>\n",
              "    <tr>\n",
              "      <th>185893</th>\n",
              "      <td>WY</td>\n",
              "      <td>Political Organizations</td>\n",
              "      <td>2018</td>\n",
              "      <td>34.0</td>\n",
              "      <td>13.0</td>\n",
              "      <td>13.0</td>\n",
              "      <td>political organization</td>\n",
              "      <td>political organizations</td>\n",
              "      <td>OTH</td>\n",
              "      <td>OTH</td>\n",
              "    </tr>\n",
              "    <tr>\n",
              "      <th>185894</th>\n",
              "      <td>WY</td>\n",
              "      <td>Other Similar Organizations (except Business, ...</td>\n",
              "      <td>2018</td>\n",
              "      <td>70.0</td>\n",
              "      <td>18.0</td>\n",
              "      <td>18.0</td>\n",
              "      <td>other similar organization ( except business ,...</td>\n",
              "      <td>other similar organizations (except business, ...</td>\n",
              "      <td>COM</td>\n",
              "      <td>COM</td>\n",
              "    </tr>\n",
              "    <tr>\n",
              "      <th>185895</th>\n",
              "      <td>WY</td>\n",
              "      <td>Other Similar Organizations (except Business, ...</td>\n",
              "      <td>2018</td>\n",
              "      <td>70.0</td>\n",
              "      <td>18.0</td>\n",
              "      <td>18.0</td>\n",
              "      <td>other similar organization ( except business ,...</td>\n",
              "      <td>other similar organizations (except business, ...</td>\n",
              "      <td>COM</td>\n",
              "      <td>COM</td>\n",
              "    </tr>\n",
              "    <tr>\n",
              "      <th>185896</th>\n",
              "      <td>WY</td>\n",
              "      <td>Industries not classified</td>\n",
              "      <td>2018</td>\n",
              "      <td>82.0</td>\n",
              "      <td>74.0</td>\n",
              "      <td>74.0</td>\n",
              "      <td>industry not classify</td>\n",
              "      <td>industries not classified</td>\n",
              "      <td>OTH</td>\n",
              "      <td>OTH</td>\n",
              "    </tr>\n",
              "  </tbody>\n",
              "</table>\n",
              "<p>185897 rows × 10 columns</p>\n",
              "</div>"
            ],
            "text/plain": [
              "       STATE  ... Classification_Lemma_Lower\n",
              "0         AL  ...                        COM\n",
              "1         AL  ...                        COM\n",
              "2         AL  ...                        COM\n",
              "3         AL  ...                        COM\n",
              "4         AL  ...                        COM\n",
              "...      ...  ...                        ...\n",
              "185892    WY  ...                        OTH\n",
              "185893    WY  ...                        OTH\n",
              "185894    WY  ...                        COM\n",
              "185895    WY  ...                        COM\n",
              "185896    WY  ...                        OTH\n",
              "\n",
              "[185897 rows x 10 columns]"
            ]
          },
          "metadata": {},
          "execution_count": 5
        }
      ]
    },
    {
      "cell_type": "markdown",
      "metadata": {
        "id": "BwWLMgn49N7n"
      },
      "source": [
        "## Classification Tagging"
      ]
    },
    {
      "cell_type": "code",
      "metadata": {
        "colab": {
          "base_uri": "https://localhost:8080/",
          "height": 458
        },
        "id": "YYuPwn38P5ZD",
        "outputId": "0fff9461-cc19-4470-ad1c-d14fd4a57203"
      },
      "source": [
        "df_complete"
      ],
      "execution_count": 6,
      "outputs": [
        {
          "output_type": "execute_result",
          "data": {
            "text/html": [
              "<div>\n",
              "<style scoped>\n",
              "    .dataframe tbody tr th:only-of-type {\n",
              "        vertical-align: middle;\n",
              "    }\n",
              "\n",
              "    .dataframe tbody tr th {\n",
              "        vertical-align: top;\n",
              "    }\n",
              "\n",
              "    .dataframe thead th {\n",
              "        text-align: right;\n",
              "    }\n",
              "</style>\n",
              "<table border=\"1\" class=\"dataframe\">\n",
              "  <thead>\n",
              "    <tr style=\"text-align: right;\">\n",
              "      <th></th>\n",
              "      <th>STATE</th>\n",
              "      <th>DESCRIPTION</th>\n",
              "      <th>YEAR</th>\n",
              "      <th>Employment</th>\n",
              "      <th>Establishments</th>\n",
              "      <th>Firms</th>\n",
              "      <th>Description_Lemma_Lower</th>\n",
              "      <th>Description_Lower</th>\n",
              "      <th>Classification_Lower</th>\n",
              "      <th>Classification_Lemma_Lower</th>\n",
              "    </tr>\n",
              "  </thead>\n",
              "  <tbody>\n",
              "    <tr>\n",
              "      <th>0</th>\n",
              "      <td>AL</td>\n",
              "      <td>Accommodation &amp; foodservices</td>\n",
              "      <td>2001</td>\n",
              "      <td>127776.0</td>\n",
              "      <td>6870.0</td>\n",
              "      <td>4697.0</td>\n",
              "      <td>accommodation &amp; foodservice</td>\n",
              "      <td>accommodation &amp; foodservices</td>\n",
              "      <td>COM</td>\n",
              "      <td>COM</td>\n",
              "    </tr>\n",
              "    <tr>\n",
              "      <th>1</th>\n",
              "      <td>AL</td>\n",
              "      <td>Accommodation &amp; foodservices</td>\n",
              "      <td>2002</td>\n",
              "      <td>128964.0</td>\n",
              "      <td>7070.0</td>\n",
              "      <td>4801.0</td>\n",
              "      <td>accommodation &amp; foodservice</td>\n",
              "      <td>accommodation &amp; foodservices</td>\n",
              "      <td>COM</td>\n",
              "      <td>COM</td>\n",
              "    </tr>\n",
              "    <tr>\n",
              "      <th>2</th>\n",
              "      <td>AL</td>\n",
              "      <td>Accommodation and Food Services</td>\n",
              "      <td>2003</td>\n",
              "      <td>139440.0</td>\n",
              "      <td>7178.0</td>\n",
              "      <td>4918.0</td>\n",
              "      <td>accommodation and food services</td>\n",
              "      <td>accommodation and food services</td>\n",
              "      <td>COM</td>\n",
              "      <td>COM</td>\n",
              "    </tr>\n",
              "    <tr>\n",
              "      <th>3</th>\n",
              "      <td>AL</td>\n",
              "      <td>Accommodation and Food Services</td>\n",
              "      <td>2004</td>\n",
              "      <td>141442.0</td>\n",
              "      <td>7292.0</td>\n",
              "      <td>5089.0</td>\n",
              "      <td>accommodation and food services</td>\n",
              "      <td>accommodation and food services</td>\n",
              "      <td>COM</td>\n",
              "      <td>COM</td>\n",
              "    </tr>\n",
              "    <tr>\n",
              "      <th>4</th>\n",
              "      <td>AL</td>\n",
              "      <td>Accommodation and Food Services</td>\n",
              "      <td>2005</td>\n",
              "      <td>145447.0</td>\n",
              "      <td>7529.0</td>\n",
              "      <td>5256.0</td>\n",
              "      <td>accommodation and food services</td>\n",
              "      <td>accommodation and food services</td>\n",
              "      <td>COM</td>\n",
              "      <td>COM</td>\n",
              "    </tr>\n",
              "    <tr>\n",
              "      <th>...</th>\n",
              "      <td>...</td>\n",
              "      <td>...</td>\n",
              "      <td>...</td>\n",
              "      <td>...</td>\n",
              "      <td>...</td>\n",
              "      <td>...</td>\n",
              "      <td>...</td>\n",
              "      <td>...</td>\n",
              "      <td>...</td>\n",
              "      <td>...</td>\n",
              "    </tr>\n",
              "    <tr>\n",
              "      <th>185892</th>\n",
              "      <td>WY</td>\n",
              "      <td>Political Organizations</td>\n",
              "      <td>2018</td>\n",
              "      <td>34.0</td>\n",
              "      <td>13.0</td>\n",
              "      <td>13.0</td>\n",
              "      <td>political organization</td>\n",
              "      <td>political organizations</td>\n",
              "      <td>OTH</td>\n",
              "      <td>OTH</td>\n",
              "    </tr>\n",
              "    <tr>\n",
              "      <th>185893</th>\n",
              "      <td>WY</td>\n",
              "      <td>Political Organizations</td>\n",
              "      <td>2018</td>\n",
              "      <td>34.0</td>\n",
              "      <td>13.0</td>\n",
              "      <td>13.0</td>\n",
              "      <td>political organization</td>\n",
              "      <td>political organizations</td>\n",
              "      <td>OTH</td>\n",
              "      <td>OTH</td>\n",
              "    </tr>\n",
              "    <tr>\n",
              "      <th>185894</th>\n",
              "      <td>WY</td>\n",
              "      <td>Other Similar Organizations (except Business, ...</td>\n",
              "      <td>2018</td>\n",
              "      <td>70.0</td>\n",
              "      <td>18.0</td>\n",
              "      <td>18.0</td>\n",
              "      <td>other similar organization ( except business ,...</td>\n",
              "      <td>other similar organizations (except business, ...</td>\n",
              "      <td>COM</td>\n",
              "      <td>COM</td>\n",
              "    </tr>\n",
              "    <tr>\n",
              "      <th>185895</th>\n",
              "      <td>WY</td>\n",
              "      <td>Other Similar Organizations (except Business, ...</td>\n",
              "      <td>2018</td>\n",
              "      <td>70.0</td>\n",
              "      <td>18.0</td>\n",
              "      <td>18.0</td>\n",
              "      <td>other similar organization ( except business ,...</td>\n",
              "      <td>other similar organizations (except business, ...</td>\n",
              "      <td>COM</td>\n",
              "      <td>COM</td>\n",
              "    </tr>\n",
              "    <tr>\n",
              "      <th>185896</th>\n",
              "      <td>WY</td>\n",
              "      <td>Industries not classified</td>\n",
              "      <td>2018</td>\n",
              "      <td>82.0</td>\n",
              "      <td>74.0</td>\n",
              "      <td>74.0</td>\n",
              "      <td>industry not classify</td>\n",
              "      <td>industries not classified</td>\n",
              "      <td>OTH</td>\n",
              "      <td>OTH</td>\n",
              "    </tr>\n",
              "  </tbody>\n",
              "</table>\n",
              "<p>185897 rows × 10 columns</p>\n",
              "</div>"
            ],
            "text/plain": [
              "       STATE  ... Classification_Lemma_Lower\n",
              "0         AL  ...                        COM\n",
              "1         AL  ...                        COM\n",
              "2         AL  ...                        COM\n",
              "3         AL  ...                        COM\n",
              "4         AL  ...                        COM\n",
              "...      ...  ...                        ...\n",
              "185892    WY  ...                        OTH\n",
              "185893    WY  ...                        OTH\n",
              "185894    WY  ...                        COM\n",
              "185895    WY  ...                        COM\n",
              "185896    WY  ...                        OTH\n",
              "\n",
              "[185897 rows x 10 columns]"
            ]
          },
          "metadata": {},
          "execution_count": 6
        }
      ]
    },
    {
      "cell_type": "code",
      "metadata": {
        "id": "7whxhC5YI4gJ"
      },
      "source": [
        "# Words to classification description as IND\n",
        "industry_tokens = [\"mining\",\"mill\",\"manufacture\",\"industrial\",\"material\",\"chemical\",\"part\",\"unit\",\"machine\",\"manufacturing\"\n",
        "                    ,\"fuel\",\"water\",\"electric\",\"generate\",\"quarry\",\"industrial\",\"facil\",\"equipment\",\"metal\",\"freight\"\n",
        "                ]\n",
        "\n",
        "\n",
        "# Words to classification description as COM\n",
        "commerical_tokens = [\"service\",\"sale\",\"admin\",\"office\",\"wholesaler\",\"financ\"\n",
        "                    ,\"store\",\"clothing\",\"support\",\"salon\",\"broadcast\",\"intermediat\",\"agency\",\"dealer\"\n",
        "                    ,\"appraiser\",\"telecommunication\",\"sell\",\"bank\",\"repair\",\"school\",\"commercial\",\"merchandise\", \"professional\"\n",
        "                    ,\"advertis\",\"publisher\",\"agency\",\"contractor\",\"research\",\"real\",\"estate\",\"social\",\"markets\",\"information\",\"insurance\",\"trade\"\n",
        "                    ,\"hospitals\",\"rental\",\"construction\"]"
      ],
      "execution_count": 7,
      "outputs": []
    },
    {
      "cell_type": "code",
      "metadata": {
        "id": "YUmVFcxe8ynm"
      },
      "source": [
        "tokens = [{\"IND\":industry_tokens,\n",
        " \"COM\":commerical_tokens}]\n",
        "\n",
        "df = pd.DataFrame(tokens).T.reset_index().rename(columns={\"index\":\"Classification\",0:\"tokens\"}).explode(\"tokens\")\n",
        "\n",
        "df[\"count\"] = 1"
      ],
      "execution_count": 8,
      "outputs": []
    },
    {
      "cell_type": "code",
      "metadata": {
        "id": "mNiIuAJeLViF"
      },
      "source": [
        "# first do a group by year for a sanity check\n",
        "year_grouped = df_complete[(df_complete['Classification_Lower']=='COM')&(df_complete['YEAR']<2017)].groupby(by='YEAR').sum()"
      ],
      "execution_count": 9,
      "outputs": []
    },
    {
      "cell_type": "code",
      "metadata": {
        "colab": {
          "base_uri": "https://localhost:8080/",
          "height": 276
        },
        "id": "4oOs6vNLLi3q",
        "outputId": "b195566f-b9cd-4e88-ccde-bf8134c1ef4a"
      },
      "source": [
        "_ = plt.plot(year_grouped['Establishments'])"
      ],
      "execution_count": 10,
      "outputs": [
        {
          "output_type": "display_data",
          "data": {
            "image/png": "[encoded data removed]",
            "text/plain": [
              "<Figure size 432x288 with 1 Axes>"
            ]
          },
          "metadata": {
            "needs_background": "light"
          }
        }
      ]
    },
    {
      "cell_type": "code",
      "metadata": {
        "colab": {
          "base_uri": "https://localhost:8080/",
          "height": 276
        },
        "id": "jhCOQN6BLqBS",
        "outputId": "694053e1-5b0d-4649-a8f4-0273528c66f5"
      },
      "source": [
        "_ = plt.plot(year_grouped['Firms'])"
      ],
      "execution_count": 11,
      "outputs": [
        {
          "output_type": "display_data",
          "data": {
            "image/png": "[encoded data removed]",
            "text/plain": [
              "<Figure size 432x288 with 1 Axes>"
            ]
          },
          "metadata": {
            "needs_background": "light"
          }
        }
      ]
    },
    {
      "cell_type": "code",
      "metadata": {
        "colab": {
          "base_uri": "https://localhost:8080/",
          "height": 112
        },
        "id": "bJRyyLRULziI",
        "outputId": "b43b11c3-53e3-4f02-f7d5-69c236d910f0"
      },
      "source": [
        "# these look very correlated. Let's see exactly how much\n",
        "df_complete[['Establishments','Firms']].corr()"
      ],
      "execution_count": 12,
      "outputs": [
        {
          "output_type": "execute_result",
          "data": {
            "text/html": [
              "<div>\n",
              "<style scoped>\n",
              "    .dataframe tbody tr th:only-of-type {\n",
              "        vertical-align: middle;\n",
              "    }\n",
              "\n",
              "    .dataframe tbody tr th {\n",
              "        vertical-align: top;\n",
              "    }\n",
              "\n",
              "    .dataframe thead th {\n",
              "        text-align: right;\n",
              "    }\n",
              "</style>\n",
              "<table border=\"1\" class=\"dataframe\">\n",
              "  <thead>\n",
              "    <tr style=\"text-align: right;\">\n",
              "      <th></th>\n",
              "      <th>Establishments</th>\n",
              "      <th>Firms</th>\n",
              "    </tr>\n",
              "  </thead>\n",
              "  <tbody>\n",
              "    <tr>\n",
              "      <th>Establishments</th>\n",
              "      <td>1.000000</td>\n",
              "      <td>0.998053</td>\n",
              "    </tr>\n",
              "    <tr>\n",
              "      <th>Firms</th>\n",
              "      <td>0.998053</td>\n",
              "      <td>1.000000</td>\n",
              "    </tr>\n",
              "  </tbody>\n",
              "</table>\n",
              "</div>"
            ],
            "text/plain": [
              "                Establishments     Firms\n",
              "Establishments        1.000000  0.998053\n",
              "Firms                 0.998053  1.000000"
            ]
          },
          "metadata": {},
          "execution_count": 12
        }
      ]
    },
    {
      "cell_type": "markdown",
      "metadata": {
        "id": "5e0Ejk5JMHOC"
      },
      "source": [
        "Due to this high correlation, when using this in the regression model, we should use either establishments or firms, but not both."
      ]
    },
    {
      "cell_type": "code",
      "metadata": {
        "colab": {
          "base_uri": "https://localhost:8080/",
          "height": 276
        },
        "id": "nWnDuHNDL8OU",
        "outputId": "0ba006f8-5f10-4ab9-de18-9513e9940d75"
      },
      "source": [
        "_ = plt.plot(year_grouped['Employment'])"
      ],
      "execution_count": 13,
      "outputs": [
        {
          "output_type": "display_data",
          "data": {
            "image/png": "[encoded data removed]",
            "text/plain": [
              "<Figure size 432x288 with 1 Axes>"
            ]
          },
          "metadata": {
            "needs_background": "light"
          }
        }
      ]
    },
    {
      "cell_type": "markdown",
      "metadata": {
        "id": "H_ArhjfsfAL2"
      },
      "source": [
        "# Industrial Classification"
      ]
    },
    {
      "cell_type": "code",
      "metadata": {
        "colab": {
          "base_uri": "https://localhost:8080/",
          "height": 276
        },
        "id": "OBUE6ThkfJhx",
        "outputId": "5dc7db74-3342-49d3-ce2b-e83668ce217b"
      },
      "source": [
        "_ = plt.plot(year_grouped['Establishments'])"
      ],
      "execution_count": 14,
      "outputs": [
        {
          "output_type": "display_data",
          "data": {
            "image/png": "[encoded data removed]",
            "text/plain": [
              "<Figure size 432x288 with 1 Axes>"
            ]
          },
          "metadata": {
            "needs_background": "light"
          }
        }
      ]
    },
    {
      "cell_type": "code",
      "metadata": {
        "colab": {
          "base_uri": "https://localhost:8080/",
          "height": 276
        },
        "id": "EeiZbaOGfNsx",
        "outputId": "b9a1a82d-7942-4664-a644-ab104b9d1729"
      },
      "source": [
        "_= plt.plot(year_grouped['Firms'])"
      ],
      "execution_count": 15,
      "outputs": [
        {
          "output_type": "display_data",
          "data": {
            "image/png": "[encoded data removed]",
            "text/plain": [
              "<Figure size 432x288 with 1 Axes>"
            ]
          },
          "metadata": {
            "needs_background": "light"
          }
        }
      ]
    }
  ]
}