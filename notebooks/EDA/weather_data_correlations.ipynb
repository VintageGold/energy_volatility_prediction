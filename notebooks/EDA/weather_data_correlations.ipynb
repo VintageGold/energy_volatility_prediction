{
  "nbformat": 4,
  "nbformat_minor": 0,
  "metadata": {
    "colab": {
      "name": "weather_data_correlations.ipynb",
      "provenance": [],
      "collapsed_sections": [],
      "authorship_tag": "ABX9TyPucwbc+sfVMUJWZsC/t8S6",
      "include_colab_link": true
    },
    "kernelspec": {
      "display_name": "Python 3",
      "name": "python3"
    },
    "language_info": {
      "name": "python"
    }
  },
  "cells": [
    {
      "cell_type": "markdown",
      "metadata": {
        "id": "view-in-github",
        "colab_type": "text"
      },
      "source": [
        "<a href=\"https://colab.research.google.com/github/harperd17/energy_volatility_prediction/blob/main/notebooks/EDA/weather_data_correlations.ipynb\" target=\"_parent\"><img src=\"https://colab.research.google.com/assets/colab-badge.svg\" alt=\"Open In Colab\"/></a>"
      ]
    },
    {
      "cell_type": "markdown",
      "metadata": {
        "id": "teL7jcN-Ejz2"
      },
      "source": [
        "# The goal of this notebook is to see which areas have the highest correlations to the target COV and whether other variables influence how correlated the weather variables are. Ex. is weather more influential for our target variable in areas with higher solar?"
      ]
    },
    {
      "cell_type": "code",
      "metadata": {
        "colab": {
          "base_uri": "https://localhost:8080/"
        },
        "id": "rsXKTq8iEqB0",
        "outputId": "e4682a62-7850-496e-aa08-0dbce096371f"
      },
      "source": [
        "!pip install plotly==4.5\n",
        "import pandas as pd\n",
        "import numpy as np\n",
        "import matplotlib.pyplot as plt\n",
        "from google.colab import drive\n",
        "!pip install us\n",
        "import us\n",
        "import seaborn as sns"
      ],
      "execution_count": null,
      "outputs": [
        {
          "output_type": "stream",
          "name": "stdout",
          "text": [
            "Collecting plotly==4.5\n",
            "  Downloading plotly-4.5.0-py2.py3-none-any.whl (7.1 MB)\n",
            "\u001b[K     |████████████████████████████████| 7.1 MB 7.5 MB/s \n",
            "\u001b[?25hRequirement already satisfied: six in /usr/local/lib/python3.7/dist-packages (from plotly==4.5) (1.15.0)\n",
            "Requirement already satisfied: retrying>=1.3.3 in /usr/local/lib/python3.7/dist-packages (from plotly==4.5) (1.3.3)\n",
            "Installing collected packages: plotly\n",
            "  Attempting uninstall: plotly\n",
            "    Found existing installation: plotly 4.4.1\n",
            "    Uninstalling plotly-4.4.1:\n",
            "      Successfully uninstalled plotly-4.4.1\n",
            "Successfully installed plotly-4.5.0\n",
            "Collecting us\n",
            "  Downloading us-2.0.2.tar.gz (14 kB)\n",
            "Collecting jellyfish==0.6.1\n",
            "  Downloading jellyfish-0.6.1.tar.gz (132 kB)\n",
            "\u001b[K     |████████████████████████████████| 132 kB 7.5 MB/s \n",
            "\u001b[?25hBuilding wheels for collected packages: us, jellyfish\n",
            "  Building wheel for us (setup.py) ... \u001b[?25l\u001b[?25hdone\n",
            "  Created wheel for us: filename=us-2.0.2-py3-none-any.whl size=11942 sha256=daa5d5570891387616fa9965c421c0aa4a6d8d264fa2ce738163a6a751765882\n",
            "  Stored in directory: /root/.cache/pip/wheels/ca/6b/11/cda9ea2438f721330a35c9a2c8e34b4aedcd34c89af48a4d00\n",
            "  Building wheel for jellyfish (setup.py) ... \u001b[?25l\u001b[?25hdone\n",
            "  Created wheel for jellyfish: filename=jellyfish-0.6.1-cp37-cp37m-linux_x86_64.whl size=72187 sha256=cc95d331cb8fb5a119eda6e28142f5471291b9216710df1477cd62dcd45564fa\n",
            "  Stored in directory: /root/.cache/pip/wheels/a1/99/51/7de469e37cd1b3c763c24394e1ebf1baa2d79e094bf346cf80\n",
            "Successfully built us jellyfish\n",
            "Installing collected packages: jellyfish, us\n",
            "Successfully installed jellyfish-0.6.1 us-2.0.2\n"
          ]
        }
      ]
    },
    {
      "cell_type": "code",
      "metadata": {
        "colab": {
          "base_uri": "https://localhost:8080/"
        },
        "id": "OF1xixhcEznP",
        "outputId": "ba690e92-b120-49e0-8369-376186cf4b1a"
      },
      "source": [
        "drive.mount('/content/drive/')"
      ],
      "execution_count": null,
      "outputs": [
        {
          "output_type": "stream",
          "name": "stdout",
          "text": [
            "Mounted at /content/drive/\n"
          ]
        }
      ]
    },
    {
      "cell_type": "code",
      "metadata": {
        "colab": {
          "base_uri": "https://localhost:8080/"
        },
        "id": "xr3IPQ3lFEd6",
        "outputId": "22e82a81-c9b3-4308-e50f-e38e4b9f247b"
      },
      "source": [
        "%cd /content/drive/Shareddrives/Data606_Energy/data/weather"
      ],
      "execution_count": null,
      "outputs": [
        {
          "output_type": "stream",
          "name": "stdout",
          "text": [
            "/content/drive/Shareddrives/Data606_Energy/data/weather\n"
          ]
        }
      ]
    },
    {
      "cell_type": "code",
      "metadata": {
        "id": "BSJd7MHc3z_e"
      },
      "source": [
        "temp_summary = pd.read_csv('temp_data_by_location.csv')\n",
        "drought_summary = pd.read_csv('drought_data_by_location.csv')"
      ],
      "execution_count": null,
      "outputs": []
    },
    {
      "cell_type": "code",
      "metadata": {
        "id": "VFNH_QUz4BoE"
      },
      "source": [
        "all_data_state = pd.read_csv('../merge_ready/annual_weather_final.csv')"
      ],
      "execution_count": null,
      "outputs": []
    },
    {
      "cell_type": "code",
      "metadata": {
        "id": "zn-8UcZ6I5bt"
      },
      "source": [
        "target_COV = pd.read_csv('../merge_ready/merged_data_2001-2020.csv')[['target_COV','Year','State']]"
      ],
      "execution_count": null,
      "outputs": []
    },
    {
      "cell_type": "code",
      "metadata": {
        "colab": {
          "base_uri": "https://localhost:8080/"
        },
        "id": "H51IJKGWyBrp",
        "outputId": "09b75a1a-5221-4b08-a909-5ebc768e2eab"
      },
      "source": [
        "merged_data = pd.read_csv('../merge_ready/merged_data_2001-2020.csv')\n",
        "vars_to_not_use = list(pd.read_csv('/content/drive/Shareddrives/Data606_Energy/data/merge_ready/annual_powerplant_netgeneration_2001_2021.csv').columns[2:])\n",
        "vars_to_not_use += ['Agg_total_plant_MWh_y','Agg_total_plant_count_y','year.1']\n",
        "\n",
        "for col in vars_to_not_use:\n",
        "  try:\n",
        "    del merged_data[col]\n",
        "  except Exception as e:\n",
        "    print(e)"
      ],
      "execution_count": null,
      "outputs": [
        {
          "output_type": "stream",
          "name": "stdout",
          "text": [
            "'Agg_total_plant_MWh'\n",
            "'Agg_total_plant_count'\n"
          ]
        }
      ]
    },
    {
      "cell_type": "code",
      "metadata": {
        "id": "jTcREUrj-qe6"
      },
      "source": [
        "temp_summary['coord'] = list(zip(temp_summary['x'],temp_summary['y']))\n",
        "drought_summary['coord'] = list(zip(drought_summary['x'],drought_summary['y']))"
      ],
      "execution_count": null,
      "outputs": []
    },
    {
      "cell_type": "code",
      "metadata": {
        "id": "52HyyT3HCWtr"
      },
      "source": [
        "pdsi_data = drought_summary.copy()[['Standardized Drought '+str(i) for i in range(1,13)]+['State','Year','x','y','Population Density']]\n",
        "temp_data = temp_summary.copy()[['Standardized Temp '+str(i) for i in range(1,13)]+['State','Year','x','y','Population Density']]"
      ],
      "execution_count": null,
      "outputs": []
    },
    {
      "cell_type": "markdown",
      "metadata": {
        "id": "ZnbdI3R5-pRq"
      },
      "source": [
        "### Create Functions to Process the Dataframes"
      ]
    },
    {
      "cell_type": "code",
      "metadata": {
        "id": "mIPuq3wa-75i"
      },
      "source": [
        "# this function takes in a dataframe and converts it into an applicable format using the function format_df\n",
        "# and then subsets the rows based on the input month. Then, this is merged with a dataframe which has the target variable\n",
        "# the variable \"variable_name\" is used for assigning the name of the value - usually temp or pdsi\n",
        "def get_month_corr_data(df, month, target_df):\n",
        "  new_month_data_target = pd.merge(df[[month,'Year','State','x','y']],target_df[['State','Year','target_COV']],on=['State','Year'])\n",
        "  # get a column that is the coordinate pair\n",
        "  new_month_data_target['coord'] = [(new_month_data_target['x'].iloc[i], new_month_data_target['y'].iloc[i]) for i in range(new_month_data_target.shape[0])]\n",
        "  # find the unique locations and loop through them to get correlations\n",
        "  unique_locations = new_month_data_target['coord'].unique()\n",
        "  correlations = []\n",
        "  states = []\n",
        "  for location in unique_locations:\n",
        "    df_subset = new_month_data_target.copy()[new_month_data_target['coord']==location]\n",
        "    correlations.append(np.array(df_subset[[month,'target_COV']].corr())[0][1])\n",
        "    states.append(df_subset['State'].iloc[0])\n",
        "  array_locations = np.array([np.array(c) for c in unique_locations])\n",
        "\n",
        "  # make a dataframe out of the correlations\n",
        "  corr_df = pd.DataFrame({'x':array_locations[:,0],'y':array_locations[:,1],'Correlation':correlations,'State':states})\n",
        "  return corr_df"
      ],
      "execution_count": null,
      "outputs": []
    },
    {
      "cell_type": "markdown",
      "metadata": {
        "id": "d741shLJ_g_o"
      },
      "source": [
        "## Abs\n",
        "### Make versions of the temp and pdsi dataframes that are only the absolute value of the standardized values"
      ]
    },
    {
      "cell_type": "code",
      "metadata": {
        "id": "J3qtZV_E-7-4"
      },
      "source": [
        "pdsi_data_abs = pdsi_data.copy()\n",
        "for col in pdsi_data_abs.columns:\n",
        "  try:\n",
        "    pdsi_data_abs[col] = pdsi_data_abs[col].abs()\n",
        "  except:\n",
        "    ...\n",
        "\n",
        "\n",
        "temp_data_abs = temp_data.copy()\n",
        "for col in temp_data_abs.columns:\n",
        "  try:\n",
        "    temp_data_abs[col] = temp_data_abs[col].abs()\n",
        "  except:\n",
        "    ..."
      ],
      "execution_count": null,
      "outputs": []
    },
    {
      "cell_type": "markdown",
      "metadata": {
        "id": "DVwxOmfj_wrU"
      },
      "source": [
        "# Above/Below\n",
        "### Make temp and pdsi dataframe masks that show which months where the standardized values are either positive or negative."
      ]
    },
    {
      "cell_type": "code",
      "metadata": {
        "id": "9dD_Zq5M_aId",
        "colab": {
          "base_uri": "https://localhost:8080/"
        },
        "outputId": "0136be51-e4b7-4a0b-d9ac-5c8f05b00322"
      },
      "source": [
        "pdsi_data_above = pdsi_data.copy()\n",
        "pdsi_data_below = pdsi_data.copy()\n",
        "for col in pdsi_data.columns:\n",
        "  if col not in ['State','Year','x','y','Population Density']:\n",
        "    try:\n",
        "      #col.year\n",
        "      pdsi_data_above[col][(pdsi_data_above[col] < 0)] = np.nan\n",
        "      pdsi_data_below[col][(pdsi_data_below[col] > 0)] = np.nan\n",
        "    except:\n",
        "      ...\n",
        "\n",
        "temp_data_above = temp_data.copy()\n",
        "temp_data_below = temp_data.copy()\n",
        "for col in temp_data.columns:\n",
        "  if col not in ['State','Year','x','y','Population Density']:\n",
        "    try:\n",
        "      #col.year\n",
        "      temp_data_above[col][(temp_data_above[col] < 0)] = np.nan\n",
        "      temp_data_below[col][(temp_data_below[col] > 0)] = np.nan\n",
        "    except:\n",
        "      ..."
      ],
      "execution_count": null,
      "outputs": [
        {
          "output_type": "stream",
          "name": "stderr",
          "text": [
            "/usr/local/lib/python3.7/dist-packages/ipykernel_launcher.py:7: SettingWithCopyWarning: \n",
            "A value is trying to be set on a copy of a slice from a DataFrame\n",
            "\n",
            "See the caveats in the documentation: https://pandas.pydata.org/pandas-docs/stable/user_guide/indexing.html#returning-a-view-versus-a-copy\n",
            "  import sys\n",
            "/usr/local/lib/python3.7/dist-packages/ipykernel_launcher.py:8: SettingWithCopyWarning: \n",
            "A value is trying to be set on a copy of a slice from a DataFrame\n",
            "\n",
            "See the caveats in the documentation: https://pandas.pydata.org/pandas-docs/stable/user_guide/indexing.html#returning-a-view-versus-a-copy\n",
            "  \n",
            "/usr/local/lib/python3.7/dist-packages/ipykernel_launcher.py:7: SettingWithCopyWarning: \n",
            "A value is trying to be set on a copy of a slice from a DataFrame\n",
            "\n",
            "See the caveats in the documentation: https://pandas.pydata.org/pandas-docs/stable/user_guide/indexing.html#returning-a-view-versus-a-copy\n",
            "  import sys\n",
            "/usr/local/lib/python3.7/dist-packages/ipykernel_launcher.py:8: SettingWithCopyWarning: \n",
            "A value is trying to be set on a copy of a slice from a DataFrame\n",
            "\n",
            "See the caveats in the documentation: https://pandas.pydata.org/pandas-docs/stable/user_guide/indexing.html#returning-a-view-versus-a-copy\n",
            "  \n",
            "/usr/local/lib/python3.7/dist-packages/ipykernel_launcher.py:7: SettingWithCopyWarning: \n",
            "A value is trying to be set on a copy of a slice from a DataFrame\n",
            "\n",
            "See the caveats in the documentation: https://pandas.pydata.org/pandas-docs/stable/user_guide/indexing.html#returning-a-view-versus-a-copy\n",
            "  import sys\n",
            "/usr/local/lib/python3.7/dist-packages/ipykernel_launcher.py:8: SettingWithCopyWarning: \n",
            "A value is trying to be set on a copy of a slice from a DataFrame\n",
            "\n",
            "See the caveats in the documentation: https://pandas.pydata.org/pandas-docs/stable/user_guide/indexing.html#returning-a-view-versus-a-copy\n",
            "  \n",
            "/usr/local/lib/python3.7/dist-packages/ipykernel_launcher.py:7: SettingWithCopyWarning: \n",
            "A value is trying to be set on a copy of a slice from a DataFrame\n",
            "\n",
            "See the caveats in the documentation: https://pandas.pydata.org/pandas-docs/stable/user_guide/indexing.html#returning-a-view-versus-a-copy\n",
            "  import sys\n",
            "/usr/local/lib/python3.7/dist-packages/ipykernel_launcher.py:8: SettingWithCopyWarning: \n",
            "A value is trying to be set on a copy of a slice from a DataFrame\n",
            "\n",
            "See the caveats in the documentation: https://pandas.pydata.org/pandas-docs/stable/user_guide/indexing.html#returning-a-view-versus-a-copy\n",
            "  \n",
            "/usr/local/lib/python3.7/dist-packages/ipykernel_launcher.py:7: SettingWithCopyWarning: \n",
            "A value is trying to be set on a copy of a slice from a DataFrame\n",
            "\n",
            "See the caveats in the documentation: https://pandas.pydata.org/pandas-docs/stable/user_guide/indexing.html#returning-a-view-versus-a-copy\n",
            "  import sys\n",
            "/usr/local/lib/python3.7/dist-packages/ipykernel_launcher.py:8: SettingWithCopyWarning: \n",
            "A value is trying to be set on a copy of a slice from a DataFrame\n",
            "\n",
            "See the caveats in the documentation: https://pandas.pydata.org/pandas-docs/stable/user_guide/indexing.html#returning-a-view-versus-a-copy\n",
            "  \n",
            "/usr/local/lib/python3.7/dist-packages/ipykernel_launcher.py:7: SettingWithCopyWarning: \n",
            "A value is trying to be set on a copy of a slice from a DataFrame\n",
            "\n",
            "See the caveats in the documentation: https://pandas.pydata.org/pandas-docs/stable/user_guide/indexing.html#returning-a-view-versus-a-copy\n",
            "  import sys\n",
            "/usr/local/lib/python3.7/dist-packages/ipykernel_launcher.py:8: SettingWithCopyWarning: \n",
            "A value is trying to be set on a copy of a slice from a DataFrame\n",
            "\n",
            "See the caveats in the documentation: https://pandas.pydata.org/pandas-docs/stable/user_guide/indexing.html#returning-a-view-versus-a-copy\n",
            "  \n",
            "/usr/local/lib/python3.7/dist-packages/ipykernel_launcher.py:7: SettingWithCopyWarning: \n",
            "A value is trying to be set on a copy of a slice from a DataFrame\n",
            "\n",
            "See the caveats in the documentation: https://pandas.pydata.org/pandas-docs/stable/user_guide/indexing.html#returning-a-view-versus-a-copy\n",
            "  import sys\n",
            "/usr/local/lib/python3.7/dist-packages/ipykernel_launcher.py:8: SettingWithCopyWarning: \n",
            "A value is trying to be set on a copy of a slice from a DataFrame\n",
            "\n",
            "See the caveats in the documentation: https://pandas.pydata.org/pandas-docs/stable/user_guide/indexing.html#returning-a-view-versus-a-copy\n",
            "  \n",
            "/usr/local/lib/python3.7/dist-packages/ipykernel_launcher.py:7: SettingWithCopyWarning: \n",
            "A value is trying to be set on a copy of a slice from a DataFrame\n",
            "\n",
            "See the caveats in the documentation: https://pandas.pydata.org/pandas-docs/stable/user_guide/indexing.html#returning-a-view-versus-a-copy\n",
            "  import sys\n",
            "/usr/local/lib/python3.7/dist-packages/ipykernel_launcher.py:8: SettingWithCopyWarning: \n",
            "A value is trying to be set on a copy of a slice from a DataFrame\n",
            "\n",
            "See the caveats in the documentation: https://pandas.pydata.org/pandas-docs/stable/user_guide/indexing.html#returning-a-view-versus-a-copy\n",
            "  \n",
            "/usr/local/lib/python3.7/dist-packages/ipykernel_launcher.py:7: SettingWithCopyWarning: \n",
            "A value is trying to be set on a copy of a slice from a DataFrame\n",
            "\n",
            "See the caveats in the documentation: https://pandas.pydata.org/pandas-docs/stable/user_guide/indexing.html#returning-a-view-versus-a-copy\n",
            "  import sys\n",
            "/usr/local/lib/python3.7/dist-packages/ipykernel_launcher.py:8: SettingWithCopyWarning: \n",
            "A value is trying to be set on a copy of a slice from a DataFrame\n",
            "\n",
            "See the caveats in the documentation: https://pandas.pydata.org/pandas-docs/stable/user_guide/indexing.html#returning-a-view-versus-a-copy\n",
            "  \n",
            "/usr/local/lib/python3.7/dist-packages/ipykernel_launcher.py:7: SettingWithCopyWarning: \n",
            "A value is trying to be set on a copy of a slice from a DataFrame\n",
            "\n",
            "See the caveats in the documentation: https://pandas.pydata.org/pandas-docs/stable/user_guide/indexing.html#returning-a-view-versus-a-copy\n",
            "  import sys\n",
            "/usr/local/lib/python3.7/dist-packages/ipykernel_launcher.py:8: SettingWithCopyWarning: \n",
            "A value is trying to be set on a copy of a slice from a DataFrame\n",
            "\n",
            "See the caveats in the documentation: https://pandas.pydata.org/pandas-docs/stable/user_guide/indexing.html#returning-a-view-versus-a-copy\n",
            "  \n",
            "/usr/local/lib/python3.7/dist-packages/ipykernel_launcher.py:7: SettingWithCopyWarning: \n",
            "A value is trying to be set on a copy of a slice from a DataFrame\n",
            "\n",
            "See the caveats in the documentation: https://pandas.pydata.org/pandas-docs/stable/user_guide/indexing.html#returning-a-view-versus-a-copy\n",
            "  import sys\n",
            "/usr/local/lib/python3.7/dist-packages/ipykernel_launcher.py:8: SettingWithCopyWarning: \n",
            "A value is trying to be set on a copy of a slice from a DataFrame\n",
            "\n",
            "See the caveats in the documentation: https://pandas.pydata.org/pandas-docs/stable/user_guide/indexing.html#returning-a-view-versus-a-copy\n",
            "  \n",
            "/usr/local/lib/python3.7/dist-packages/ipykernel_launcher.py:7: SettingWithCopyWarning: \n",
            "A value is trying to be set on a copy of a slice from a DataFrame\n",
            "\n",
            "See the caveats in the documentation: https://pandas.pydata.org/pandas-docs/stable/user_guide/indexing.html#returning-a-view-versus-a-copy\n",
            "  import sys\n",
            "/usr/local/lib/python3.7/dist-packages/ipykernel_launcher.py:8: SettingWithCopyWarning: \n",
            "A value is trying to be set on a copy of a slice from a DataFrame\n",
            "\n",
            "See the caveats in the documentation: https://pandas.pydata.org/pandas-docs/stable/user_guide/indexing.html#returning-a-view-versus-a-copy\n",
            "  \n",
            "/usr/local/lib/python3.7/dist-packages/ipykernel_launcher.py:18: SettingWithCopyWarning: \n",
            "A value is trying to be set on a copy of a slice from a DataFrame\n",
            "\n",
            "See the caveats in the documentation: https://pandas.pydata.org/pandas-docs/stable/user_guide/indexing.html#returning-a-view-versus-a-copy\n",
            "/usr/local/lib/python3.7/dist-packages/ipykernel_launcher.py:19: SettingWithCopyWarning: \n",
            "A value is trying to be set on a copy of a slice from a DataFrame\n",
            "\n",
            "See the caveats in the documentation: https://pandas.pydata.org/pandas-docs/stable/user_guide/indexing.html#returning-a-view-versus-a-copy\n",
            "/usr/local/lib/python3.7/dist-packages/ipykernel_launcher.py:18: SettingWithCopyWarning: \n",
            "A value is trying to be set on a copy of a slice from a DataFrame\n",
            "\n",
            "See the caveats in the documentation: https://pandas.pydata.org/pandas-docs/stable/user_guide/indexing.html#returning-a-view-versus-a-copy\n",
            "/usr/local/lib/python3.7/dist-packages/ipykernel_launcher.py:19: SettingWithCopyWarning: \n",
            "A value is trying to be set on a copy of a slice from a DataFrame\n",
            "\n",
            "See the caveats in the documentation: https://pandas.pydata.org/pandas-docs/stable/user_guide/indexing.html#returning-a-view-versus-a-copy\n",
            "/usr/local/lib/python3.7/dist-packages/ipykernel_launcher.py:18: SettingWithCopyWarning: \n",
            "A value is trying to be set on a copy of a slice from a DataFrame\n",
            "\n",
            "See the caveats in the documentation: https://pandas.pydata.org/pandas-docs/stable/user_guide/indexing.html#returning-a-view-versus-a-copy\n",
            "/usr/local/lib/python3.7/dist-packages/ipykernel_launcher.py:19: SettingWithCopyWarning: \n",
            "A value is trying to be set on a copy of a slice from a DataFrame\n",
            "\n",
            "See the caveats in the documentation: https://pandas.pydata.org/pandas-docs/stable/user_guide/indexing.html#returning-a-view-versus-a-copy\n",
            "/usr/local/lib/python3.7/dist-packages/ipykernel_launcher.py:18: SettingWithCopyWarning: \n",
            "A value is trying to be set on a copy of a slice from a DataFrame\n",
            "\n",
            "See the caveats in the documentation: https://pandas.pydata.org/pandas-docs/stable/user_guide/indexing.html#returning-a-view-versus-a-copy\n",
            "/usr/local/lib/python3.7/dist-packages/ipykernel_launcher.py:19: SettingWithCopyWarning: \n",
            "A value is trying to be set on a copy of a slice from a DataFrame\n",
            "\n",
            "See the caveats in the documentation: https://pandas.pydata.org/pandas-docs/stable/user_guide/indexing.html#returning-a-view-versus-a-copy\n",
            "/usr/local/lib/python3.7/dist-packages/ipykernel_launcher.py:18: SettingWithCopyWarning: \n",
            "A value is trying to be set on a copy of a slice from a DataFrame\n",
            "\n",
            "See the caveats in the documentation: https://pandas.pydata.org/pandas-docs/stable/user_guide/indexing.html#returning-a-view-versus-a-copy\n",
            "/usr/local/lib/python3.7/dist-packages/ipykernel_launcher.py:19: SettingWithCopyWarning: \n",
            "A value is trying to be set on a copy of a slice from a DataFrame\n",
            "\n",
            "See the caveats in the documentation: https://pandas.pydata.org/pandas-docs/stable/user_guide/indexing.html#returning-a-view-versus-a-copy\n",
            "/usr/local/lib/python3.7/dist-packages/ipykernel_launcher.py:18: SettingWithCopyWarning: \n",
            "A value is trying to be set on a copy of a slice from a DataFrame\n",
            "\n",
            "See the caveats in the documentation: https://pandas.pydata.org/pandas-docs/stable/user_guide/indexing.html#returning-a-view-versus-a-copy\n",
            "/usr/local/lib/python3.7/dist-packages/ipykernel_launcher.py:19: SettingWithCopyWarning: \n",
            "A value is trying to be set on a copy of a slice from a DataFrame\n",
            "\n",
            "See the caveats in the documentation: https://pandas.pydata.org/pandas-docs/stable/user_guide/indexing.html#returning-a-view-versus-a-copy\n",
            "/usr/local/lib/python3.7/dist-packages/ipykernel_launcher.py:18: SettingWithCopyWarning: \n",
            "A value is trying to be set on a copy of a slice from a DataFrame\n",
            "\n",
            "See the caveats in the documentation: https://pandas.pydata.org/pandas-docs/stable/user_guide/indexing.html#returning-a-view-versus-a-copy\n",
            "/usr/local/lib/python3.7/dist-packages/ipykernel_launcher.py:19: SettingWithCopyWarning: \n",
            "A value is trying to be set on a copy of a slice from a DataFrame\n",
            "\n",
            "See the caveats in the documentation: https://pandas.pydata.org/pandas-docs/stable/user_guide/indexing.html#returning-a-view-versus-a-copy\n",
            "/usr/local/lib/python3.7/dist-packages/ipykernel_launcher.py:18: SettingWithCopyWarning: \n",
            "A value is trying to be set on a copy of a slice from a DataFrame\n",
            "\n",
            "See the caveats in the documentation: https://pandas.pydata.org/pandas-docs/stable/user_guide/indexing.html#returning-a-view-versus-a-copy\n",
            "/usr/local/lib/python3.7/dist-packages/ipykernel_launcher.py:19: SettingWithCopyWarning: \n",
            "A value is trying to be set on a copy of a slice from a DataFrame\n",
            "\n",
            "See the caveats in the documentation: https://pandas.pydata.org/pandas-docs/stable/user_guide/indexing.html#returning-a-view-versus-a-copy\n",
            "/usr/local/lib/python3.7/dist-packages/ipykernel_launcher.py:18: SettingWithCopyWarning: \n",
            "A value is trying to be set on a copy of a slice from a DataFrame\n",
            "\n",
            "See the caveats in the documentation: https://pandas.pydata.org/pandas-docs/stable/user_guide/indexing.html#returning-a-view-versus-a-copy\n",
            "/usr/local/lib/python3.7/dist-packages/ipykernel_launcher.py:19: SettingWithCopyWarning: \n",
            "A value is trying to be set on a copy of a slice from a DataFrame\n",
            "\n",
            "See the caveats in the documentation: https://pandas.pydata.org/pandas-docs/stable/user_guide/indexing.html#returning-a-view-versus-a-copy\n",
            "/usr/local/lib/python3.7/dist-packages/ipykernel_launcher.py:18: SettingWithCopyWarning: \n",
            "A value is trying to be set on a copy of a slice from a DataFrame\n",
            "\n",
            "See the caveats in the documentation: https://pandas.pydata.org/pandas-docs/stable/user_guide/indexing.html#returning-a-view-versus-a-copy\n",
            "/usr/local/lib/python3.7/dist-packages/ipykernel_launcher.py:19: SettingWithCopyWarning: \n",
            "A value is trying to be set on a copy of a slice from a DataFrame\n",
            "\n",
            "See the caveats in the documentation: https://pandas.pydata.org/pandas-docs/stable/user_guide/indexing.html#returning-a-view-versus-a-copy\n",
            "/usr/local/lib/python3.7/dist-packages/ipykernel_launcher.py:18: SettingWithCopyWarning: \n",
            "A value is trying to be set on a copy of a slice from a DataFrame\n",
            "\n",
            "See the caveats in the documentation: https://pandas.pydata.org/pandas-docs/stable/user_guide/indexing.html#returning-a-view-versus-a-copy\n",
            "/usr/local/lib/python3.7/dist-packages/ipykernel_launcher.py:19: SettingWithCopyWarning: \n",
            "A value is trying to be set on a copy of a slice from a DataFrame\n",
            "\n",
            "See the caveats in the documentation: https://pandas.pydata.org/pandas-docs/stable/user_guide/indexing.html#returning-a-view-versus-a-copy\n",
            "/usr/local/lib/python3.7/dist-packages/ipykernel_launcher.py:18: SettingWithCopyWarning: \n",
            "A value is trying to be set on a copy of a slice from a DataFrame\n",
            "\n",
            "See the caveats in the documentation: https://pandas.pydata.org/pandas-docs/stable/user_guide/indexing.html#returning-a-view-versus-a-copy\n",
            "/usr/local/lib/python3.7/dist-packages/ipykernel_launcher.py:19: SettingWithCopyWarning: \n",
            "A value is trying to be set on a copy of a slice from a DataFrame\n",
            "\n",
            "See the caveats in the documentation: https://pandas.pydata.org/pandas-docs/stable/user_guide/indexing.html#returning-a-view-versus-a-copy\n"
          ]
        }
      ]
    },
    {
      "cell_type": "code",
      "metadata": {
        "id": "2_VzK1hQ-x8q"
      },
      "source": [
        ""
      ],
      "execution_count": null,
      "outputs": []
    },
    {
      "cell_type": "markdown",
      "metadata": {
        "id": "DYA7JDZAAI6y"
      },
      "source": [
        "# Find the correlations between each locations values and the target COV\n",
        "### Do this with each of the dataframes above \n",
        "1. See if absolute value of the standardized variable is correlated - maybe any weather pattersn away from average are important.\n",
        "2. See if locations and months with above average weather are more correlated with the target COV\n",
        "3. See if locations and months with below average weather are more correlated with the target COV\n",
        "4. See if the regular standardized values are correlated with the target COV"
      ]
    },
    {
      "cell_type": "code",
      "metadata": {
        "id": "HCPNEhNj_aK5"
      },
      "source": [
        "# this took quite a while to run so I am commenting it out since the results have been saved\n",
        "#for month in range(1,13):\n",
        "  # print(month)\n",
        "  # corr_df_pdsi = get_month_corr_data(pdsi_data,'Standardized Drought '+str(month),target_COV)\n",
        "  # corr_df_pdsi_abs = get_month_corr_data(pdsi_data_abs.copy(),'Standardized Drought '+str(month),target_COV)\n",
        "  # corr_df_pdsi_above = get_month_corr_data(pdsi_data_above.copy(),'Standardized Drought '+str(month),target_COV)\n",
        "  # corr_df_pdsi_below = get_month_corr_data(pdsi_data_below.copy(),'Standardized Drought '+str(month),target_COV)\n",
        "  # corr_df_pdsi.to_csv('for_correlations/PDSI Correlations {}.csv'.format(month))\n",
        "  # corr_df_pdsi_abs.to_csv('for_correlations/PDSI Abs Correlations {}.csv'.format(month))\n",
        "  # corr_df_pdsi_above.to_csv('for_correlations/PDSI Above Correlations {}.csv'.format(month))\n",
        "  # corr_df_pdsi_below.to_csv('for_correlations/PDSI Below Correlations {}.csv'.format(month))\n",
        "  # # save the results\n",
        "  # corr_df_temp = get_month_corr_data(temp_data,'Standardized Temp '+str(month),target_COV)\n",
        "  # corr_df_temp_abs = get_month_corr_data(temp_data_abs.copy(),'Standardized Temp '+str(month),target_COV)\n",
        "  # corr_df_temp_above = get_month_corr_data(temp_data_above.copy(),'Standardized Temp '+str(month),target_COV)\n",
        "  # corr_df_temp_below = get_month_corr_data(temp_data_below.copy(),'Standardized Temp '+str(month),target_COV)\n",
        "  # corr_df_temp.to_csv('for_correlations/Temp Correlations {}.csv'.format(month))\n",
        "  # corr_df_temp_abs.to_csv('for_correlations/Temp Abs Correlations {}.csv'.format(month))\n",
        "  # corr_df_temp_above.to_csv('for_correlations/Temp Above Correlations {}.csv'.format(month))\n",
        "  # corr_df_temp_below.to_csv('for_correlations/Temp Below Correlations {}.csv'.format(month))"
      ],
      "execution_count": null,
      "outputs": []
    },
    {
      "cell_type": "code",
      "metadata": {
        "id": "rWfWMCRo_aPJ"
      },
      "source": [
        "# get the mean absolute value of correlations for each month and for each type of underlying correlation\n",
        "abs_temp_corrs = [pd.read_csv('for_correlations/Temp Abs Correlations {}.csv'.format(month))['Correlation'].abs().mean() for month in range(1,13)]\n",
        "abs_pdsi_corrs = [pd.read_csv('for_correlations/PDSI Abs Correlations {}.csv'.format(month))['Correlation'].abs().mean() for month in range(1,13)]\n",
        "above_temp_corrs = [pd.read_csv('for_correlations/Temp Above Correlations {}.csv'.format(month))['Correlation'].abs().mean() for month in range(1,13)]\n",
        "above_pdsi_corrs = [pd.read_csv('for_correlations/PDSI Above Correlations {}.csv'.format(month))['Correlation'].abs().mean() for month in range(1,13)]\n",
        "below_temp_corrs = [pd.read_csv('for_correlations/Temp Below Correlations {}.csv'.format(month))['Correlation'].abs().mean() for month in range(1,13)]\n",
        "below_pdsi_corrs = [pd.read_csv('for_correlations/PDSI Below Correlations {}.csv'.format(month))['Correlation'].abs().mean() for month in range(1,13)]\n",
        "temp_corrs = [pd.read_csv('for_correlations/Temp Correlations {}.csv'.format(month))['Correlation'].abs().mean() for month in range(1,13)]\n",
        "pdsi_corrs = [pd.read_csv('for_correlations/PDSI Correlations {}.csv'.format(month))['Correlation'].abs().mean() for month in range(1,13)]"
      ],
      "execution_count": null,
      "outputs": []
    },
    {
      "cell_type": "code",
      "metadata": {
        "id": "9cBtXol9-ola"
      },
      "source": [
        "# load the dataframes into lists - one dataframe per month and per uynderlying correlation type\n",
        "abs_temp_corr_dfs = [pd.read_csv('for_correlations/Temp Abs Correlations {}.csv'.format(month)) for month in range(1,13)]\n",
        "abs_pdsi_corr_dfs = [pd.read_csv('for_correlations/PDSI Abs Correlations {}.csv'.format(month)) for month in range(1,13)]\n",
        "above_temp_corr_dfs = [pd.read_csv('for_correlations/Temp Above Correlations {}.csv'.format(month)) for month in range(1,13)]\n",
        "above_pdsi_corr_dfs = [pd.read_csv('for_correlations/PDSI Above Correlations {}.csv'.format(month)) for month in range(1,13)]\n",
        "below_temp_corr_dfs = [pd.read_csv('for_correlations/Temp Below Correlations {}.csv'.format(month)) for month in range(1,13)]\n",
        "below_pdsi_corr_dfs = [pd.read_csv('for_correlations/PDSI Below Correlations {}.csv'.format(month)) for month in range(1,13)]\n",
        "temp_corr_dfs = [pd.read_csv('for_correlations/Temp Correlations {}.csv'.format(month)) for month in range(1,13)]\n",
        "pdsi_corr_dfs = [pd.read_csv('for_correlations/PDSI Correlations {}.csv'.format(month)) for month in range(1,13)]"
      ],
      "execution_count": null,
      "outputs": []
    },
    {
      "cell_type": "markdown",
      "metadata": {
        "id": "uq7_2aEgKEBx"
      },
      "source": [
        "# Some Correlation Plots"
      ]
    },
    {
      "cell_type": "code",
      "metadata": {
        "colab": {
          "base_uri": "https://localhost:8080/",
          "height": 329
        },
        "id": "m6ZncRxgBx7P",
        "outputId": "d5d323b7-4f0c-4b20-bd34-c54cda09e876"
      },
      "source": [
        "# find which month and data type offers the highest average absolute value of correlation\n",
        "plt.plot(range(1,13),temp_corrs,label='Correlation Between Regular Standardized Values')\n",
        "plt.plot(range(1,13),abs_temp_corrs,label='Correlation Between Absolute Value')\n",
        "plt.plot(range(1,13),above_temp_corrs,label='Correlation Between Values Above Average')\n",
        "plt.plot(range(1,13),below_temp_corrs,label='Correlation Between Values Below Average')\n",
        "plt.legend()\n",
        "plt.title('Average Correlations Between Locations Temperature\\nand Underlying States Following Years Coefficient of Variation')\n",
        "plt.xlabel('Month')\n",
        "plt.ylabel('Mean Correlation')\n",
        "plt.ylim([0.1,0.7])\n",
        "plt.xticks(range(1,13),['Jan','Feb','March','April','May','June','July','Aug','Sep','Oct','Nov','Dec'],rotation=45);"
      ],
      "execution_count": null,
      "outputs": [
        {
          "output_type": "display_data",
          "data": {
            "image/png": "[encoded data removed]",
            "text/plain": [
              "<Figure size 432x288 with 1 Axes>"
            ]
          },
          "metadata": {
            "needs_background": "light"
          }
        }
      ]
    },
    {
      "cell_type": "code",
      "metadata": {
        "colab": {
          "base_uri": "https://localhost:8080/",
          "height": 329
        },
        "id": "RytC9IGFIHiW",
        "outputId": "070bdaab-bdb7-43d6-92fb-a5d1f80acc12"
      },
      "source": [
        "# find which month and data type offers the highest average absolute value of correlation\n",
        "plt.plot(range(1,13),pdsi_corrs,label='Correlation Between Regular Standardized Values')\n",
        "plt.plot(range(1,13),abs_pdsi_corrs,label='Correlation Between Absolute Value')\n",
        "plt.plot(range(1,13),above_pdsi_corrs,label='Correlation Between Values Above Average')\n",
        "plt.plot(range(1,13),below_pdsi_corrs,label='Correlation Between Values Below Average')\n",
        "plt.legend()\n",
        "plt.title('Average Correlations Between Locations PDSI\\nand Underlying States Following Years Coefficient of Variation')\n",
        "plt.xlabel('Month')\n",
        "plt.ylabel('Mean Correlation')\n",
        "plt.ylim([0.1,0.5])\n",
        "plt.xticks(range(1,13),['Jan','Feb','March','April','May','June','July','Aug','Sep','Oct','Nov','Dec'],rotation=45);"
      ],
      "execution_count": null,
      "outputs": [
        {
          "output_type": "display_data",
          "data": {
            "image/png": "[encoded data removed]",
            "text/plain": [
              "<Figure size 432x288 with 1 Axes>"
            ]
          },
          "metadata": {
            "needs_background": "light"
          }
        }
      ]
    },
    {
      "cell_type": "code",
      "metadata": {
        "colab": {
          "base_uri": "https://localhost:8080/",
          "height": 388
        },
        "id": "8UXEcUbiBUY-",
        "outputId": "91a2573a-dad3-4980-eade-36f746cf2ef1"
      },
      "source": [
        "plt.figure(figsize=(8,6))\n",
        "plt.scatter(temp_corr_dfs[7]['x'],temp_corr_dfs[7]['y'],c=temp_corr_dfs[7]['Correlation'],cmap='RdYlGn',s=3)\n",
        "plt.title('Correlation of Locations August Temperature and its States\\nFollowing Years Coefficient of Variation')\n",
        "plt.axis('off')\n",
        "plt.colorbar();"
      ],
      "execution_count": null,
      "outputs": [
        {
          "output_type": "display_data",
          "data": {
            "image/png": "[encoded data removed]",
            "text/plain": [
              "<Figure size 576x432 with 2 Axes>"
            ]
          },
          "metadata": {
            "needs_background": "light"
          }
        }
      ]
    },
    {
      "cell_type": "markdown",
      "metadata": {
        "id": "DGOvMiWvLUVU"
      },
      "source": [
        "These correlations look very state specific. For example, places like Florida have negative correlations between their standardized temperatures and the coefficient of variation. This implies that when temperature is below average, the more below average it is, the less variability there is in electricity prices. However, if you go up to southern Georgia, there is a positive correlation meaning that the further below from average the temperature is, the more variability there is in electricity prices."
      ]
    },
    {
      "cell_type": "code",
      "metadata": {
        "colab": {
          "base_uri": "https://localhost:8080/",
          "height": 394
        },
        "id": "oCxwF-KpBUbh",
        "outputId": "ecd77251-feda-4e1f-8864-469f63a30c07"
      },
      "source": [
        "plt.figure(figsize=(8,6))\n",
        "plt.scatter(below_pdsi_corr_dfs[9]['x'],below_pdsi_corr_dfs[9]['y'],c=below_pdsi_corr_dfs[9]['Correlation'],cmap='RdYlGn',s=3)\n",
        "plt.title('Correlation of Locations PDSI and its States\\nFollowing Years Coefficient of Variation')\n",
        "plt.axis('off')\n",
        "plt.colorbar();"
      ],
      "execution_count": null,
      "outputs": [
        {
          "output_type": "display_data",
          "data": {
            "image/png": "[encoded data removed]",
            "text/plain": [
              "<Figure size 576x432 with 2 Axes>"
            ]
          },
          "metadata": {
            "needs_background": "light"
          }
        }
      ]
    },
    {
      "cell_type": "markdown",
      "metadata": {
        "id": "NGr6mnDrNiAg"
      },
      "source": [
        "This plot seems to make some more sense. It shows areas like the southwest having a negative correlation between PDSI and electricitiy price variability. Since a lower PDSI means worse drought, this makes sense because it suggests droughts in the southwest create more price variability. This also happens alot in some areas of the pacific northwest which seem like they might have a decent ammount of hydroelectric."
      ]
    },
    {
      "cell_type": "markdown",
      "metadata": {
        "id": "DlRVTXj_Pi6O"
      },
      "source": [
        "## See how this stuff correlates with population density - do areas with higher population density tend to have higher degrees of correlation with that states price volatility?"
      ]
    },
    {
      "cell_type": "code",
      "metadata": {
        "colab": {
          "base_uri": "https://localhost:8080/",
          "height": 129
        },
        "id": "eMTXs0XgPiD8",
        "outputId": "0f8f776a-1d08-4997-9219-03eb7cbbee81"
      },
      "source": [
        "temp_corr_pop_corr = pd.merge(above_temp_corr_dfs[7].copy(),temp_data.copy(),on=['x','y'],how='outer')\n",
        "temp_corr_pop_corr['Correlation'] = temp_corr_pop_corr['Correlation'].abs()\n",
        "print('Temperature Correlations between degree of correlation and population measures')\n",
        "temp_corr_pop_corr[['Correlation','Population Density']].corr()"
      ],
      "execution_count": null,
      "outputs": [
        {
          "output_type": "stream",
          "name": "stdout",
          "text": [
            "Temperature Correlations between degree of correlation and population measures\n"
          ]
        },
        {
          "output_type": "execute_result",
          "data": {
            "text/html": [
              "<div>\n",
              "<style scoped>\n",
              "    .dataframe tbody tr th:only-of-type {\n",
              "        vertical-align: middle;\n",
              "    }\n",
              "\n",
              "    .dataframe tbody tr th {\n",
              "        vertical-align: top;\n",
              "    }\n",
              "\n",
              "    .dataframe thead th {\n",
              "        text-align: right;\n",
              "    }\n",
              "</style>\n",
              "<table border=\"1\" class=\"dataframe\">\n",
              "  <thead>\n",
              "    <tr style=\"text-align: right;\">\n",
              "      <th></th>\n",
              "      <th>Correlation</th>\n",
              "      <th>Population Density</th>\n",
              "    </tr>\n",
              "  </thead>\n",
              "  <tbody>\n",
              "    <tr>\n",
              "      <th>Correlation</th>\n",
              "      <td>1.0000</td>\n",
              "      <td>-0.0352</td>\n",
              "    </tr>\n",
              "    <tr>\n",
              "      <th>Population Density</th>\n",
              "      <td>-0.0352</td>\n",
              "      <td>1.0000</td>\n",
              "    </tr>\n",
              "  </tbody>\n",
              "</table>\n",
              "</div>"
            ],
            "text/plain": [
              "                    Correlation  Population Density\n",
              "Correlation              1.0000             -0.0352\n",
              "Population Density      -0.0352              1.0000"
            ]
          },
          "metadata": {},
          "execution_count": 19
        }
      ]
    },
    {
      "cell_type": "code",
      "metadata": {
        "colab": {
          "base_uri": "https://localhost:8080/",
          "height": 129
        },
        "id": "W-en0mtnQ4R0",
        "outputId": "e41eaff6-58a2-402f-fa4f-4cba8c798a06"
      },
      "source": [
        "pdsi_corr_pop_corr = pd.merge(below_pdsi_corr_dfs[9].copy(),pdsi_data.copy(),on=['x','y'],how='outer')\n",
        "pdsi_corr_pop_corr['Correlation'] = pdsi_corr_pop_corr['Correlation'].abs()\n",
        "print('PDSI Correlations between degree of correlation and population measures')\n",
        "pdsi_corr_pop_corr[['Correlation','Population Density']].corr()"
      ],
      "execution_count": null,
      "outputs": [
        {
          "output_type": "stream",
          "name": "stdout",
          "text": [
            "PDSI Correlations between degree of correlation and population measures\n"
          ]
        },
        {
          "output_type": "execute_result",
          "data": {
            "text/html": [
              "<div>\n",
              "<style scoped>\n",
              "    .dataframe tbody tr th:only-of-type {\n",
              "        vertical-align: middle;\n",
              "    }\n",
              "\n",
              "    .dataframe tbody tr th {\n",
              "        vertical-align: top;\n",
              "    }\n",
              "\n",
              "    .dataframe thead th {\n",
              "        text-align: right;\n",
              "    }\n",
              "</style>\n",
              "<table border=\"1\" class=\"dataframe\">\n",
              "  <thead>\n",
              "    <tr style=\"text-align: right;\">\n",
              "      <th></th>\n",
              "      <th>Correlation</th>\n",
              "      <th>Population Density</th>\n",
              "    </tr>\n",
              "  </thead>\n",
              "  <tbody>\n",
              "    <tr>\n",
              "      <th>Correlation</th>\n",
              "      <td>1.000000</td>\n",
              "      <td>0.057148</td>\n",
              "    </tr>\n",
              "    <tr>\n",
              "      <th>Population Density</th>\n",
              "      <td>0.057148</td>\n",
              "      <td>1.000000</td>\n",
              "    </tr>\n",
              "  </tbody>\n",
              "</table>\n",
              "</div>"
            ],
            "text/plain": [
              "                    Correlation  Population Density\n",
              "Correlation            1.000000            0.057148\n",
              "Population Density     0.057148            1.000000"
            ]
          },
          "metadata": {},
          "execution_count": 20
        }
      ]
    },
    {
      "cell_type": "markdown",
      "metadata": {
        "id": "uqi_4Rx_RSQc"
      },
      "source": [
        "There is a slight correlation between the log population density and the correlation with the PDSI data, but not a very large ammount. For temperature, there isn't any correlation."
      ]
    },
    {
      "cell_type": "markdown",
      "metadata": {
        "id": "MG1AYn0vPD9y"
      },
      "source": [
        "# Explore if these correlations relate to other variables - do other variables impact how much weather impacts the prices?"
      ]
    },
    {
      "cell_type": "code",
      "metadata": {
        "id": "VCGHEe2NPNA3"
      },
      "source": [
        "# this function takes in a dataframe of the correlations and then groups it by state, getting the mean correlation\n",
        "def find_correlations(correlations_df, merged_data_state):\n",
        "  corrs_by_state = correlations_df.groupby(by='State').mean()\n",
        "  merged_data_all = pd.merge(merged_data_state,corrs_by_state,on='State')\n",
        "  pos_corrs = merged_data_all.copy()[merged_data_all['Correlation']>=0]\n",
        "  neg_corrs = merged_data_all.copy()[merged_data_all['Correlation']<0]\n",
        "  all_corrs = merged_data_all.copy()\n",
        "  top_pos_corrs = list(pos_corrs.corr()['Correlation'].abs().sort_values(ascending=False)[1:6])\n",
        "  top_pos_corrs_names = list(pos_corrs.corr()['Correlation'].abs().sort_values(ascending=False)[1:6].index)\n",
        "  top_neg_corrs = list(neg_corrs.corr()['Correlation'].abs().sort_values(ascending=False)[1:6])\n",
        "  top_neg_corrs_names = list(neg_corrs.corr()['Correlation'].abs().sort_values(ascending=False)[1:6].index)\n",
        "  top_corrs = list(all_corrs.corr()['Correlation'].abs().sort_values(ascending=False)[1:6])\n",
        "  top_corrs_names = list(all_corrs.corr()['Correlation'].abs().sort_values(ascending=False)[1:6].index)\n",
        "  return (top_pos_corrs, top_neg_corrs, top_pos_corrs_names, top_neg_corrs_names, top_corrs, top_corrs_names)"
      ],
      "execution_count": null,
      "outputs": []
    },
    {
      "cell_type": "code",
      "metadata": {
        "id": "xlMnpOIqPNH1"
      },
      "source": [
        "# get measures of % of different fuel types by state\n",
        "mean_by_state = merged_data.groupby(by='State').mean()\n",
        "mean_by_state['Added'] = (mean_by_state['Agg_R_Wind_MWh'] + mean_by_state['Agg_R_batteries_or_other_use_of_electricity_as_an_energy_source_MWh'] + mean_by_state['Agg_R_Solar_MWh'] +\n",
        "                          mean_by_state['Agg_R_Other_MWh'] + mean_by_state['Agg_R_Oil_Gas_MWh'] + mean_by_state['Agg_R_Nuclear_MWh'] + mean_by_state['Agg_R_Natural_Gas_MWh'] +\n",
        "                          mean_by_state['Agg_R_Municipal_Waste_MWh'] + mean_by_state['Agg_R_Hydroelectric_MWh'] + mean_by_state['Agg_R_Geothermal_MWh'] + mean_by_state['Agg_R_Coal_MWh'] +\n",
        "                          mean_by_state['Agg_R_Biomass_MWh'])\n",
        "\n",
        "mean_by_state['Percent Coal'] = mean_by_state['Agg_R_Coal_MWh']/mean_by_state['Added']\n",
        "mean_by_state['Percent Wind'] = mean_by_state['Agg_R_Wind_MWh']/mean_by_state['Added']\n",
        "mean_by_state['Percent Batteries'] = mean_by_state['Agg_R_batteries_or_other_use_of_electricity_as_an_energy_source_MWh']/mean_by_state['Added']\n",
        "mean_by_state['Percent Solar'] = mean_by_state['Agg_R_Solar_MWh']/mean_by_state['Added']\n",
        "mean_by_state['Percent Other'] = mean_by_state['Agg_R_Other_MWh']/mean_by_state['Added']\n",
        "mean_by_state['Percent Oil Gas'] = mean_by_state['Agg_R_Oil_Gas_MWh']/mean_by_state['Added']\n",
        "mean_by_state['Percent Nuclear'] = mean_by_state['Agg_R_Nuclear_MWh']/mean_by_state['Added']\n",
        "mean_by_state['Percent Natural Gas'] = mean_by_state['Agg_R_Natural_Gas_MWh']/mean_by_state['Added']\n",
        "mean_by_state['Percent Municipal Waste'] = mean_by_state['Agg_R_Municipal_Waste_MWh']/mean_by_state['Added']\n",
        "mean_by_state['Percent Hydroelectric'] = mean_by_state['Agg_R_Hydroelectric_MWh']/mean_by_state['Added']\n",
        "mean_by_state['Percent Geothermal'] = mean_by_state['Agg_R_Geothermal_MWh']/mean_by_state['Added']\n",
        "mean_by_state['Percent Biomass'] = mean_by_state['Agg_R_Biomass_MWh']/mean_by_state['Added']"
      ],
      "execution_count": null,
      "outputs": []
    },
    {
      "cell_type": "code",
      "metadata": {
        "colab": {
          "base_uri": "https://localhost:8080/",
          "height": 344
        },
        "id": "vH98dqkDaqJa",
        "outputId": "56e8c6a8-9a9b-4dca-d4ae-48b9e5cab234"
      },
      "source": [
        "mean_by_state.head()"
      ],
      "execution_count": null,
      "outputs": [
        {
          "output_type": "execute_result",
          "data": {
            "text/html": [
              "<div>\n",
              "<style scoped>\n",
              "    .dataframe tbody tr th:only-of-type {\n",
              "        vertical-align: middle;\n",
              "    }\n",
              "\n",
              "    .dataframe tbody tr th {\n",
              "        vertical-align: top;\n",
              "    }\n",
              "\n",
              "    .dataframe thead th {\n",
              "        text-align: right;\n",
              "    }\n",
              "</style>\n",
              "<table border=\"1\" class=\"dataframe\">\n",
              "  <thead>\n",
              "    <tr style=\"text-align: right;\">\n",
              "      <th></th>\n",
              "      <th>Year</th>\n",
              "      <th>Months Above Average Price Movement BZ=F</th>\n",
              "      <th>Months Above Average Price Volume BZ=F</th>\n",
              "      <th>Months Above Average Price Movement NG=F</th>\n",
              "      <th>Months Above Average Price Volume NG=F</th>\n",
              "      <th>Months Above Average Price Movement CL=F</th>\n",
              "      <th>Months Above Average Price Volume CL=F</th>\n",
              "      <th>Months Above Average Price Movement HO=F</th>\n",
              "      <th>Months Above Average Price Volume HO=F</th>\n",
              "      <th>Hot Summer Months</th>\n",
              "      <th>Cold Winter Months</th>\n",
              "      <th>Dry Summer Months</th>\n",
              "      <th>COV</th>\n",
              "      <th>target_COV</th>\n",
              "      <th>COM_percapita_mean_kWh_electricacc</th>\n",
              "      <th>RES_percapita_mean_kWh_electricacc</th>\n",
              "      <th>COM_percapita_mean_kWh_statepop</th>\n",
              "      <th>RES_percapita_mean_kWh_statepop</th>\n",
              "      <th>Agg_total_plant_MWh_x</th>\n",
              "      <th>Agg_total_plant_count_x</th>\n",
              "      <th>Agg_R_Biomass_MWh</th>\n",
              "      <th>Agg_R_Biomass_count</th>\n",
              "      <th>Agg_R_Coal_MWh</th>\n",
              "      <th>Agg_R_Coal_count</th>\n",
              "      <th>Agg_R_Geothermal_MWh</th>\n",
              "      <th>Agg_R_Geothermal_count</th>\n",
              "      <th>Agg_R_Hydroelectric_MWh</th>\n",
              "      <th>Agg_R_Hydroelectric_count</th>\n",
              "      <th>Agg_R_Municipal_Waste_MWh</th>\n",
              "      <th>Agg_R_Municipal_Waste_count</th>\n",
              "      <th>Agg_R_Natural_Gas_MWh</th>\n",
              "      <th>Agg_R_Natural_Gas_count</th>\n",
              "      <th>Agg_R_Nuclear_MWh</th>\n",
              "      <th>Agg_R_Nuclear_count</th>\n",
              "      <th>Agg_R_Oil_Gas_MWh</th>\n",
              "      <th>Agg_R_Oil_Gas_count</th>\n",
              "      <th>Agg_R_Other_MWh</th>\n",
              "      <th>Agg_R_Other_count</th>\n",
              "      <th>Agg_R_Solar_MWh</th>\n",
              "      <th>Agg_R_Solar_count</th>\n",
              "      <th>Agg_R_Wind_MWh</th>\n",
              "      <th>Agg_R_Wind_count</th>\n",
              "      <th>Agg_R_batteries_or_other_use_of_electricity_as_an_energy_source_MWh</th>\n",
              "      <th>Agg_R_batteries_or_other_use_of_electricity_as_an_energy_source_count</th>\n",
              "      <th>Added</th>\n",
              "      <th>Percent Coal</th>\n",
              "      <th>Percent Wind</th>\n",
              "      <th>Percent Batteries</th>\n",
              "      <th>Percent Solar</th>\n",
              "      <th>Percent Other</th>\n",
              "      <th>Percent Oil Gas</th>\n",
              "      <th>Percent Nuclear</th>\n",
              "      <th>Percent Natural Gas</th>\n",
              "      <th>Percent Municipal Waste</th>\n",
              "      <th>Percent Hydroelectric</th>\n",
              "      <th>Percent Geothermal</th>\n",
              "      <th>Percent Biomass</th>\n",
              "    </tr>\n",
              "    <tr>\n",
              "      <th>State</th>\n",
              "      <th></th>\n",
              "      <th></th>\n",
              "      <th></th>\n",
              "      <th></th>\n",
              "      <th></th>\n",
              "      <th></th>\n",
              "      <th></th>\n",
              "      <th></th>\n",
              "      <th></th>\n",
              "      <th></th>\n",
              "      <th></th>\n",
              "      <th></th>\n",
              "      <th></th>\n",
              "      <th></th>\n",
              "      <th></th>\n",
              "      <th></th>\n",
              "      <th></th>\n",
              "      <th></th>\n",
              "      <th></th>\n",
              "      <th></th>\n",
              "      <th></th>\n",
              "      <th></th>\n",
              "      <th></th>\n",
              "      <th></th>\n",
              "      <th></th>\n",
              "      <th></th>\n",
              "      <th></th>\n",
              "      <th></th>\n",
              "      <th></th>\n",
              "      <th></th>\n",
              "      <th></th>\n",
              "      <th></th>\n",
              "      <th></th>\n",
              "      <th></th>\n",
              "      <th></th>\n",
              "      <th></th>\n",
              "      <th></th>\n",
              "      <th></th>\n",
              "      <th></th>\n",
              "      <th></th>\n",
              "      <th></th>\n",
              "      <th></th>\n",
              "      <th></th>\n",
              "      <th></th>\n",
              "      <th></th>\n",
              "      <th></th>\n",
              "      <th></th>\n",
              "      <th></th>\n",
              "      <th></th>\n",
              "      <th></th>\n",
              "      <th></th>\n",
              "      <th></th>\n",
              "      <th></th>\n",
              "      <th></th>\n",
              "      <th></th>\n",
              "      <th></th>\n",
              "      <th></th>\n",
              "    </tr>\n",
              "  </thead>\n",
              "  <tbody>\n",
              "    <tr>\n",
              "      <th>AK</th>\n",
              "      <td>2010.5</td>\n",
              "      <td>3.9</td>\n",
              "      <td>4.15</td>\n",
              "      <td>5.3</td>\n",
              "      <td>6.45</td>\n",
              "      <td>5.3</td>\n",
              "      <td>6.45</td>\n",
              "      <td>5.05</td>\n",
              "      <td>6.45</td>\n",
              "      <td>0.90</td>\n",
              "      <td>3.4</td>\n",
              "      <td>3.85</td>\n",
              "      <td>0.029065</td>\n",
              "      <td>0.028781</td>\n",
              "      <td>0.23005</td>\n",
              "      <td>0.0326</td>\n",
              "      <td>0.45725</td>\n",
              "      <td>0.32490</td>\n",
              "      <td>6.142794e+06</td>\n",
              "      <td>1650.75</td>\n",
              "      <td>0.0042</td>\n",
              "      <td>0.00710</td>\n",
              "      <td>0.10615</td>\n",
              "      <td>0.04385</td>\n",
              "      <td>0.0000</td>\n",
              "      <td>0.00000</td>\n",
              "      <td>0.21810</td>\n",
              "      <td>0.18595</td>\n",
              "      <td>0.00000</td>\n",
              "      <td>0.00000</td>\n",
              "      <td>0.50810</td>\n",
              "      <td>0.08585</td>\n",
              "      <td>0.00000</td>\n",
              "      <td>0.00000</td>\n",
              "      <td>0.15475</td>\n",
              "      <td>0.65390</td>\n",
              "      <td>0.00000</td>\n",
              "      <td>0.00000</td>\n",
              "      <td>0.00000</td>\n",
              "      <td>0.00000</td>\n",
              "      <td>0.00885</td>\n",
              "      <td>0.01685</td>\n",
              "      <td>-0.00015</td>\n",
              "      <td>0.00655</td>\n",
              "      <td>1.00000</td>\n",
              "      <td>0.106150</td>\n",
              "      <td>0.008850</td>\n",
              "      <td>-0.00015</td>\n",
              "      <td>0.000000</td>\n",
              "      <td>0.00000</td>\n",
              "      <td>0.154750</td>\n",
              "      <td>0.000000</td>\n",
              "      <td>0.508100</td>\n",
              "      <td>0.00000</td>\n",
              "      <td>0.218100</td>\n",
              "      <td>0.00000</td>\n",
              "      <td>0.004200</td>\n",
              "    </tr>\n",
              "    <tr>\n",
              "      <th>AL</th>\n",
              "      <td>2010.5</td>\n",
              "      <td>3.9</td>\n",
              "      <td>4.15</td>\n",
              "      <td>5.3</td>\n",
              "      <td>6.45</td>\n",
              "      <td>5.3</td>\n",
              "      <td>6.45</td>\n",
              "      <td>5.05</td>\n",
              "      <td>6.45</td>\n",
              "      <td>1.15</td>\n",
              "      <td>3.0</td>\n",
              "      <td>3.25</td>\n",
              "      <td>0.051321</td>\n",
              "      <td>0.051500</td>\n",
              "      <td>0.01465</td>\n",
              "      <td>0.0036</td>\n",
              "      <td>0.25260</td>\n",
              "      <td>0.36225</td>\n",
              "      <td>1.306578e+08</td>\n",
              "      <td>1424.90</td>\n",
              "      <td>0.0213</td>\n",
              "      <td>0.17055</td>\n",
              "      <td>0.34865</td>\n",
              "      <td>0.10335</td>\n",
              "      <td>0.0000</td>\n",
              "      <td>0.00000</td>\n",
              "      <td>0.06960</td>\n",
              "      <td>0.18150</td>\n",
              "      <td>0.00000</td>\n",
              "      <td>0.00000</td>\n",
              "      <td>0.27010</td>\n",
              "      <td>0.28195</td>\n",
              "      <td>0.28820</td>\n",
              "      <td>0.01750</td>\n",
              "      <td>0.00145</td>\n",
              "      <td>0.23130</td>\n",
              "      <td>0.00060</td>\n",
              "      <td>0.00615</td>\n",
              "      <td>0.00045</td>\n",
              "      <td>0.00700</td>\n",
              "      <td>0.00000</td>\n",
              "      <td>0.00000</td>\n",
              "      <td>0.00000</td>\n",
              "      <td>0.00080</td>\n",
              "      <td>1.00035</td>\n",
              "      <td>0.348528</td>\n",
              "      <td>0.000000</td>\n",
              "      <td>0.00000</td>\n",
              "      <td>0.000450</td>\n",
              "      <td>0.00060</td>\n",
              "      <td>0.001449</td>\n",
              "      <td>0.288099</td>\n",
              "      <td>0.270005</td>\n",
              "      <td>0.00000</td>\n",
              "      <td>0.069576</td>\n",
              "      <td>0.00000</td>\n",
              "      <td>0.021293</td>\n",
              "    </tr>\n",
              "    <tr>\n",
              "      <th>AR</th>\n",
              "      <td>2010.5</td>\n",
              "      <td>3.9</td>\n",
              "      <td>4.15</td>\n",
              "      <td>5.3</td>\n",
              "      <td>6.45</td>\n",
              "      <td>5.3</td>\n",
              "      <td>6.45</td>\n",
              "      <td>5.05</td>\n",
              "      <td>6.45</td>\n",
              "      <td>1.15</td>\n",
              "      <td>3.3</td>\n",
              "      <td>3.30</td>\n",
              "      <td>0.059043</td>\n",
              "      <td>0.065918</td>\n",
              "      <td>0.10635</td>\n",
              "      <td>0.0220</td>\n",
              "      <td>0.24985</td>\n",
              "      <td>0.38065</td>\n",
              "      <td>5.595958e+07</td>\n",
              "      <td>870.10</td>\n",
              "      <td>0.0257</td>\n",
              "      <td>0.14760</td>\n",
              "      <td>0.45865</td>\n",
              "      <td>0.06890</td>\n",
              "      <td>0.0000</td>\n",
              "      <td>0.00000</td>\n",
              "      <td>0.05475</td>\n",
              "      <td>0.23395</td>\n",
              "      <td>0.00000</td>\n",
              "      <td>0.00000</td>\n",
              "      <td>0.19695</td>\n",
              "      <td>0.25575</td>\n",
              "      <td>0.26005</td>\n",
              "      <td>0.01445</td>\n",
              "      <td>0.00320</td>\n",
              "      <td>0.25245</td>\n",
              "      <td>0.00025</td>\n",
              "      <td>0.00925</td>\n",
              "      <td>0.00050</td>\n",
              "      <td>0.01480</td>\n",
              "      <td>0.00000</td>\n",
              "      <td>0.00000</td>\n",
              "      <td>0.00000</td>\n",
              "      <td>0.00300</td>\n",
              "      <td>1.00005</td>\n",
              "      <td>0.458627</td>\n",
              "      <td>0.000000</td>\n",
              "      <td>0.00000</td>\n",
              "      <td>0.000500</td>\n",
              "      <td>0.00025</td>\n",
              "      <td>0.003200</td>\n",
              "      <td>0.260037</td>\n",
              "      <td>0.196940</td>\n",
              "      <td>0.00000</td>\n",
              "      <td>0.054747</td>\n",
              "      <td>0.00000</td>\n",
              "      <td>0.025699</td>\n",
              "    </tr>\n",
              "    <tr>\n",
              "      <th>AZ</th>\n",
              "      <td>2010.5</td>\n",
              "      <td>3.9</td>\n",
              "      <td>4.15</td>\n",
              "      <td>5.3</td>\n",
              "      <td>6.45</td>\n",
              "      <td>5.3</td>\n",
              "      <td>6.45</td>\n",
              "      <td>5.05</td>\n",
              "      <td>6.45</td>\n",
              "      <td>1.85</td>\n",
              "      <td>2.9</td>\n",
              "      <td>3.90</td>\n",
              "      <td>0.080672</td>\n",
              "      <td>0.079322</td>\n",
              "      <td>0.09300</td>\n",
              "      <td>0.0132</td>\n",
              "      <td>0.38640</td>\n",
              "      <td>0.44045</td>\n",
              "      <td>9.123567e+07</td>\n",
              "      <td>1122.05</td>\n",
              "      <td>0.0011</td>\n",
              "      <td>0.02575</td>\n",
              "      <td>0.24305</td>\n",
              "      <td>0.07355</td>\n",
              "      <td>0.0000</td>\n",
              "      <td>0.00000</td>\n",
              "      <td>0.07705</td>\n",
              "      <td>0.12685</td>\n",
              "      <td>0.00000</td>\n",
              "      <td>0.00000</td>\n",
              "      <td>0.32605</td>\n",
              "      <td>0.31325</td>\n",
              "      <td>0.33345</td>\n",
              "      <td>0.01225</td>\n",
              "      <td>0.00025</td>\n",
              "      <td>0.21435</td>\n",
              "      <td>0.00000</td>\n",
              "      <td>0.00245</td>\n",
              "      <td>0.01640</td>\n",
              "      <td>0.20770</td>\n",
              "      <td>0.00245</td>\n",
              "      <td>0.01925</td>\n",
              "      <td>0.00000</td>\n",
              "      <td>0.00480</td>\n",
              "      <td>0.99980</td>\n",
              "      <td>0.243099</td>\n",
              "      <td>0.002450</td>\n",
              "      <td>0.00000</td>\n",
              "      <td>0.016403</td>\n",
              "      <td>0.00000</td>\n",
              "      <td>0.000250</td>\n",
              "      <td>0.333517</td>\n",
              "      <td>0.326115</td>\n",
              "      <td>0.00000</td>\n",
              "      <td>0.077065</td>\n",
              "      <td>0.00000</td>\n",
              "      <td>0.001100</td>\n",
              "    </tr>\n",
              "    <tr>\n",
              "      <th>CA</th>\n",
              "      <td>2010.5</td>\n",
              "      <td>3.9</td>\n",
              "      <td>4.15</td>\n",
              "      <td>5.3</td>\n",
              "      <td>6.45</td>\n",
              "      <td>5.3</td>\n",
              "      <td>6.45</td>\n",
              "      <td>5.05</td>\n",
              "      <td>6.45</td>\n",
              "      <td>1.10</td>\n",
              "      <td>3.1</td>\n",
              "      <td>3.75</td>\n",
              "      <td>0.086722</td>\n",
              "      <td>0.082225</td>\n",
              "      <td>0.12100</td>\n",
              "      <td>0.0122</td>\n",
              "      <td>0.45710</td>\n",
              "      <td>0.34395</td>\n",
              "      <td>1.749394e+08</td>\n",
              "      <td>10474.30</td>\n",
              "      <td>0.0285</td>\n",
              "      <td>0.08070</td>\n",
              "      <td>0.00365</td>\n",
              "      <td>0.00460</td>\n",
              "      <td>0.0682</td>\n",
              "      <td>0.03525</td>\n",
              "      <td>0.17330</td>\n",
              "      <td>0.29975</td>\n",
              "      <td>0.00135</td>\n",
              "      <td>0.00265</td>\n",
              "      <td>0.53205</td>\n",
              "      <td>0.29750</td>\n",
              "      <td>0.10155</td>\n",
              "      <td>0.00140</td>\n",
              "      <td>0.01070</td>\n",
              "      <td>0.06040</td>\n",
              "      <td>0.00235</td>\n",
              "      <td>0.00815</td>\n",
              "      <td>0.03940</td>\n",
              "      <td>0.13115</td>\n",
              "      <td>0.03880</td>\n",
              "      <td>0.07425</td>\n",
              "      <td>0.00000</td>\n",
              "      <td>0.00430</td>\n",
              "      <td>0.99985</td>\n",
              "      <td>0.003651</td>\n",
              "      <td>0.038806</td>\n",
              "      <td>0.00000</td>\n",
              "      <td>0.039406</td>\n",
              "      <td>0.00235</td>\n",
              "      <td>0.010702</td>\n",
              "      <td>0.101565</td>\n",
              "      <td>0.532130</td>\n",
              "      <td>0.00135</td>\n",
              "      <td>0.173326</td>\n",
              "      <td>0.06821</td>\n",
              "      <td>0.028504</td>\n",
              "    </tr>\n",
              "  </tbody>\n",
              "</table>\n",
              "</div>"
            ],
            "text/plain": [
              "         Year  ...  Percent Biomass\n",
              "State          ...                 \n",
              "AK     2010.5  ...         0.004200\n",
              "AL     2010.5  ...         0.021293\n",
              "AR     2010.5  ...         0.025699\n",
              "AZ     2010.5  ...         0.001100\n",
              "CA     2010.5  ...         0.028504\n",
              "\n",
              "[5 rows x 57 columns]"
            ]
          },
          "metadata": {},
          "execution_count": 18
        }
      ]
    },
    {
      "cell_type": "code",
      "metadata": {
        "id": "s2XCb4TiauI5"
      },
      "source": [
        "to_remove = ['COV','target_COV','Added','Hot Summer Months','Cold Winter Months','Dry Summer Months']\n",
        "for col in mean_by_state.columns:\n",
        "  if '=F' in col:\n",
        "    to_remove.append(col)\n",
        "for col in to_remove:\n",
        "  del mean_by_state[col]\n",
        "\n",
        "for col in mean_by_state.columns:\n",
        "  if 'Agg' in col and 'Agg_total_plant' not in col:\n",
        "    del mean_by_state[col]"
      ],
      "execution_count": null,
      "outputs": []
    },
    {
      "cell_type": "markdown",
      "metadata": {
        "id": "0wZ8aF2_R3V2"
      },
      "source": [
        "Go through each of the types of weather standardized variables - only those greater than 0, only those less than 0, the absolute value of all of them, or the regular standardized numbers."
      ]
    },
    {
      "cell_type": "code",
      "metadata": {
        "id": "tnA8rKjWBUxk"
      },
      "source": [
        "total_in_each = 5\n",
        "\n",
        "all_top_temp_positives = []\n",
        "all_top_temp_negatives = []\n",
        "all_top_temp = []\n",
        "all_top_pdsi_positives = []\n",
        "all_top_pdsi_negatives = []\n",
        "all_top_pdsi = []\n",
        "\n",
        "all_top_temp_positives_names = []\n",
        "all_top_temp_negatives_names = []\n",
        "all_top_temp_names = []\n",
        "all_top_pdsi_positives_names = []\n",
        "all_top_pdsi_negatives_names = []\n",
        "all_top_pdsi_names = []\n",
        "\n",
        "months = []\n",
        "types = []\n",
        "\n",
        "for month in range(12):\n",
        "  pos, neg, pos_names, neg_names, all, all_names = find_correlations(abs_temp_corr_dfs[month],mean_by_state)\n",
        "  all_top_temp_positives += pos\n",
        "  all_top_temp_negatives += neg\n",
        "  all_top_temp_positives_names += pos_names\n",
        "  all_top_temp_negatives_names += neg_names\n",
        "\n",
        "  all_top_temp += all\n",
        "  all_top_temp_names += all_names\n",
        "\n",
        "\n",
        "  pos, neg, pos_names, neg_names, all, all_names = find_correlations(abs_pdsi_corr_dfs[month],mean_by_state)\n",
        "  all_top_pdsi_positives += pos\n",
        "  all_top_pdsi_negatives += neg\n",
        "  all_top_pdsi_positives_names += pos_names\n",
        "  all_top_pdsi_negatives_names += neg_names\n",
        "  \n",
        "  all_top_pdsi += all\n",
        "  all_top_pdsi_names += all_names\n",
        "\n",
        "  \n",
        "  months += [month+1]*total_in_each\n",
        "  types += ['Abs']*total_in_each\n",
        "\n",
        "  pos, neg, pos_names, neg_names, all, all_names = find_correlations(above_temp_corr_dfs[month],mean_by_state)\n",
        "  all_top_temp_positives += pos\n",
        "  all_top_temp_negatives += neg\n",
        "  all_top_temp_positives_names += pos_names\n",
        "  all_top_temp_negatives_names += neg_names\n",
        "\n",
        "  all_top_temp += all\n",
        "  all_top_temp_names += all_names\n",
        "\n",
        "\n",
        "\n",
        "  pos, neg, pos_names, neg_names, all, all_names = find_correlations(above_pdsi_corr_dfs[month],mean_by_state)\n",
        "  all_top_pdsi_positives += pos\n",
        "  all_top_pdsi_negatives += neg\n",
        "  all_top_pdsi_positives_names += pos_names\n",
        "  all_top_pdsi_negatives_names += neg_names\n",
        "\n",
        "  all_top_pdsi += all\n",
        "  all_top_pdsi_names += all_names\n",
        "\n",
        "\n",
        "  months += [month+1]*total_in_each\n",
        "  types += ['Above']*total_in_each\n",
        "\n",
        "\n",
        "  pos, neg, pos_names, neg_names, all, all_names = find_correlations(below_temp_corr_dfs[month],mean_by_state)\n",
        "  all_top_temp_positives += pos\n",
        "  all_top_temp_negatives += neg\n",
        "  all_top_temp_positives_names += pos_names\n",
        "  all_top_temp_negatives_names += neg_names\n",
        "\n",
        "  all_top_temp += all\n",
        "  all_top_temp_names += all_names\n",
        "\n",
        "\n",
        "\n",
        "  pos, neg, pos_names, neg_names, all, all_names = find_correlations(below_pdsi_corr_dfs[month],mean_by_state)\n",
        "  all_top_pdsi_positives += pos\n",
        "  all_top_pdsi_negatives += neg\n",
        "  all_top_pdsi_positives_names += pos_names\n",
        "  all_top_pdsi_negatives_names += neg_names\n",
        "\n",
        "  all_top_pdsi += all\n",
        "  all_top_pdsi_names += all_names\n",
        "\n",
        "\n",
        "  months += [month+1]*total_in_each\n",
        "  types += ['Below']*total_in_each\n",
        "\n",
        "\n",
        "  pos, neg, pos_names, neg_names, all, all_names = find_correlations(temp_corr_dfs[month],mean_by_state)\n",
        "  all_top_temp_positives += pos\n",
        "  all_top_temp_negatives += neg\n",
        "  all_top_temp_positives_names += pos_names\n",
        "  all_top_temp_negatives_names += neg_names\n",
        "\n",
        "  all_top_temp += all\n",
        "  all_top_temp_names += all_names\n",
        "\n",
        "\n",
        "\n",
        "\n",
        "  pos, neg, pos_names, neg_names, all, all_names = find_correlations(pdsi_corr_dfs[month],mean_by_state)\n",
        "  all_top_pdsi_positives += pos\n",
        "  all_top_pdsi_negatives += neg\n",
        "  all_top_pdsi_positives_names += pos_names\n",
        "  all_top_pdsi_negatives_names += neg_names\n",
        "\n",
        "  all_top_pdsi += all\n",
        "  all_top_pdsi_names += all_names\n",
        "\n",
        "\n",
        "  months += [month+1]*total_in_each\n",
        "  types += ['Reg']*total_in_each\n"
      ],
      "execution_count": null,
      "outputs": []
    },
    {
      "cell_type": "code",
      "metadata": {
        "id": "DP3rfL6WBU0n"
      },
      "source": [
        "# put it all into a dataframe to make for easy access and queries if necessary\n",
        "corr_data = pd.DataFrame({'Positive Temp Corrs':all_top_temp_positives,'Negative Temp Corrs':all_top_temp_negatives,\n",
        "                          'Positive PDSI Corrs':all_top_pdsi_positives,'Negative PDSI Corrs':all_top_pdsi_negatives,\n",
        "                          'Positive Temp Corrs Names':all_top_temp_positives_names,'Negative Temp Corrs Names':all_top_temp_negatives_names,\n",
        "                          'Positive PDSI Corrs Names':all_top_pdsi_positives_names,'Negative PDSI Corrs Names':all_top_pdsi_negatives_names,\n",
        "                          'Temp Corrs':all_top_temp, 'Temp Corrs Names':all_top_temp_names,\n",
        "                          'PDSI Corrs':all_top_pdsi, 'PDSI Corrs Names':all_top_pdsi_names,\n",
        "                          'Month':months,'Type':types\n",
        "                          })\n",
        "corr_data['Month_Type'] = corr_data['Month'].astype(str) + '_'+corr_data['Type']"
      ],
      "execution_count": null,
      "outputs": []
    },
    {
      "cell_type": "markdown",
      "metadata": {
        "id": "nj0csuqBSccw"
      },
      "source": [
        "**Recap**"
      ]
    },
    {
      "cell_type": "markdown",
      "metadata": {
        "id": "n_Ku5FCRSfoY"
      },
      "source": [
        "There are 4 categories of data here;\n",
        "1. Regular - This is the correlation of the standardized value for each location with the target COV.\n",
        "2. Abs - This is the correlation of the absolute value of the standardized value for each location with the target COV. The idea here is that anything far from the norm, in either direction would spark volatility in electricity.\n",
        "3. Above - This subsets the data to only months where there was positive standardized values (so above average values) and finds the correlation with the target COV.\n",
        "4. Below - This subsets the data to only months where there was negative standardized values (so below average values) and find th correlation with the target COV."
      ]
    },
    {
      "cell_type": "markdown",
      "metadata": {
        "id": "bMTvZHVJSqFM"
      },
      "source": [
        "# Candle Charts"
      ]
    },
    {
      "cell_type": "markdown",
      "metadata": {
        "id": "j-fEVlbJSsp9"
      },
      "source": [
        "Each of the \"candles\" in the plots below show the top 5 correlations between the average correlation of the locations with the state target COV, and each of the variables. This probably sounds confusing so ask if you need clarification. This is done for each month and within each month each category (regular, absolute value, above, and below)."
      ]
    },
    {
      "cell_type": "markdown",
      "metadata": {
        "id": "vL5NFkRLSyeL"
      },
      "source": [
        "## Positive Temperatures Correlations\n",
        "These are the highest 5 positive correlations found between the correlation of temperature and all the variables in the merged data. This means that states with higher values on one of the variables means these states target COV go up as a result of the temperature variable."
      ]
    },
    {
      "cell_type": "code",
      "metadata": {
        "colab": {
          "base_uri": "https://localhost:8080/",
          "height": 373
        },
        "id": "5WtbGbDIS9RN",
        "outputId": "6dd1311b-3c37-4dac-cd98-9354abe97165"
      },
      "source": [
        "plt.figure(figsize=(15,5))\n",
        "sns.boxplot(x=\"Month_Type\", y=\"Positive Temp Corrs\",\n",
        "                 data=corr_data, palette=\"Set3\")\n",
        "plt.xticks(rotation=90);"
      ],
      "execution_count": null,
      "outputs": [
        {
          "output_type": "display_data",
          "data": {
            "image/png": "[encoded data removed]",
            "text/plain": [
              "<Figure size 1080x360 with 1 Axes>"
            ]
          },
          "metadata": {
            "needs_background": "light"
          }
        }
      ]
    },
    {
      "cell_type": "markdown",
      "metadata": {
        "id": "AiC9Y-XhTViZ"
      },
      "source": [
        "The best looking ones here are the candles for the month of September (9). This is because these candles show high correlations and are narrow."
      ]
    },
    {
      "cell_type": "markdown",
      "metadata": {
        "id": "JXMLNnPpS9RO"
      },
      "source": [
        "## Negative Temperatures Correlations\n",
        "These are the highest 5 negative correlations found between the correlation of temperature and all the variables in the merged data. This means that states with higher values on one of the variables means these states target COV go down as a result of the temperature variable.\n",
        "\n"
      ]
    },
    {
      "cell_type": "code",
      "metadata": {
        "colab": {
          "base_uri": "https://localhost:8080/",
          "height": 373
        },
        "id": "L5m5SnilS9RO",
        "outputId": "24485a58-c87f-459e-a47f-bc464b7d0433"
      },
      "source": [
        "plt.figure(figsize=(15,5))\n",
        "sns.boxplot(x=\"Month_Type\", y=\"Negative Temp Corrs\",\n",
        "                 data=corr_data, palette=\"Set3\")\n",
        "plt.xticks(rotation=90);"
      ],
      "execution_count": null,
      "outputs": [
        {
          "output_type": "display_data",
          "data": {
            "image/png": "[encoded data removed]",
            "text/plain": [
              "<Figure size 1080x360 with 1 Axes>"
            ]
          },
          "metadata": {
            "needs_background": "light"
          }
        }
      ]
    },
    {
      "cell_type": "markdown",
      "metadata": {
        "id": "Vqzl1a9WTmkW"
      },
      "source": [
        "These negative correlations don't look quite as good, but out of all of them, the candles for the month of July have the highest median correlation."
      ]
    },
    {
      "cell_type": "markdown",
      "metadata": {
        "id": "sLEZsWKdgk5n"
      },
      "source": [
        "## All Temperature Correlations\n",
        "These are the highest 5 correlations found between the correlation of temperature and all the variables in the merged data."
      ]
    },
    {
      "cell_type": "code",
      "metadata": {
        "colab": {
          "base_uri": "https://localhost:8080/",
          "height": 373
        },
        "id": "EaGCy_iFgn7s",
        "outputId": "fbc4a684-6aa6-4d4e-dd95-86570633427a"
      },
      "source": [
        "plt.figure(figsize=(15,5))\n",
        "sns.boxplot(x=\"Month_Type\", y=\"Temp Corrs\",\n",
        "                 data=corr_data, palette=\"Set3\")\n",
        "plt.xticks(rotation=90);"
      ],
      "execution_count": null,
      "outputs": [
        {
          "output_type": "display_data",
          "data": {
            "image/png": "[encoded data removed]",
            "text/plain": [
              "<Figure size 1080x360 with 1 Axes>"
            ]
          },
          "metadata": {
            "needs_background": "light"
          }
        }
      ]
    },
    {
      "cell_type": "markdown",
      "metadata": {
        "id": "wiXFVVN-hJZX"
      },
      "source": [
        "Here, the best looking candles are for the month of December due to their narrow height and higher median correlation."
      ]
    },
    {
      "cell_type": "markdown",
      "metadata": {
        "id": "HI897cBoS9RO"
      },
      "source": [
        "## Positive PDSI Correlations\n",
        "These are the highest 5 positive correlations found between the correlation of pdsi and all the variables in the merged data. This means that states with higher values on one of the variables tend to have target COV go up as a result of the pdsi variable."
      ]
    },
    {
      "cell_type": "code",
      "metadata": {
        "colab": {
          "base_uri": "https://localhost:8080/",
          "height": 373
        },
        "id": "24cQ514zS9RO",
        "outputId": "dd32d002-16e2-4bdc-d8aa-09a642f4d39c"
      },
      "source": [
        "plt.figure(figsize=(15,5))\n",
        "sns.boxplot(x=\"Month_Type\", y=\"Positive PDSI Corrs\",\n",
        "                 data=corr_data, palette=\"Set3\")\n",
        "plt.xticks(rotation=90);"
      ],
      "execution_count": null,
      "outputs": [
        {
          "output_type": "display_data",
          "data": {
            "image/png": "[encoded data removed]",
            "text/plain": [
              "<Figure size 1080x360 with 1 Axes>"
            ]
          },
          "metadata": {
            "needs_background": "light"
          }
        }
      ]
    },
    {
      "cell_type": "markdown",
      "metadata": {
        "id": "S4ZakLM3T6sJ"
      },
      "source": [
        "Out of these candles, the ones for the month of September look the best."
      ]
    },
    {
      "cell_type": "markdown",
      "metadata": {
        "id": "NdQSltE-S9RP"
      },
      "source": [
        "## Negative PDSI Correlations\n",
        "These are the highest 5 negative correlations found between the correlation of pdsi and all the variables in the merged data. This means that states with higher values on one of the variables tend to have target COV go down as a result of the pdsi variable."
      ]
    },
    {
      "cell_type": "code",
      "metadata": {
        "colab": {
          "base_uri": "https://localhost:8080/",
          "height": 373
        },
        "id": "bRg7eEHYS9RP",
        "outputId": "8e79e196-f15e-4a0c-873b-8d8fc51daeaf"
      },
      "source": [
        "plt.figure(figsize=(15,5))\n",
        "sns.boxplot(x=\"Month_Type\", y=\"Negative PDSI Corrs\",\n",
        "                 data=corr_data, palette=\"Set3\")\n",
        "plt.xticks(rotation=90);"
      ],
      "execution_count": null,
      "outputs": [
        {
          "output_type": "display_data",
          "data": {
            "image/png": "[encoded data removed]",
            "text/plain": [
              "<Figure size 1080x360 with 1 Axes>"
            ]
          },
          "metadata": {
            "needs_background": "light"
          }
        }
      ]
    },
    {
      "cell_type": "markdown",
      "metadata": {
        "id": "e0AOS0tvUaVk"
      },
      "source": [
        "This shows pretty nice correlations for February and the months that were below average as well as June. This implies that for these months, having more droughts makes the price volatility increase which makes sense, especially for June."
      ]
    },
    {
      "cell_type": "markdown",
      "metadata": {
        "id": "cRNGt5rwg-JO"
      },
      "source": [
        "## All PDSI Correlations\n",
        "These are the highest 5 correlations found between the correlation of pdsi and all the variables in the merged data."
      ]
    },
    {
      "cell_type": "code",
      "metadata": {
        "colab": {
          "base_uri": "https://localhost:8080/",
          "height": 373
        },
        "id": "cdkgZ9KbhE_8",
        "outputId": "12de9731-8602-4198-d14b-767371f71037"
      },
      "source": [
        "plt.figure(figsize=(15,5))\n",
        "sns.boxplot(x=\"Month_Type\", y=\"PDSI Corrs\",\n",
        "                 data=corr_data, palette=\"Set3\")\n",
        "plt.xticks(rotation=90);"
      ],
      "execution_count": null,
      "outputs": [
        {
          "output_type": "display_data",
          "data": {
            "image/png": "[encoded data removed]",
            "text/plain": [
              "<Figure size 1080x360 with 1 Axes>"
            ]
          },
          "metadata": {
            "needs_background": "light"
          }
        }
      ]
    },
    {
      "cell_type": "markdown",
      "metadata": {
        "id": "WG_mdfKmhH1B"
      },
      "source": [
        "Here the best options look like either february, march, or april for below."
      ]
    },
    {
      "cell_type": "markdown",
      "metadata": {
        "id": "tysz3PMOVSqg"
      },
      "source": [
        "# Find out which variables are correlated with the correlation of the weather and price volatility."
      ]
    },
    {
      "cell_type": "markdown",
      "metadata": {
        "id": "GJ2supYCXTLd"
      },
      "source": [
        "Positive Correlation Variables for Temperature"
      ]
    },
    {
      "cell_type": "code",
      "metadata": {
        "colab": {
          "base_uri": "https://localhost:8080/",
          "height": 204
        },
        "id": "RF1DvioeSPJy",
        "outputId": "a90c9fb3-d9b8-478c-894b-3065558f51db"
      },
      "source": [
        "corr_data.query('Month==7 and Type==\"Abs\"')[['Positive Temp Corrs Names','Positive Temp Corrs','Month','Type']]"
      ],
      "execution_count": null,
      "outputs": [
        {
          "output_type": "execute_result",
          "data": {
            "text/html": [
              "<div>\n",
              "<style scoped>\n",
              "    .dataframe tbody tr th:only-of-type {\n",
              "        vertical-align: middle;\n",
              "    }\n",
              "\n",
              "    .dataframe tbody tr th {\n",
              "        vertical-align: top;\n",
              "    }\n",
              "\n",
              "    .dataframe thead th {\n",
              "        text-align: right;\n",
              "    }\n",
              "</style>\n",
              "<table border=\"1\" class=\"dataframe\">\n",
              "  <thead>\n",
              "    <tr style=\"text-align: right;\">\n",
              "      <th></th>\n",
              "      <th>Positive Temp Corrs Names</th>\n",
              "      <th>Positive Temp Corrs</th>\n",
              "      <th>Month</th>\n",
              "      <th>Type</th>\n",
              "    </tr>\n",
              "  </thead>\n",
              "  <tbody>\n",
              "    <tr>\n",
              "      <th>120</th>\n",
              "      <td>Percent Biomass</td>\n",
              "      <td>0.764722</td>\n",
              "      <td>7</td>\n",
              "      <td>Abs</td>\n",
              "    </tr>\n",
              "    <tr>\n",
              "      <th>121</th>\n",
              "      <td>Percent Batteries</td>\n",
              "      <td>0.724375</td>\n",
              "      <td>7</td>\n",
              "      <td>Abs</td>\n",
              "    </tr>\n",
              "    <tr>\n",
              "      <th>122</th>\n",
              "      <td>Percent Natural Gas</td>\n",
              "      <td>0.513116</td>\n",
              "      <td>7</td>\n",
              "      <td>Abs</td>\n",
              "    </tr>\n",
              "    <tr>\n",
              "      <th>123</th>\n",
              "      <td>y</td>\n",
              "      <td>0.509318</td>\n",
              "      <td>7</td>\n",
              "      <td>Abs</td>\n",
              "    </tr>\n",
              "    <tr>\n",
              "      <th>124</th>\n",
              "      <td>Percent Hydroelectric</td>\n",
              "      <td>0.503952</td>\n",
              "      <td>7</td>\n",
              "      <td>Abs</td>\n",
              "    </tr>\n",
              "  </tbody>\n",
              "</table>\n",
              "</div>"
            ],
            "text/plain": [
              "    Positive Temp Corrs Names  Positive Temp Corrs  Month Type\n",
              "120           Percent Biomass             0.764722      7  Abs\n",
              "121         Percent Batteries             0.724375      7  Abs\n",
              "122       Percent Natural Gas             0.513116      7  Abs\n",
              "123                         y             0.509318      7  Abs\n",
              "124     Percent Hydroelectric             0.503952      7  Abs"
            ]
          },
          "metadata": {},
          "execution_count": 32
        }
      ]
    },
    {
      "cell_type": "markdown",
      "metadata": {
        "id": "5OsDfKgdX6ZW"
      },
      "source": [
        "Negative Correlation Variables for Temperature"
      ]
    },
    {
      "cell_type": "code",
      "metadata": {
        "colab": {
          "base_uri": "https://localhost:8080/",
          "height": 204
        },
        "id": "2qyg6eVSSPMX",
        "outputId": "3bafe8dd-58a2-4dca-a85e-8b34759db920"
      },
      "source": [
        "corr_data.query('Month==10 and Type==\"Abs\"')[['Negative Temp Corrs Names','Negative Temp Corrs','Month','Type']]"
      ],
      "execution_count": null,
      "outputs": [
        {
          "output_type": "execute_result",
          "data": {
            "text/html": [
              "<div>\n",
              "<style scoped>\n",
              "    .dataframe tbody tr th:only-of-type {\n",
              "        vertical-align: middle;\n",
              "    }\n",
              "\n",
              "    .dataframe tbody tr th {\n",
              "        vertical-align: top;\n",
              "    }\n",
              "\n",
              "    .dataframe thead th {\n",
              "        text-align: right;\n",
              "    }\n",
              "</style>\n",
              "<table border=\"1\" class=\"dataframe\">\n",
              "  <thead>\n",
              "    <tr style=\"text-align: right;\">\n",
              "      <th></th>\n",
              "      <th>Negative Temp Corrs Names</th>\n",
              "      <th>Negative Temp Corrs</th>\n",
              "      <th>Month</th>\n",
              "      <th>Type</th>\n",
              "    </tr>\n",
              "  </thead>\n",
              "  <tbody>\n",
              "    <tr>\n",
              "      <th>180</th>\n",
              "      <td>Percent Solar</td>\n",
              "      <td>0.650532</td>\n",
              "      <td>10</td>\n",
              "      <td>Abs</td>\n",
              "    </tr>\n",
              "    <tr>\n",
              "      <th>181</th>\n",
              "      <td>Percent Geothermal</td>\n",
              "      <td>0.459256</td>\n",
              "      <td>10</td>\n",
              "      <td>Abs</td>\n",
              "    </tr>\n",
              "    <tr>\n",
              "      <th>182</th>\n",
              "      <td>Percent Coal</td>\n",
              "      <td>0.447716</td>\n",
              "      <td>10</td>\n",
              "      <td>Abs</td>\n",
              "    </tr>\n",
              "    <tr>\n",
              "      <th>183</th>\n",
              "      <td>COM_percapita_mean_kWh_electricacc</td>\n",
              "      <td>0.431444</td>\n",
              "      <td>10</td>\n",
              "      <td>Abs</td>\n",
              "    </tr>\n",
              "    <tr>\n",
              "      <th>184</th>\n",
              "      <td>Agg_total_plant_count_x</td>\n",
              "      <td>0.373006</td>\n",
              "      <td>10</td>\n",
              "      <td>Abs</td>\n",
              "    </tr>\n",
              "  </tbody>\n",
              "</table>\n",
              "</div>"
            ],
            "text/plain": [
              "              Negative Temp Corrs Names  Negative Temp Corrs  Month Type\n",
              "180                       Percent Solar             0.650532     10  Abs\n",
              "181                  Percent Geothermal             0.459256     10  Abs\n",
              "182                        Percent Coal             0.447716     10  Abs\n",
              "183  COM_percapita_mean_kWh_electricacc             0.431444     10  Abs\n",
              "184             Agg_total_plant_count_x             0.373006     10  Abs"
            ]
          },
          "metadata": {},
          "execution_count": 33
        }
      ]
    },
    {
      "cell_type": "markdown",
      "metadata": {
        "id": "vYF6faCOYOa5"
      },
      "source": [
        "Positive Correlation Variables for PDSI"
      ]
    },
    {
      "cell_type": "code",
      "metadata": {
        "colab": {
          "base_uri": "https://localhost:8080/",
          "height": 204
        },
        "id": "ictXNpj-SPPO",
        "outputId": "bd9c8027-71bc-43ce-b711-42d09c52e1c8"
      },
      "source": [
        "corr_data.query('Month==4 and Type==\"Abs\"')[['Positive PDSI Corrs Names','Positive PDSI Corrs','Month','Type']]"
      ],
      "execution_count": null,
      "outputs": [
        {
          "output_type": "execute_result",
          "data": {
            "text/html": [
              "<div>\n",
              "<style scoped>\n",
              "    .dataframe tbody tr th:only-of-type {\n",
              "        vertical-align: middle;\n",
              "    }\n",
              "\n",
              "    .dataframe tbody tr th {\n",
              "        vertical-align: top;\n",
              "    }\n",
              "\n",
              "    .dataframe thead th {\n",
              "        text-align: right;\n",
              "    }\n",
              "</style>\n",
              "<table border=\"1\" class=\"dataframe\">\n",
              "  <thead>\n",
              "    <tr style=\"text-align: right;\">\n",
              "      <th></th>\n",
              "      <th>Positive PDSI Corrs Names</th>\n",
              "      <th>Positive PDSI Corrs</th>\n",
              "      <th>Month</th>\n",
              "      <th>Type</th>\n",
              "    </tr>\n",
              "  </thead>\n",
              "  <tbody>\n",
              "    <tr>\n",
              "      <th>60</th>\n",
              "      <td>Percent Natural Gas</td>\n",
              "      <td>0.633679</td>\n",
              "      <td>4</td>\n",
              "      <td>Abs</td>\n",
              "    </tr>\n",
              "    <tr>\n",
              "      <th>61</th>\n",
              "      <td>COM_percapita_mean_kWh_statepop</td>\n",
              "      <td>0.532793</td>\n",
              "      <td>4</td>\n",
              "      <td>Abs</td>\n",
              "    </tr>\n",
              "    <tr>\n",
              "      <th>62</th>\n",
              "      <td>Percent Wind</td>\n",
              "      <td>0.484208</td>\n",
              "      <td>4</td>\n",
              "      <td>Abs</td>\n",
              "    </tr>\n",
              "    <tr>\n",
              "      <th>63</th>\n",
              "      <td>Percent Municipal Waste</td>\n",
              "      <td>0.304937</td>\n",
              "      <td>4</td>\n",
              "      <td>Abs</td>\n",
              "    </tr>\n",
              "    <tr>\n",
              "      <th>64</th>\n",
              "      <td>Percent Hydroelectric</td>\n",
              "      <td>0.289030</td>\n",
              "      <td>4</td>\n",
              "      <td>Abs</td>\n",
              "    </tr>\n",
              "  </tbody>\n",
              "</table>\n",
              "</div>"
            ],
            "text/plain": [
              "          Positive PDSI Corrs Names  Positive PDSI Corrs  Month Type\n",
              "60              Percent Natural Gas             0.633679      4  Abs\n",
              "61  COM_percapita_mean_kWh_statepop             0.532793      4  Abs\n",
              "62                     Percent Wind             0.484208      4  Abs\n",
              "63          Percent Municipal Waste             0.304937      4  Abs\n",
              "64            Percent Hydroelectric             0.289030      4  Abs"
            ]
          },
          "metadata": {},
          "execution_count": 34
        }
      ]
    },
    {
      "cell_type": "markdown",
      "metadata": {
        "id": "h8vYWt__Ycdv"
      },
      "source": [
        "Negative Correlation Variables for PDSI"
      ]
    },
    {
      "cell_type": "code",
      "metadata": {
        "colab": {
          "base_uri": "https://localhost:8080/",
          "height": 359
        },
        "id": "xFW9lqJt-oo_",
        "outputId": "a05add87-b2cd-4b5c-af9f-804431875446"
      },
      "source": [
        "corr_data.query('Month in [2,5] and Type==\"Below\"')[['Negative PDSI Corrs Names','Negative PDSI Corrs','Month','Type']]"
      ],
      "execution_count": null,
      "outputs": [
        {
          "output_type": "execute_result",
          "data": {
            "text/html": [
              "<div>\n",
              "<style scoped>\n",
              "    .dataframe tbody tr th:only-of-type {\n",
              "        vertical-align: middle;\n",
              "    }\n",
              "\n",
              "    .dataframe tbody tr th {\n",
              "        vertical-align: top;\n",
              "    }\n",
              "\n",
              "    .dataframe thead th {\n",
              "        text-align: right;\n",
              "    }\n",
              "</style>\n",
              "<table border=\"1\" class=\"dataframe\">\n",
              "  <thead>\n",
              "    <tr style=\"text-align: right;\">\n",
              "      <th></th>\n",
              "      <th>Negative PDSI Corrs Names</th>\n",
              "      <th>Negative PDSI Corrs</th>\n",
              "      <th>Month</th>\n",
              "      <th>Type</th>\n",
              "    </tr>\n",
              "  </thead>\n",
              "  <tbody>\n",
              "    <tr>\n",
              "      <th>30</th>\n",
              "      <td>Percent Oil Gas</td>\n",
              "      <td>0.623184</td>\n",
              "      <td>2</td>\n",
              "      <td>Below</td>\n",
              "    </tr>\n",
              "    <tr>\n",
              "      <th>31</th>\n",
              "      <td>COM_percapita_mean_kWh_statepop</td>\n",
              "      <td>0.615026</td>\n",
              "      <td>2</td>\n",
              "      <td>Below</td>\n",
              "    </tr>\n",
              "    <tr>\n",
              "      <th>32</th>\n",
              "      <td>Percent Municipal Waste</td>\n",
              "      <td>0.534190</td>\n",
              "      <td>2</td>\n",
              "      <td>Below</td>\n",
              "    </tr>\n",
              "    <tr>\n",
              "      <th>33</th>\n",
              "      <td>x</td>\n",
              "      <td>0.460991</td>\n",
              "      <td>2</td>\n",
              "      <td>Below</td>\n",
              "    </tr>\n",
              "    <tr>\n",
              "      <th>34</th>\n",
              "      <td>Hot Summer Months</td>\n",
              "      <td>0.344973</td>\n",
              "      <td>2</td>\n",
              "      <td>Below</td>\n",
              "    </tr>\n",
              "    <tr>\n",
              "      <th>90</th>\n",
              "      <td>Percent Natural Gas</td>\n",
              "      <td>0.612804</td>\n",
              "      <td>5</td>\n",
              "      <td>Below</td>\n",
              "    </tr>\n",
              "    <tr>\n",
              "      <th>91</th>\n",
              "      <td>Percent Wind</td>\n",
              "      <td>0.561717</td>\n",
              "      <td>5</td>\n",
              "      <td>Below</td>\n",
              "    </tr>\n",
              "    <tr>\n",
              "      <th>92</th>\n",
              "      <td>Percent Hydroelectric</td>\n",
              "      <td>0.415709</td>\n",
              "      <td>5</td>\n",
              "      <td>Below</td>\n",
              "    </tr>\n",
              "    <tr>\n",
              "      <th>93</th>\n",
              "      <td>x</td>\n",
              "      <td>0.390248</td>\n",
              "      <td>5</td>\n",
              "      <td>Below</td>\n",
              "    </tr>\n",
              "    <tr>\n",
              "      <th>94</th>\n",
              "      <td>COM_percapita_mean_kWh_statepop</td>\n",
              "      <td>0.347306</td>\n",
              "      <td>5</td>\n",
              "      <td>Below</td>\n",
              "    </tr>\n",
              "  </tbody>\n",
              "</table>\n",
              "</div>"
            ],
            "text/plain": [
              "          Negative PDSI Corrs Names  Negative PDSI Corrs  Month   Type\n",
              "30                  Percent Oil Gas             0.623184      2  Below\n",
              "31  COM_percapita_mean_kWh_statepop             0.615026      2  Below\n",
              "32          Percent Municipal Waste             0.534190      2  Below\n",
              "33                                x             0.460991      2  Below\n",
              "34                Hot Summer Months             0.344973      2  Below\n",
              "90              Percent Natural Gas             0.612804      5  Below\n",
              "91                     Percent Wind             0.561717      5  Below\n",
              "92            Percent Hydroelectric             0.415709      5  Below\n",
              "93                                x             0.390248      5  Below\n",
              "94  COM_percapita_mean_kWh_statepop             0.347306      5  Below"
            ]
          },
          "metadata": {},
          "execution_count": 35
        }
      ]
    },
    {
      "cell_type": "markdown",
      "metadata": {
        "id": "AZXxDZw3ZcwT"
      },
      "source": [
        "### Just for curiosity, let's look at the highest correlation variables"
      ]
    },
    {
      "cell_type": "code",
      "metadata": {
        "id": "XcfghyRwYexE"
      },
      "source": [
        "corr_data_sorted_pos_temp = corr_data.sort_values(by='Positive Temp Corrs',ascending=False)\n",
        "corr_data_sorted_neg_temp = corr_data.sort_values(by='Negative Temp Corrs',ascending=False)\n",
        "corr_data_sorted_pos_pdsi = corr_data.sort_values(by='Positive PDSI Corrs',ascending=False)\n",
        "corr_data_sorted_neg_pdsi = corr_data.sort_values(by='Negative PDSI Corrs',ascending=False)"
      ],
      "execution_count": null,
      "outputs": []
    },
    {
      "cell_type": "markdown",
      "metadata": {
        "id": "P_Vjfv3VZ4mn"
      },
      "source": [
        "Temperature and Positive Correlations"
      ]
    },
    {
      "cell_type": "code",
      "metadata": {
        "colab": {
          "base_uri": "https://localhost:8080/",
          "height": 824
        },
        "id": "Bp02cOK3Z2fo",
        "outputId": "4401fad8-5524-4d32-d71b-b11d2fe9247e"
      },
      "source": [
        "corr_data_sorted_pos_temp.head(25)[['Positive Temp Corrs Names','Positive Temp Corrs','Month','Type']]"
      ],
      "execution_count": null,
      "outputs": [
        {
          "output_type": "execute_result",
          "data": {
            "text/html": [
              "<div>\n",
              "<style scoped>\n",
              "    .dataframe tbody tr th:only-of-type {\n",
              "        vertical-align: middle;\n",
              "    }\n",
              "\n",
              "    .dataframe tbody tr th {\n",
              "        vertical-align: top;\n",
              "    }\n",
              "\n",
              "    .dataframe thead th {\n",
              "        text-align: right;\n",
              "    }\n",
              "</style>\n",
              "<table border=\"1\" class=\"dataframe\">\n",
              "  <thead>\n",
              "    <tr style=\"text-align: right;\">\n",
              "      <th></th>\n",
              "      <th>Positive Temp Corrs Names</th>\n",
              "      <th>Positive Temp Corrs</th>\n",
              "      <th>Month</th>\n",
              "      <th>Type</th>\n",
              "    </tr>\n",
              "  </thead>\n",
              "  <tbody>\n",
              "    <tr>\n",
              "      <th>150</th>\n",
              "      <td>Agg_total_plant_MWh_x</td>\n",
              "      <td>0.792632</td>\n",
              "      <td>8</td>\n",
              "      <td>Below</td>\n",
              "    </tr>\n",
              "    <tr>\n",
              "      <th>120</th>\n",
              "      <td>Percent Biomass</td>\n",
              "      <td>0.764722</td>\n",
              "      <td>7</td>\n",
              "      <td>Abs</td>\n",
              "    </tr>\n",
              "    <tr>\n",
              "      <th>60</th>\n",
              "      <td>Agg_total_plant_MWh_x</td>\n",
              "      <td>0.760823</td>\n",
              "      <td>4</td>\n",
              "      <td>Abs</td>\n",
              "    </tr>\n",
              "    <tr>\n",
              "      <th>95</th>\n",
              "      <td>Percent Batteries</td>\n",
              "      <td>0.760732</td>\n",
              "      <td>5</td>\n",
              "      <td>Reg</td>\n",
              "    </tr>\n",
              "    <tr>\n",
              "      <th>160</th>\n",
              "      <td>Percent Geothermal</td>\n",
              "      <td>0.731395</td>\n",
              "      <td>9</td>\n",
              "      <td>Abs</td>\n",
              "    </tr>\n",
              "    <tr>\n",
              "      <th>121</th>\n",
              "      <td>Percent Batteries</td>\n",
              "      <td>0.724375</td>\n",
              "      <td>7</td>\n",
              "      <td>Abs</td>\n",
              "    </tr>\n",
              "    <tr>\n",
              "      <th>125</th>\n",
              "      <td>Percent Biomass</td>\n",
              "      <td>0.720388</td>\n",
              "      <td>7</td>\n",
              "      <td>Above</td>\n",
              "    </tr>\n",
              "    <tr>\n",
              "      <th>75</th>\n",
              "      <td>Agg_total_plant_count_x</td>\n",
              "      <td>0.707927</td>\n",
              "      <td>4</td>\n",
              "      <td>Reg</td>\n",
              "    </tr>\n",
              "    <tr>\n",
              "      <th>126</th>\n",
              "      <td>Percent Batteries</td>\n",
              "      <td>0.702847</td>\n",
              "      <td>7</td>\n",
              "      <td>Above</td>\n",
              "    </tr>\n",
              "    <tr>\n",
              "      <th>205</th>\n",
              "      <td>Percent Biomass</td>\n",
              "      <td>0.702068</td>\n",
              "      <td>11</td>\n",
              "      <td>Above</td>\n",
              "    </tr>\n",
              "    <tr>\n",
              "      <th>200</th>\n",
              "      <td>Percent Wind</td>\n",
              "      <td>0.699337</td>\n",
              "      <td>11</td>\n",
              "      <td>Abs</td>\n",
              "    </tr>\n",
              "    <tr>\n",
              "      <th>96</th>\n",
              "      <td>Percent Biomass</td>\n",
              "      <td>0.680393</td>\n",
              "      <td>5</td>\n",
              "      <td>Reg</td>\n",
              "    </tr>\n",
              "    <tr>\n",
              "      <th>220</th>\n",
              "      <td>Percent Hydroelectric</td>\n",
              "      <td>0.677036</td>\n",
              "      <td>12</td>\n",
              "      <td>Abs</td>\n",
              "    </tr>\n",
              "    <tr>\n",
              "      <th>170</th>\n",
              "      <td>Hot Summer Months</td>\n",
              "      <td>0.666719</td>\n",
              "      <td>9</td>\n",
              "      <td>Below</td>\n",
              "    </tr>\n",
              "    <tr>\n",
              "      <th>175</th>\n",
              "      <td>Hot Summer Months</td>\n",
              "      <td>0.663267</td>\n",
              "      <td>9</td>\n",
              "      <td>Reg</td>\n",
              "    </tr>\n",
              "    <tr>\n",
              "      <th>61</th>\n",
              "      <td>Percent Nuclear</td>\n",
              "      <td>0.662690</td>\n",
              "      <td>4</td>\n",
              "      <td>Abs</td>\n",
              "    </tr>\n",
              "    <tr>\n",
              "      <th>165</th>\n",
              "      <td>Percent Geothermal</td>\n",
              "      <td>0.660487</td>\n",
              "      <td>9</td>\n",
              "      <td>Above</td>\n",
              "    </tr>\n",
              "    <tr>\n",
              "      <th>76</th>\n",
              "      <td>Percent Geothermal</td>\n",
              "      <td>0.659943</td>\n",
              "      <td>4</td>\n",
              "      <td>Reg</td>\n",
              "    </tr>\n",
              "    <tr>\n",
              "      <th>166</th>\n",
              "      <td>Percent Solar</td>\n",
              "      <td>0.656025</td>\n",
              "      <td>9</td>\n",
              "      <td>Above</td>\n",
              "    </tr>\n",
              "    <tr>\n",
              "      <th>206</th>\n",
              "      <td>Percent Hydroelectric</td>\n",
              "      <td>0.653114</td>\n",
              "      <td>11</td>\n",
              "      <td>Above</td>\n",
              "    </tr>\n",
              "    <tr>\n",
              "      <th>110</th>\n",
              "      <td>Percent Wind</td>\n",
              "      <td>0.649010</td>\n",
              "      <td>6</td>\n",
              "      <td>Below</td>\n",
              "    </tr>\n",
              "    <tr>\n",
              "      <th>20</th>\n",
              "      <td>x</td>\n",
              "      <td>0.643590</td>\n",
              "      <td>2</td>\n",
              "      <td>Abs</td>\n",
              "    </tr>\n",
              "    <tr>\n",
              "      <th>176</th>\n",
              "      <td>Dry Summer Months</td>\n",
              "      <td>0.640414</td>\n",
              "      <td>9</td>\n",
              "      <td>Reg</td>\n",
              "    </tr>\n",
              "    <tr>\n",
              "      <th>177</th>\n",
              "      <td>x</td>\n",
              "      <td>0.630711</td>\n",
              "      <td>9</td>\n",
              "      <td>Reg</td>\n",
              "    </tr>\n",
              "    <tr>\n",
              "      <th>178</th>\n",
              "      <td>Percent Geothermal</td>\n",
              "      <td>0.629545</td>\n",
              "      <td>9</td>\n",
              "      <td>Reg</td>\n",
              "    </tr>\n",
              "  </tbody>\n",
              "</table>\n",
              "</div>"
            ],
            "text/plain": [
              "    Positive Temp Corrs Names  Positive Temp Corrs  Month   Type\n",
              "150     Agg_total_plant_MWh_x             0.792632      8  Below\n",
              "120           Percent Biomass             0.764722      7    Abs\n",
              "60      Agg_total_plant_MWh_x             0.760823      4    Abs\n",
              "95          Percent Batteries             0.760732      5    Reg\n",
              "160        Percent Geothermal             0.731395      9    Abs\n",
              "121         Percent Batteries             0.724375      7    Abs\n",
              "125           Percent Biomass             0.720388      7  Above\n",
              "75    Agg_total_plant_count_x             0.707927      4    Reg\n",
              "126         Percent Batteries             0.702847      7  Above\n",
              "205           Percent Biomass             0.702068     11  Above\n",
              "200              Percent Wind             0.699337     11    Abs\n",
              "96            Percent Biomass             0.680393      5    Reg\n",
              "220     Percent Hydroelectric             0.677036     12    Abs\n",
              "170         Hot Summer Months             0.666719      9  Below\n",
              "175         Hot Summer Months             0.663267      9    Reg\n",
              "61            Percent Nuclear             0.662690      4    Abs\n",
              "165        Percent Geothermal             0.660487      9  Above\n",
              "76         Percent Geothermal             0.659943      4    Reg\n",
              "166             Percent Solar             0.656025      9  Above\n",
              "206     Percent Hydroelectric             0.653114     11  Above\n",
              "110              Percent Wind             0.649010      6  Below\n",
              "20                          x             0.643590      2    Abs\n",
              "176         Dry Summer Months             0.640414      9    Reg\n",
              "177                         x             0.630711      9    Reg\n",
              "178        Percent Geothermal             0.629545      9    Reg"
            ]
          },
          "metadata": {},
          "execution_count": 37
        }
      ]
    },
    {
      "cell_type": "markdown",
      "metadata": {
        "id": "QJtwI8VVaYZP"
      },
      "source": [
        "Temperature and Negative Correlations"
      ]
    },
    {
      "cell_type": "code",
      "metadata": {
        "colab": {
          "base_uri": "https://localhost:8080/",
          "height": 824
        },
        "id": "GxQif9KhZ2iV",
        "outputId": "c4e8601e-eb9c-4d03-d3d5-a40e36f9d498"
      },
      "source": [
        "corr_data_sorted_neg_temp.head(25)[['Negative Temp Corrs Names','Negative Temp Corrs','Month','Type']]"
      ],
      "execution_count": null,
      "outputs": [
        {
          "output_type": "execute_result",
          "data": {
            "text/html": [
              "<div>\n",
              "<style scoped>\n",
              "    .dataframe tbody tr th:only-of-type {\n",
              "        vertical-align: middle;\n",
              "    }\n",
              "\n",
              "    .dataframe tbody tr th {\n",
              "        vertical-align: top;\n",
              "    }\n",
              "\n",
              "    .dataframe thead th {\n",
              "        text-align: right;\n",
              "    }\n",
              "</style>\n",
              "<table border=\"1\" class=\"dataframe\">\n",
              "  <thead>\n",
              "    <tr style=\"text-align: right;\">\n",
              "      <th></th>\n",
              "      <th>Negative Temp Corrs Names</th>\n",
              "      <th>Negative Temp Corrs</th>\n",
              "      <th>Month</th>\n",
              "      <th>Type</th>\n",
              "    </tr>\n",
              "  </thead>\n",
              "  <tbody>\n",
              "    <tr>\n",
              "      <th>180</th>\n",
              "      <td>Percent Solar</td>\n",
              "      <td>0.650532</td>\n",
              "      <td>10</td>\n",
              "      <td>Abs</td>\n",
              "    </tr>\n",
              "    <tr>\n",
              "      <th>0</th>\n",
              "      <td>Unnamed: 0</td>\n",
              "      <td>0.565422</td>\n",
              "      <td>1</td>\n",
              "      <td>Abs</td>\n",
              "    </tr>\n",
              "    <tr>\n",
              "      <th>185</th>\n",
              "      <td>Percent Solar</td>\n",
              "      <td>0.556709</td>\n",
              "      <td>10</td>\n",
              "      <td>Above</td>\n",
              "    </tr>\n",
              "    <tr>\n",
              "      <th>50</th>\n",
              "      <td>Percent Other</td>\n",
              "      <td>0.547687</td>\n",
              "      <td>3</td>\n",
              "      <td>Below</td>\n",
              "    </tr>\n",
              "    <tr>\n",
              "      <th>125</th>\n",
              "      <td>Dry Summer Months</td>\n",
              "      <td>0.544578</td>\n",
              "      <td>7</td>\n",
              "      <td>Above</td>\n",
              "    </tr>\n",
              "    <tr>\n",
              "      <th>51</th>\n",
              "      <td>Agg_total_plant_count_x</td>\n",
              "      <td>0.531707</td>\n",
              "      <td>3</td>\n",
              "      <td>Below</td>\n",
              "    </tr>\n",
              "    <tr>\n",
              "      <th>205</th>\n",
              "      <td>Percent Nuclear</td>\n",
              "      <td>0.527870</td>\n",
              "      <td>11</td>\n",
              "      <td>Above</td>\n",
              "    </tr>\n",
              "    <tr>\n",
              "      <th>206</th>\n",
              "      <td>Dry Summer Months</td>\n",
              "      <td>0.526042</td>\n",
              "      <td>11</td>\n",
              "      <td>Above</td>\n",
              "    </tr>\n",
              "    <tr>\n",
              "      <th>170</th>\n",
              "      <td>x</td>\n",
              "      <td>0.513598</td>\n",
              "      <td>9</td>\n",
              "      <td>Below</td>\n",
              "    </tr>\n",
              "    <tr>\n",
              "      <th>1</th>\n",
              "      <td>y</td>\n",
              "      <td>0.508592</td>\n",
              "      <td>1</td>\n",
              "      <td>Abs</td>\n",
              "    </tr>\n",
              "    <tr>\n",
              "      <th>70</th>\n",
              "      <td>Percent Oil Gas</td>\n",
              "      <td>0.508497</td>\n",
              "      <td>4</td>\n",
              "      <td>Below</td>\n",
              "    </tr>\n",
              "    <tr>\n",
              "      <th>210</th>\n",
              "      <td>Percent Wind</td>\n",
              "      <td>0.493592</td>\n",
              "      <td>11</td>\n",
              "      <td>Below</td>\n",
              "    </tr>\n",
              "    <tr>\n",
              "      <th>145</th>\n",
              "      <td>Percent Geothermal</td>\n",
              "      <td>0.492182</td>\n",
              "      <td>8</td>\n",
              "      <td>Above</td>\n",
              "    </tr>\n",
              "    <tr>\n",
              "      <th>200</th>\n",
              "      <td>COM_percapita_mean_kWh_electricacc</td>\n",
              "      <td>0.483332</td>\n",
              "      <td>11</td>\n",
              "      <td>Abs</td>\n",
              "    </tr>\n",
              "    <tr>\n",
              "      <th>201</th>\n",
              "      <td>x</td>\n",
              "      <td>0.482998</td>\n",
              "      <td>11</td>\n",
              "      <td>Abs</td>\n",
              "    </tr>\n",
              "    <tr>\n",
              "      <th>215</th>\n",
              "      <td>Percent Hydroelectric</td>\n",
              "      <td>0.480835</td>\n",
              "      <td>11</td>\n",
              "      <td>Reg</td>\n",
              "    </tr>\n",
              "    <tr>\n",
              "      <th>5</th>\n",
              "      <td>Percent Municipal Waste</td>\n",
              "      <td>0.480374</td>\n",
              "      <td>1</td>\n",
              "      <td>Above</td>\n",
              "    </tr>\n",
              "    <tr>\n",
              "      <th>140</th>\n",
              "      <td>Percent Biomass</td>\n",
              "      <td>0.471785</td>\n",
              "      <td>8</td>\n",
              "      <td>Abs</td>\n",
              "    </tr>\n",
              "    <tr>\n",
              "      <th>146</th>\n",
              "      <td>Agg_total_plant_count_x</td>\n",
              "      <td>0.470407</td>\n",
              "      <td>8</td>\n",
              "      <td>Above</td>\n",
              "    </tr>\n",
              "    <tr>\n",
              "      <th>71</th>\n",
              "      <td>Percent Coal</td>\n",
              "      <td>0.470017</td>\n",
              "      <td>4</td>\n",
              "      <td>Below</td>\n",
              "    </tr>\n",
              "    <tr>\n",
              "      <th>6</th>\n",
              "      <td>Percent Natural Gas</td>\n",
              "      <td>0.468416</td>\n",
              "      <td>1</td>\n",
              "      <td>Above</td>\n",
              "    </tr>\n",
              "    <tr>\n",
              "      <th>30</th>\n",
              "      <td>RES_percapita_mean_kWh_statepop</td>\n",
              "      <td>0.466313</td>\n",
              "      <td>2</td>\n",
              "      <td>Below</td>\n",
              "    </tr>\n",
              "    <tr>\n",
              "      <th>52</th>\n",
              "      <td>Agg_total_plant_MWh_x</td>\n",
              "      <td>0.464317</td>\n",
              "      <td>3</td>\n",
              "      <td>Below</td>\n",
              "    </tr>\n",
              "    <tr>\n",
              "      <th>55</th>\n",
              "      <td>Agg_total_plant_MWh_x</td>\n",
              "      <td>0.462792</td>\n",
              "      <td>3</td>\n",
              "      <td>Reg</td>\n",
              "    </tr>\n",
              "    <tr>\n",
              "      <th>60</th>\n",
              "      <td>Percent Oil Gas</td>\n",
              "      <td>0.460792</td>\n",
              "      <td>4</td>\n",
              "      <td>Abs</td>\n",
              "    </tr>\n",
              "  </tbody>\n",
              "</table>\n",
              "</div>"
            ],
            "text/plain": [
              "              Negative Temp Corrs Names  Negative Temp Corrs  Month   Type\n",
              "180                       Percent Solar             0.650532     10    Abs\n",
              "0                            Unnamed: 0             0.565422      1    Abs\n",
              "185                       Percent Solar             0.556709     10  Above\n",
              "50                        Percent Other             0.547687      3  Below\n",
              "125                   Dry Summer Months             0.544578      7  Above\n",
              "51              Agg_total_plant_count_x             0.531707      3  Below\n",
              "205                     Percent Nuclear             0.527870     11  Above\n",
              "206                   Dry Summer Months             0.526042     11  Above\n",
              "170                                   x             0.513598      9  Below\n",
              "1                                     y             0.508592      1    Abs\n",
              "70                      Percent Oil Gas             0.508497      4  Below\n",
              "210                        Percent Wind             0.493592     11  Below\n",
              "145                  Percent Geothermal             0.492182      8  Above\n",
              "200  COM_percapita_mean_kWh_electricacc             0.483332     11    Abs\n",
              "201                                   x             0.482998     11    Abs\n",
              "215               Percent Hydroelectric             0.480835     11    Reg\n",
              "5               Percent Municipal Waste             0.480374      1  Above\n",
              "140                     Percent Biomass             0.471785      8    Abs\n",
              "146             Agg_total_plant_count_x             0.470407      8  Above\n",
              "71                         Percent Coal             0.470017      4  Below\n",
              "6                   Percent Natural Gas             0.468416      1  Above\n",
              "30      RES_percapita_mean_kWh_statepop             0.466313      2  Below\n",
              "52                Agg_total_plant_MWh_x             0.464317      3  Below\n",
              "55                Agg_total_plant_MWh_x             0.462792      3    Reg\n",
              "60                      Percent Oil Gas             0.460792      4    Abs"
            ]
          },
          "metadata": {},
          "execution_count": 38
        }
      ]
    },
    {
      "cell_type": "code",
      "metadata": {
        "id": "eDLIPlnBYe5B"
      },
      "source": [
        ""
      ],
      "execution_count": null,
      "outputs": []
    },
    {
      "cell_type": "markdown",
      "metadata": {
        "id": "iRexyNkCYzr8"
      },
      "source": [
        "### Look at the distribution of the correlations for the variables listed above as giving the best correlations from the candle charts."
      ]
    },
    {
      "cell_type": "code",
      "metadata": {
        "id": "GP9v_o4haEaS"
      },
      "source": [
        "for i in range(12):\n",
        "  print('\\nMonth {}\\n'.format(i+1))\n",
        "  print('Absolute Value Corr: {}'.format(abs_temp_corr_dfs[i]['Correlation'].abs().mean()))"
      ],
      "execution_count": null,
      "outputs": []
    },
    {
      "cell_type": "code",
      "metadata": {
        "colab": {
          "base_uri": "https://localhost:8080/"
        },
        "id": "Rr2vC0hjZ_ID",
        "outputId": "a7d8d57d-3083-4356-e33c-df85df10c1c7"
      },
      "source": [
        "abs_temp_corr_dfs[6]['Correlation'].abs().mean()"
      ],
      "execution_count": null,
      "outputs": [
        {
          "output_type": "execute_result",
          "data": {
            "text/plain": [
              "0.17116632266604595"
            ]
          },
          "metadata": {},
          "execution_count": 41
        }
      ]
    },
    {
      "cell_type": "code",
      "metadata": {
        "colab": {
          "base_uri": "https://localhost:8080/",
          "height": 282
        },
        "id": "FeE8RvuhY8Fc",
        "outputId": "37e1f06b-6316-4456-a643-0ef529fcf972"
      },
      "source": [
        "below_temp_corr_dfs[7]['Correlation'].hist(bins=50)"
      ],
      "execution_count": null,
      "outputs": [
        {
          "output_type": "execute_result",
          "data": {
            "text/plain": [
              "<matplotlib.axes._subplots.AxesSubplot at 0x7f7b784a0910>"
            ]
          },
          "metadata": {},
          "execution_count": 42
        },
        {
          "output_type": "display_data",
          "data": {
            "image/png": "[encoded data removed]",
            "text/plain": [
              "<Figure size 432x288 with 1 Axes>"
            ]
          },
          "metadata": {
            "needs_background": "light"
          }
        }
      ]
    },
    {
      "cell_type": "code",
      "metadata": {
        "colab": {
          "base_uri": "https://localhost:8080/",
          "height": 204
        },
        "id": "kafz2QWxZE2M",
        "outputId": "e5ed7e5a-4049-44f6-d788-d5bb57ed90e9"
      },
      "source": [
        "corr_data.query('Month==8 and Type==\"Below\"')[['Positive Temp Corrs Names','Positive Temp Corrs','Month','Type']]"
      ],
      "execution_count": null,
      "outputs": [
        {
          "output_type": "execute_result",
          "data": {
            "text/html": [
              "<div>\n",
              "<style scoped>\n",
              "    .dataframe tbody tr th:only-of-type {\n",
              "        vertical-align: middle;\n",
              "    }\n",
              "\n",
              "    .dataframe tbody tr th {\n",
              "        vertical-align: top;\n",
              "    }\n",
              "\n",
              "    .dataframe thead th {\n",
              "        text-align: right;\n",
              "    }\n",
              "</style>\n",
              "<table border=\"1\" class=\"dataframe\">\n",
              "  <thead>\n",
              "    <tr style=\"text-align: right;\">\n",
              "      <th></th>\n",
              "      <th>Positive Temp Corrs Names</th>\n",
              "      <th>Positive Temp Corrs</th>\n",
              "      <th>Month</th>\n",
              "      <th>Type</th>\n",
              "    </tr>\n",
              "  </thead>\n",
              "  <tbody>\n",
              "    <tr>\n",
              "      <th>55</th>\n",
              "      <td>Percent Geothermal</td>\n",
              "      <td>0.385849</td>\n",
              "      <td>3</td>\n",
              "      <td>Reg</td>\n",
              "    </tr>\n",
              "    <tr>\n",
              "      <th>56</th>\n",
              "      <td>Percent Municipal Waste</td>\n",
              "      <td>0.319057</td>\n",
              "      <td>3</td>\n",
              "      <td>Reg</td>\n",
              "    </tr>\n",
              "    <tr>\n",
              "      <th>57</th>\n",
              "      <td>x</td>\n",
              "      <td>0.312829</td>\n",
              "      <td>3</td>\n",
              "      <td>Reg</td>\n",
              "    </tr>\n",
              "    <tr>\n",
              "      <th>58</th>\n",
              "      <td>COM_percapita_mean_kWh_statepop</td>\n",
              "      <td>0.303789</td>\n",
              "      <td>3</td>\n",
              "      <td>Reg</td>\n",
              "    </tr>\n",
              "    <tr>\n",
              "      <th>59</th>\n",
              "      <td>Percent Solar</td>\n",
              "      <td>0.294479</td>\n",
              "      <td>3</td>\n",
              "      <td>Reg</td>\n",
              "    </tr>\n",
              "  </tbody>\n",
              "</table>\n",
              "</div>"
            ],
            "text/plain": [
              "          Positive Temp Corrs Names  Positive Temp Corrs  Month Type\n",
              "55               Percent Geothermal             0.385849      3  Reg\n",
              "56          Percent Municipal Waste             0.319057      3  Reg\n",
              "57                                x             0.312829      3  Reg\n",
              "58  COM_percapita_mean_kWh_statepop             0.303789      3  Reg\n",
              "59                    Percent Solar             0.294479      3  Reg"
            ]
          },
          "metadata": {},
          "execution_count": 68
        }
      ]
    },
    {
      "cell_type": "code",
      "metadata": {
        "colab": {
          "base_uri": "https://localhost:8080/",
          "height": 204
        },
        "id": "cUQKznMfh0Zw",
        "outputId": "03fc8688-1a38-4f37-9b95-bdf9d4a66834"
      },
      "source": [
        "corr_data.query('Month==11 and Type==\"Reg\"')[['Temp Corrs Names','Temp Corrs','Month','Type']]"
      ],
      "execution_count": null,
      "outputs": [
        {
          "output_type": "execute_result",
          "data": {
            "text/html": [
              "<div>\n",
              "<style scoped>\n",
              "    .dataframe tbody tr th:only-of-type {\n",
              "        vertical-align: middle;\n",
              "    }\n",
              "\n",
              "    .dataframe tbody tr th {\n",
              "        vertical-align: top;\n",
              "    }\n",
              "\n",
              "    .dataframe thead th {\n",
              "        text-align: right;\n",
              "    }\n",
              "</style>\n",
              "<table border=\"1\" class=\"dataframe\">\n",
              "  <thead>\n",
              "    <tr style=\"text-align: right;\">\n",
              "      <th></th>\n",
              "      <th>Temp Corrs Names</th>\n",
              "      <th>Temp Corrs</th>\n",
              "      <th>Month</th>\n",
              "      <th>Type</th>\n",
              "    </tr>\n",
              "  </thead>\n",
              "  <tbody>\n",
              "    <tr>\n",
              "      <th>215</th>\n",
              "      <td>Unnamed: 0</td>\n",
              "      <td>0.364995</td>\n",
              "      <td>11</td>\n",
              "      <td>Reg</td>\n",
              "    </tr>\n",
              "    <tr>\n",
              "      <th>216</th>\n",
              "      <td>y</td>\n",
              "      <td>0.351696</td>\n",
              "      <td>11</td>\n",
              "      <td>Reg</td>\n",
              "    </tr>\n",
              "    <tr>\n",
              "      <th>217</th>\n",
              "      <td>Percent Hydroelectric</td>\n",
              "      <td>0.250097</td>\n",
              "      <td>11</td>\n",
              "      <td>Reg</td>\n",
              "    </tr>\n",
              "    <tr>\n",
              "      <th>218</th>\n",
              "      <td>Percent Biomass</td>\n",
              "      <td>0.236993</td>\n",
              "      <td>11</td>\n",
              "      <td>Reg</td>\n",
              "    </tr>\n",
              "    <tr>\n",
              "      <th>219</th>\n",
              "      <td>Percent Municipal Waste</td>\n",
              "      <td>0.212925</td>\n",
              "      <td>11</td>\n",
              "      <td>Reg</td>\n",
              "    </tr>\n",
              "  </tbody>\n",
              "</table>\n",
              "</div>"
            ],
            "text/plain": [
              "            Temp Corrs Names  Temp Corrs  Month Type\n",
              "215               Unnamed: 0    0.364995     11  Reg\n",
              "216                        y    0.351696     11  Reg\n",
              "217    Percent Hydroelectric    0.250097     11  Reg\n",
              "218          Percent Biomass    0.236993     11  Reg\n",
              "219  Percent Municipal Waste    0.212925     11  Reg"
            ]
          },
          "metadata": {},
          "execution_count": 72
        }
      ]
    },
    {
      "cell_type": "code",
      "metadata": {
        "id": "3V0Hh6aech-1"
      },
      "source": [
        "july_below = below_temp_corr_dfs[7].groupby(by='State').mean().reset_index()[['State','Correlation']]"
      ],
      "execution_count": null,
      "outputs": []
    },
    {
      "cell_type": "code",
      "metadata": {
        "colab": {
          "base_uri": "https://localhost:8080/",
          "height": 204
        },
        "id": "DC96AF8wctik",
        "outputId": "ca38b13d-9076-49ac-c2ae-02d9370fc944"
      },
      "source": [
        "july_below.head()"
      ],
      "execution_count": null,
      "outputs": [
        {
          "output_type": "execute_result",
          "data": {
            "text/html": [
              "<div>\n",
              "<style scoped>\n",
              "    .dataframe tbody tr th:only-of-type {\n",
              "        vertical-align: middle;\n",
              "    }\n",
              "\n",
              "    .dataframe tbody tr th {\n",
              "        vertical-align: top;\n",
              "    }\n",
              "\n",
              "    .dataframe thead th {\n",
              "        text-align: right;\n",
              "    }\n",
              "</style>\n",
              "<table border=\"1\" class=\"dataframe\">\n",
              "  <thead>\n",
              "    <tr style=\"text-align: right;\">\n",
              "      <th></th>\n",
              "      <th>State</th>\n",
              "      <th>Correlation</th>\n",
              "    </tr>\n",
              "  </thead>\n",
              "  <tbody>\n",
              "    <tr>\n",
              "      <th>0</th>\n",
              "      <td>AK</td>\n",
              "      <td>-0.354680</td>\n",
              "    </tr>\n",
              "    <tr>\n",
              "      <th>1</th>\n",
              "      <td>AL</td>\n",
              "      <td>-0.111638</td>\n",
              "    </tr>\n",
              "    <tr>\n",
              "      <th>2</th>\n",
              "      <td>AR</td>\n",
              "      <td>0.106950</td>\n",
              "    </tr>\n",
              "    <tr>\n",
              "      <th>3</th>\n",
              "      <td>AZ</td>\n",
              "      <td>-0.261521</td>\n",
              "    </tr>\n",
              "    <tr>\n",
              "      <th>4</th>\n",
              "      <td>CA</td>\n",
              "      <td>0.013920</td>\n",
              "    </tr>\n",
              "  </tbody>\n",
              "</table>\n",
              "</div>"
            ],
            "text/plain": [
              "  State  Correlation\n",
              "0    AK    -0.354680\n",
              "1    AL    -0.111638\n",
              "2    AR     0.106950\n",
              "3    AZ    -0.261521\n",
              "4    CA     0.013920"
            ]
          },
          "metadata": {},
          "execution_count": 50
        }
      ]
    },
    {
      "cell_type": "code",
      "metadata": {
        "id": "doBZMqAec7Of"
      },
      "source": [
        "july_belo = pd.merge(july_below,mean_by_state['Agg_total_plant_MWh_x'].reset_index(),on='State')"
      ],
      "execution_count": null,
      "outputs": []
    },
    {
      "cell_type": "code",
      "metadata": {
        "colab": {
          "base_uri": "https://localhost:8080/",
          "height": 111
        },
        "id": "tAxJ_Z8rdqvB",
        "outputId": "2370c5e8-159f-4076-fc2a-75fb638221b0"
      },
      "source": [
        "july_belo.query('Correlation>0').corr()"
      ],
      "execution_count": null,
      "outputs": [
        {
          "output_type": "execute_result",
          "data": {
            "text/html": [
              "<div>\n",
              "<style scoped>\n",
              "    .dataframe tbody tr th:only-of-type {\n",
              "        vertical-align: middle;\n",
              "    }\n",
              "\n",
              "    .dataframe tbody tr th {\n",
              "        vertical-align: top;\n",
              "    }\n",
              "\n",
              "    .dataframe thead th {\n",
              "        text-align: right;\n",
              "    }\n",
              "</style>\n",
              "<table border=\"1\" class=\"dataframe\">\n",
              "  <thead>\n",
              "    <tr style=\"text-align: right;\">\n",
              "      <th></th>\n",
              "      <th>Correlation</th>\n",
              "      <th>Agg_total_plant_MWh_x</th>\n",
              "    </tr>\n",
              "  </thead>\n",
              "  <tbody>\n",
              "    <tr>\n",
              "      <th>Correlation</th>\n",
              "      <td>1.000000</td>\n",
              "      <td>-0.792632</td>\n",
              "    </tr>\n",
              "    <tr>\n",
              "      <th>Agg_total_plant_MWh_x</th>\n",
              "      <td>-0.792632</td>\n",
              "      <td>1.000000</td>\n",
              "    </tr>\n",
              "  </tbody>\n",
              "</table>\n",
              "</div>"
            ],
            "text/plain": [
              "                       Correlation  Agg_total_plant_MWh_x\n",
              "Correlation               1.000000              -0.792632\n",
              "Agg_total_plant_MWh_x    -0.792632               1.000000"
            ]
          },
          "metadata": {},
          "execution_count": 60
        }
      ]
    },
    {
      "cell_type": "code",
      "metadata": {
        "colab": {
          "base_uri": "https://localhost:8080/",
          "height": 295
        },
        "id": "DhdFQbfKcGRJ",
        "outputId": "3ae2f956-1c98-4862-b6b7-2e09627a8b03"
      },
      "source": [
        "plt.scatter(july_belo.query('Correlation>0')['Agg_total_plant_MWh_x'],july_belo.query('Correlation>0')['Correlation'])"
      ],
      "execution_count": null,
      "outputs": [
        {
          "output_type": "execute_result",
          "data": {
            "text/plain": [
              "<matplotlib.collections.PathCollection at 0x7f7b777a4b50>"
            ]
          },
          "metadata": {},
          "execution_count": 61
        },
        {
          "output_type": "display_data",
          "data": {
            "image/png": "[encoded data removed]",
            "text/plain": [
              "<Figure size 432x288 with 1 Axes>"
            ]
          },
          "metadata": {
            "needs_background": "light"
          }
        }
      ]
    },
    {
      "cell_type": "code",
      "metadata": {
        "colab": {
          "base_uri": "https://localhost:8080/",
          "height": 295
        },
        "id": "MHQ8ZiLHhnuW",
        "outputId": "0f2cc84b-4340-41c5-e961-c59a3ef87c8a"
      },
      "source": [
        "reg = temp_corr_dfs[2].groupby(by='State').mean().reset_index()[['State','Correlation']]\n",
        "regular = pd.merge(reg,mean_by_state['Agg_total_plant_MWh_x'].reset_index(),on='State')\n",
        "plt.scatter(regular['Agg_total_plant_MWh_x'],regular['Correlation'])"
      ],
      "execution_count": null,
      "outputs": [
        {
          "output_type": "execute_result",
          "data": {
            "text/plain": [
              "<matplotlib.collections.PathCollection at 0x7f7b7752c510>"
            ]
          },
          "metadata": {},
          "execution_count": 71
        },
        {
          "output_type": "display_data",
          "data": {
            "image/png": "[encoded data removed]",
            "text/plain": [
              "<Figure size 432x288 with 1 Axes>"
            ]
          },
          "metadata": {
            "needs_background": "light"
          }
        }
      ]
    },
    {
      "cell_type": "code",
      "metadata": {
        "colab": {
          "base_uri": "https://localhost:8080/",
          "height": 282
        },
        "id": "HkWXk-_3idfn",
        "outputId": "d63ef57e-6ab6-46bf-c03c-e6cf61e29768"
      },
      "source": [
        "reg = temp_corr_dfs[10].groupby(by='State').mean().reset_index()[['State','Correlation']]\n",
        "regular = pd.merge(reg,mean_by_state['Percent Hydroelectric'].reset_index(),on='State')\n",
        "plt.scatter(regular['Percent Hydroelectric'],regular['Correlation'])"
      ],
      "execution_count": null,
      "outputs": [
        {
          "output_type": "execute_result",
          "data": {
            "text/plain": [
              "<matplotlib.collections.PathCollection at 0x7f7b7742b3d0>"
            ]
          },
          "metadata": {},
          "execution_count": 73
        },
        {
          "output_type": "display_data",
          "data": {
            "image/png": "[encoded data removed]",
            "text/plain": [
              "<Figure size 432x288 with 1 Axes>"
            ]
          },
          "metadata": {
            "needs_background": "light"
          }
        }
      ]
    },
    {
      "cell_type": "code",
      "metadata": {
        "id": "uiQvmwY6beL1"
      },
      "source": [
        "# this function takes in a dataframe of the correlations and then groups it by state, getting the mean correlation\n",
        "def find_correlations(correlations_df, merged_data_state):\n",
        "  corrs_by_state = correlations_df.groupby(by='State').mean()\n",
        "  merged_data_all = pd.merge(merged_data_state,corrs_by_state,on='State')\n",
        "  pos_corrs = merged_data_all.copy()[merged_data_all['Correlation']>=0]\n",
        "  neg_corrs = merged_data_all.copy()[merged_data_all['Correlation']<0]\n",
        "  top_pos_corrs = list(pos_corrs.corr()['Correlation'].abs().sort_values(ascending=False)[1:6])\n",
        "  top_pos_corrs_names = list(pos_corrs.corr()['Correlation'].abs().sort_values(ascending=False)[1:6].index)\n",
        "  top_neg_corrs = list(neg_corrs.corr()['Correlation'].abs().sort_values(ascending=False)[1:6])\n",
        "  top_neg_corrs_names = list(neg_corrs.corr()['Correlation'].abs().sort_values(ascending=False)[1:6].index)\n",
        "  return (top_pos_corrs, top_neg_corrs, top_pos_corrs_names, top_neg_corrs_names)"
      ],
      "execution_count": null,
      "outputs": []
    },
    {
      "cell_type": "markdown",
      "metadata": {
        "id": "MVas42EKoSuJ"
      },
      "source": [
        "# Now I want to quickly look at how much correlation there is in target_COV and a states temperature/drought summary data"
      ]
    },
    {
      "cell_type": "code",
      "metadata": {
        "id": "L7T6jK5woZNg"
      },
      "source": [
        "merged_state_data = pd.merge(all_data_state,target_COV,on=['Year','State'],how='outer')"
      ],
      "execution_count": null,
      "outputs": []
    },
    {
      "cell_type": "code",
      "metadata": {
        "colab": {
          "base_uri": "https://localhost:8080/"
        },
        "id": "2pO4qZHlrTRK",
        "outputId": "8607e52e-5d1f-4d0d-f3e2-e9a19b3ff8e3"
      },
      "source": [
        "merged_state_data.shape"
      ],
      "execution_count": null,
      "outputs": [
        {
          "output_type": "execute_result",
          "data": {
            "text/plain": [
              "(1049, 79)"
            ]
          },
          "metadata": {},
          "execution_count": 184
        }
      ]
    },
    {
      "cell_type": "code",
      "metadata": {
        "colab": {
          "base_uri": "https://localhost:8080/"
        },
        "id": "DLl6QWFvoqlb",
        "outputId": "25bc3093-bb81-478f-ae2b-05b79b0cc9c8"
      },
      "source": [
        "merged_state_data.corr()['target_COV'].sort_values()"
      ],
      "execution_count": null,
      "outputs": [
        {
          "output_type": "execute_result",
          "data": {
            "text/plain": [
              "Unnamed: 0                    -0.172024\n",
              "y                             -0.163345\n",
              "Temp Standard Deviations 10   -0.128133\n",
              "Year                          -0.115905\n",
              "Standardized Temp 2           -0.100135\n",
              "                                 ...   \n",
              "PDSI Averages 12               0.255087\n",
              "Temp Averages 6                0.260677\n",
              "Temp Averages 8                0.282480\n",
              "Temp Averages 7                0.292944\n",
              "target_COV                     1.000000\n",
              "Name: target_COV, Length: 78, dtype: float64"
            ]
          },
          "metadata": {},
          "execution_count": 185
        }
      ]
    },
    {
      "cell_type": "code",
      "metadata": {
        "colab": {
          "base_uri": "https://localhost:8080/",
          "height": 282
        },
        "id": "DXr8EJyiqhM3",
        "outputId": "b0f36038-7ca4-4698-d24a-f10a5508a25b"
      },
      "source": [
        "plt.scatter(merged_state_data.query('target_COV<0.175')['Temp Averages 7'],merged_state_data.query('target_COV<0.175')['target_COV'],s=1)"
      ],
      "execution_count": null,
      "outputs": [
        {
          "output_type": "execute_result",
          "data": {
            "text/plain": [
              "<matplotlib.collections.PathCollection at 0x7f5a9b0ca650>"
            ]
          },
          "metadata": {},
          "execution_count": 186
        },
        {
          "output_type": "display_data",
          "data": {
            "image/png": "[encoded data removed]",
            "text/plain": [
              "<Figure size 432x288 with 1 Axes>"
            ]
          },
          "metadata": {
            "needs_background": "light"
          }
        }
      ]
    },
    {
      "cell_type": "markdown",
      "metadata": {
        "id": "c47y2XpsVqp-"
      },
      "source": [
        "# Train Linear Regression Model to Predict the correlations"
      ]
    },
    {
      "cell_type": "code",
      "metadata": {
        "id": "yey-Hw2ZqGWh"
      },
      "source": [
        "below_temp_corr_merged = pd.merge(below_pdsi_corr_dfs[8].copy().groupby(by='State').mean(),mean_by_state.reset_index(),on='State')"
      ],
      "execution_count": null,
      "outputs": []
    },
    {
      "cell_type": "code",
      "metadata": {
        "colab": {
          "base_uri": "https://localhost:8080/"
        },
        "id": "Juiljt50ZowT",
        "outputId": "5a43b4bd-62d7-4444-e451-b712620365a6"
      },
      "source": [
        "below_temp_corr_merged.columns"
      ],
      "execution_count": null,
      "outputs": [
        {
          "output_type": "execute_result",
          "data": {
            "text/plain": [
              "Index(['State', 'Unnamed: 0', 'x', 'y', 'Correlation', 'Year',\n",
              "       'COM_percapita_mean_kWh_electricacc',\n",
              "       'RES_percapita_mean_kWh_electricacc', 'COM_percapita_mean_kWh_statepop',\n",
              "       'RES_percapita_mean_kWh_statepop', 'Agg_total_plant_MWh_x',\n",
              "       'Agg_total_plant_count_x', 'Percent Coal', 'Percent Wind',\n",
              "       'Percent Batteries', 'Percent Solar', 'Percent Other',\n",
              "       'Percent Oil Gas', 'Percent Nuclear', 'Percent Natural Gas',\n",
              "       'Percent Municipal Waste', 'Percent Hydroelectric',\n",
              "       'Percent Geothermal', 'Percent Biomass'],\n",
              "      dtype='object')"
            ]
          },
          "metadata": {},
          "execution_count": 72
        }
      ]
    },
    {
      "cell_type": "code",
      "metadata": {
        "id": "CQ80K0NcY991"
      },
      "source": [
        "y = below_temp_corr_merged.copy()['Correlation']\n",
        "x = below_temp_corr_merged.copy()\n",
        "del x['Correlation']\n",
        "del x['Year']\n",
        "del x['Unnamed: 0']\n",
        "del x['State']"
      ],
      "execution_count": null,
      "outputs": []
    },
    {
      "cell_type": "code",
      "metadata": {
        "id": "6o-4dI9UaDM3"
      },
      "source": [
        "import statsmodels.api as sm"
      ],
      "execution_count": null,
      "outputs": []
    },
    {
      "cell_type": "code",
      "metadata": {
        "id": "u2CGoGxiZeMJ"
      },
      "source": [
        "# fit with everything\n",
        "all_model = sm.OLS(y.astype(float), x.astype(float))\n",
        "all_res = all_model.fit()"
      ],
      "execution_count": null,
      "outputs": []
    },
    {
      "cell_type": "code",
      "metadata": {
        "colab": {
          "base_uri": "https://localhost:8080/",
          "height": 871
        },
        "id": "yVg52K-_aKxr",
        "outputId": "36fc9591-b714-47a5-c3c4-7e572f9f1e13"
      },
      "source": [
        "all_res.summary()"
      ],
      "execution_count": null,
      "outputs": [
        {
          "output_type": "execute_result",
          "data": {
            "text/html": [
              "<table class=\"simpletable\">\n",
              "<caption>OLS Regression Results</caption>\n",
              "<tr>\n",
              "  <th>Dep. Variable:</th>       <td>Correlation</td>   <th>  R-squared:         </th> <td>   0.479</td>\n",
              "</tr>\n",
              "<tr>\n",
              "  <th>Model:</th>                   <td>OLS</td>       <th>  Adj. R-squared:    </th> <td>   0.149</td>\n",
              "</tr>\n",
              "<tr>\n",
              "  <th>Method:</th>             <td>Least Squares</td>  <th>  F-statistic:       </th> <td>   1.451</td>\n",
              "</tr>\n",
              "<tr>\n",
              "  <th>Date:</th>             <td>Tue, 23 Nov 2021</td> <th>  Prob (F-statistic):</th>  <td> 0.176</td> \n",
              "</tr>\n",
              "<tr>\n",
              "  <th>Time:</th>                 <td>01:33:13</td>     <th>  Log-Likelihood:    </th> <td>  11.320</td>\n",
              "</tr>\n",
              "<tr>\n",
              "  <th>No. Observations:</th>      <td>    50</td>      <th>  AIC:               </th> <td>   17.36</td>\n",
              "</tr>\n",
              "<tr>\n",
              "  <th>Df Residuals:</th>          <td>    30</td>      <th>  BIC:               </th> <td>   55.60</td>\n",
              "</tr>\n",
              "<tr>\n",
              "  <th>Df Model:</th>              <td>    19</td>      <th>                     </th>     <td> </td>   \n",
              "</tr>\n",
              "<tr>\n",
              "  <th>Covariance Type:</th>      <td>nonrobust</td>    <th>                     </th>     <td> </td>   \n",
              "</tr>\n",
              "</table>\n",
              "<table class=\"simpletable\">\n",
              "<tr>\n",
              "                   <td></td>                     <th>coef</th>     <th>std err</th>      <th>t</th>      <th>P>|t|</th>  <th>[0.025</th>    <th>0.975]</th>  \n",
              "</tr>\n",
              "<tr>\n",
              "  <th>x</th>                                  <td>   -0.0098</td> <td>    0.005</td> <td>   -1.925</td> <td> 0.064</td> <td>   -0.020</td> <td>    0.001</td>\n",
              "</tr>\n",
              "<tr>\n",
              "  <th>y</th>                                  <td>    0.0137</td> <td>    0.012</td> <td>    1.165</td> <td> 0.253</td> <td>   -0.010</td> <td>    0.038</td>\n",
              "</tr>\n",
              "<tr>\n",
              "  <th>COM_percapita_mean_kWh_electricacc</th> <td>   -0.5606</td> <td>    3.230</td> <td>   -0.174</td> <td> 0.863</td> <td>   -7.157</td> <td>    6.036</td>\n",
              "</tr>\n",
              "<tr>\n",
              "  <th>RES_percapita_mean_kWh_electricacc</th> <td>    9.1178</td> <td>   17.592</td> <td>    0.518</td> <td> 0.608</td> <td>  -26.810</td> <td>   45.046</td>\n",
              "</tr>\n",
              "<tr>\n",
              "  <th>COM_percapita_mean_kWh_statepop</th>    <td>   -0.4440</td> <td>    0.984</td> <td>   -0.451</td> <td> 0.655</td> <td>   -2.454</td> <td>    1.566</td>\n",
              "</tr>\n",
              "<tr>\n",
              "  <th>RES_percapita_mean_kWh_statepop</th>    <td>   -0.3432</td> <td>    1.048</td> <td>   -0.327</td> <td> 0.746</td> <td>   -2.484</td> <td>    1.798</td>\n",
              "</tr>\n",
              "<tr>\n",
              "  <th>Agg_total_plant_MWh_x</th>              <td> 8.854e-10</td> <td> 1.01e-09</td> <td>    0.876</td> <td> 0.388</td> <td>-1.18e-09</td> <td> 2.95e-09</td>\n",
              "</tr>\n",
              "<tr>\n",
              "  <th>Agg_total_plant_count_x</th>            <td> -3.89e-05</td> <td> 4.19e-05</td> <td>   -0.929</td> <td> 0.360</td> <td>   -0.000</td> <td> 4.66e-05</td>\n",
              "</tr>\n",
              "<tr>\n",
              "  <th>Percent Coal</th>                       <td>   -1.5853</td> <td>    0.817</td> <td>   -1.941</td> <td> 0.062</td> <td>   -3.253</td> <td>    0.083</td>\n",
              "</tr>\n",
              "<tr>\n",
              "  <th>Percent Wind</th>                       <td>    0.6438</td> <td>    1.296</td> <td>    0.497</td> <td> 0.623</td> <td>   -2.004</td> <td>    3.292</td>\n",
              "</tr>\n",
              "<tr>\n",
              "  <th>Percent Batteries</th>                  <td> 3325.4979</td> <td> 2854.544</td> <td>    1.165</td> <td> 0.253</td> <td>-2504.259</td> <td> 9155.254</td>\n",
              "</tr>\n",
              "<tr>\n",
              "  <th>Percent Solar</th>                      <td>    0.3318</td> <td>   12.214</td> <td>    0.027</td> <td> 0.979</td> <td>  -24.612</td> <td>   25.275</td>\n",
              "</tr>\n",
              "<tr>\n",
              "  <th>Percent Other</th>                      <td>   25.7567</td> <td>   25.456</td> <td>    1.012</td> <td> 0.320</td> <td>  -26.231</td> <td>   77.745</td>\n",
              "</tr>\n",
              "<tr>\n",
              "  <th>Percent Oil Gas</th>                    <td>   -1.1709</td> <td>    1.720</td> <td>   -0.681</td> <td> 0.501</td> <td>   -4.683</td> <td>    2.341</td>\n",
              "</tr>\n",
              "<tr>\n",
              "  <th>Percent Nuclear</th>                    <td>   -0.9246</td> <td>    0.877</td> <td>   -1.055</td> <td> 0.300</td> <td>   -2.715</td> <td>    0.866</td>\n",
              "</tr>\n",
              "<tr>\n",
              "  <th>Percent Natural Gas</th>                <td>   -1.3023</td> <td>    0.897</td> <td>   -1.452</td> <td> 0.157</td> <td>   -3.135</td> <td>    0.530</td>\n",
              "</tr>\n",
              "<tr>\n",
              "  <th>Percent Municipal Waste</th>            <td>    2.8621</td> <td>    7.590</td> <td>    0.377</td> <td> 0.709</td> <td>  -12.638</td> <td>   18.362</td>\n",
              "</tr>\n",
              "<tr>\n",
              "  <th>Percent Hydroelectric</th>              <td>   -2.2277</td> <td>    1.065</td> <td>   -2.092</td> <td> 0.045</td> <td>   -4.403</td> <td>   -0.053</td>\n",
              "</tr>\n",
              "<tr>\n",
              "  <th>Percent Geothermal</th>                 <td>   -3.3426</td> <td>    6.717</td> <td>   -0.498</td> <td> 0.622</td> <td>  -17.061</td> <td>   10.375</td>\n",
              "</tr>\n",
              "<tr>\n",
              "  <th>Percent Biomass</th>                    <td>    1.8612</td> <td>    1.830</td> <td>    1.017</td> <td> 0.317</td> <td>   -1.877</td> <td>    5.599</td>\n",
              "</tr>\n",
              "</table>\n",
              "<table class=\"simpletable\">\n",
              "<tr>\n",
              "  <th>Omnibus:</th>       <td> 1.710</td> <th>  Durbin-Watson:     </th> <td>   2.094</td>\n",
              "</tr>\n",
              "<tr>\n",
              "  <th>Prob(Omnibus):</th> <td> 0.425</td> <th>  Jarque-Bera (JB):  </th> <td>   1.080</td>\n",
              "</tr>\n",
              "<tr>\n",
              "  <th>Skew:</th>          <td>-0.348</td> <th>  Prob(JB):          </th> <td>   0.583</td>\n",
              "</tr>\n",
              "<tr>\n",
              "  <th>Kurtosis:</th>      <td> 3.187</td> <th>  Cond. No.          </th> <td>8.09e+12</td>\n",
              "</tr>\n",
              "</table><br/><br/>Warnings:<br/>[1] Standard Errors assume that the covariance matrix of the errors is correctly specified.<br/>[2] The condition number is large, 8.09e+12. This might indicate that there are<br/>strong multicollinearity or other numerical problems."
            ],
            "text/plain": [
              "<class 'statsmodels.iolib.summary.Summary'>\n",
              "\"\"\"\n",
              "                            OLS Regression Results                            \n",
              "==============================================================================\n",
              "Dep. Variable:            Correlation   R-squared:                       0.479\n",
              "Model:                            OLS   Adj. R-squared:                  0.149\n",
              "Method:                 Least Squares   F-statistic:                     1.451\n",
              "Date:                Tue, 23 Nov 2021   Prob (F-statistic):              0.176\n",
              "Time:                        01:33:13   Log-Likelihood:                 11.320\n",
              "No. Observations:                  50   AIC:                             17.36\n",
              "Df Residuals:                      30   BIC:                             55.60\n",
              "Df Model:                          19                                         \n",
              "Covariance Type:            nonrobust                                         \n",
              "======================================================================================================\n",
              "                                         coef    std err          t      P>|t|      [0.025      0.975]\n",
              "------------------------------------------------------------------------------------------------------\n",
              "x                                     -0.0098      0.005     -1.925      0.064      -0.020       0.001\n",
              "y                                      0.0137      0.012      1.165      0.253      -0.010       0.038\n",
              "COM_percapita_mean_kWh_electricacc    -0.5606      3.230     -0.174      0.863      -7.157       6.036\n",
              "RES_percapita_mean_kWh_electricacc     9.1178     17.592      0.518      0.608     -26.810      45.046\n",
              "COM_percapita_mean_kWh_statepop       -0.4440      0.984     -0.451      0.655      -2.454       1.566\n",
              "RES_percapita_mean_kWh_statepop       -0.3432      1.048     -0.327      0.746      -2.484       1.798\n",
              "Agg_total_plant_MWh_x               8.854e-10   1.01e-09      0.876      0.388   -1.18e-09    2.95e-09\n",
              "Agg_total_plant_count_x             -3.89e-05   4.19e-05     -0.929      0.360      -0.000    4.66e-05\n",
              "Percent Coal                          -1.5853      0.817     -1.941      0.062      -3.253       0.083\n",
              "Percent Wind                           0.6438      1.296      0.497      0.623      -2.004       3.292\n",
              "Percent Batteries                   3325.4979   2854.544      1.165      0.253   -2504.259    9155.254\n",
              "Percent Solar                          0.3318     12.214      0.027      0.979     -24.612      25.275\n",
              "Percent Other                         25.7567     25.456      1.012      0.320     -26.231      77.745\n",
              "Percent Oil Gas                       -1.1709      1.720     -0.681      0.501      -4.683       2.341\n",
              "Percent Nuclear                       -0.9246      0.877     -1.055      0.300      -2.715       0.866\n",
              "Percent Natural Gas                   -1.3023      0.897     -1.452      0.157      -3.135       0.530\n",
              "Percent Municipal Waste                2.8621      7.590      0.377      0.709     -12.638      18.362\n",
              "Percent Hydroelectric                 -2.2277      1.065     -2.092      0.045      -4.403      -0.053\n",
              "Percent Geothermal                    -3.3426      6.717     -0.498      0.622     -17.061      10.375\n",
              "Percent Biomass                        1.8612      1.830      1.017      0.317      -1.877       5.599\n",
              "==============================================================================\n",
              "Omnibus:                        1.710   Durbin-Watson:                   2.094\n",
              "Prob(Omnibus):                  0.425   Jarque-Bera (JB):                1.080\n",
              "Skew:                          -0.348   Prob(JB):                        0.583\n",
              "Kurtosis:                       3.187   Cond. No.                     8.09e+12\n",
              "==============================================================================\n",
              "\n",
              "Warnings:\n",
              "[1] Standard Errors assume that the covariance matrix of the errors is correctly specified.\n",
              "[2] The condition number is large, 8.09e+12. This might indicate that there are\n",
              "strong multicollinearity or other numerical problems.\n",
              "\"\"\""
            ]
          },
          "metadata": {},
          "execution_count": 76
        }
      ]
    },
    {
      "cell_type": "code",
      "metadata": {
        "id": "K-QbPnKbaPV_"
      },
      "source": [
        ""
      ],
      "execution_count": null,
      "outputs": []
    }
  ]
}